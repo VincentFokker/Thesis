{
 "cells": [
  {
   "cell_type": "code",
   "execution_count": 34,
   "metadata": {},
   "outputs": [],
   "source": [
    "import rl.environments\n",
    "from os.path import join\n",
    "from stable_baselines import PPO2\n",
    "from stable_baselines.common.vec_env import DummyVecEnv\n",
    "import yaml, pathlib\n",
    "import numpy as np\n",
    "import pandas as pd\n",
    "import matplotlib.pyplot as plt\n",
    "\n",
    "path = pathlib.Path().absolute()\n",
    "\n",
    "#for the different designs without imitation learning upfront\n",
    "to_combine=[\n",
    "    ['ConveyorEnv12','20210112_1530'], #1x2\n",
    "    ['ConveyorEnv12','20210112_1445'], #2x2\n",
    "    ['ConveyorEnv12','20210112_1600'], #2x3\n",
    "    ['ConveyorEnv12','20210112_1700'], #3x3\n",
    "    ['ConveyorEnv12','20210112_1800'], #4x3\n",
    "    ['ConveyorEnv12','20210112_1900']  #5x3\n",
    "]\n",
    "\n",
    "#  different designs, with imitation learning upfront\n",
    "# to_combine=[\n",
    "#     ['ConveyorEnv12','20210113_0000'], #2x2\n",
    "#     ['ConveyorEnv12','20210113_0100'], #2x3\n",
    "#     ['ConveyorEnv12','20210113_0200'], #2x3\n",
    "#     ['ConveyorEnv12','20210113_0300'], #3x3\n",
    "#     ['ConveyorEnv12','20210113_0400'], #4x3\n",
    "#     ['ConveyorEnv12','20210113_0500']  #5x3\n",
    "# ]\n",
    "\n",
    "## For the buffer size\n",
    "# to_combine=[\n",
    "#     ['ConveyorEnv1','20201217_1400'], #1\n",
    "#     ['ConveyorEnv1','20201217_1500'], #2\n",
    "#     ['ConveyorEnv1','20201217_1600'], #3\n",
    "#     ['ConveyorEnv1','20201217_1700'], #4\n",
    "#     ['ConveyorEnv1','20201217_1800'], #5\n",
    "#     ['ConveyorEnv1','20201217_1900'], #6\n",
    "#     ['ConveyorEnv1','20201217_2000'], #7\n",
    "#     ['ConveyorEnv1','20201217_2100'], #8\n",
    "#     ['ConveyorEnv1','20201217_2200'], #9\n",
    "#     ['ConveyorEnv1','20201217_2300'] #10\n",
    "    \n",
    "# ]\n",
    "\n",
    "# For the pipeline\n",
    "# to_combine=[\n",
    "#     ['ConveyorEnv121', '20210113_0500'],  # pipe10\n",
    "#     ['ConveyorEnv121', '20210113_0530'],  # pipe15\n",
    "#     ['ConveyorEnv121', '20210113_0600'],  # pipe20\n",
    "#     ['ConveyorEnv121', '20210113_0630'],  # pipe25\n",
    "#     ['ConveyorEnv121', '20210113_0700'],  # pipe30\n",
    "#     ['ConveyorEnv121', '20210113_0730'],  # pipe35\n",
    "#     ['ConveyorEnv121', '20210113_0800'],  # pipe40\n",
    "#     ['ConveyorEnv121', '20210113_0830'],  # pipe45\n",
    "#     ['ConveyorEnv121', '20210113_0900']   # pipe50\n",
    "# ]"
   ]
  },
  {
   "cell_type": "code",
   "execution_count": 35,
   "metadata": {},
   "outputs": [
    {
     "name": "stderr",
     "output_type": "stream",
     "text": [
      "D:\\Drive\\git\\venv\\fresh\\lib\\site-packages\\ipykernel_launcher.py:15: YAMLLoadWarning:\n",
      "\n",
      "calling yaml.load() without Loader=... is deprecated, as the default Loader is unsafe. Please read https://msg.pyyaml.org/load for full details.\n",
      "\n"
     ]
    },
    {
     "name": "stdout",
     "output_type": "stream",
     "text": [
      "\n",
      "Loaded config file from: D:\\Drive\\git\\RL\\rl\\trained_models\\ConveyorEnv12\\20210112_0100\\config.yml\n",
      "\n"
     ]
    },
    {
     "name": "stderr",
     "output_type": "stream",
     "text": [
      "WARNING:tensorflow:Entity <bound method Flatten.call of <tensorflow.python.layers.core.Flatten object at 0x0000023955864128>> could not be transformed and will be executed as-is. Please report this to the AutgoGraph team. When filing the bug, set the verbosity to 10 (on Linux, `export AUTOGRAPH_VERBOSITY=10`) and attach the full output. Cause: converting <bound method Flatten.call of <tensorflow.python.layers.core.Flatten object at 0x0000023955864128>>: AttributeError: module 'gast' has no attribute 'Index'\n",
      "WARNING:tensorflow:Entity <bound method Flatten.call of <tensorflow.python.layers.core.Flatten object at 0x0000023955C57D68>> could not be transformed and will be executed as-is. Please report this to the AutgoGraph team. When filing the bug, set the verbosity to 10 (on Linux, `export AUTOGRAPH_VERBOSITY=10`) and attach the full output. Cause: converting <bound method Flatten.call of <tensorflow.python.layers.core.Flatten object at 0x0000023955C57D68>>: AttributeError: module 'gast' has no attribute 'Index'\n"
     ]
    },
    {
     "name": "stdout",
     "output_type": "stream",
     "text": [
      "WARNING: Entity <bound method Flatten.call of <tensorflow.python.layers.core.Flatten object at 0x0000023955864128>> could not be transformed and will be executed as-is. Please report this to the AutgoGraph team. When filing the bug, set the verbosity to 10 (on Linux, `export AUTOGRAPH_VERBOSITY=10`) and attach the full output. Cause: converting <bound method Flatten.call of <tensorflow.python.layers.core.Flatten object at 0x0000023955864128>>: AttributeError: module 'gast' has no attribute 'Index'\n",
      "WARNING: Entity <bound method Flatten.call of <tensorflow.python.layers.core.Flatten object at 0x0000023955C57D68>> could not be transformed and will be executed as-is. Please report this to the AutgoGraph team. When filing the bug, set the verbosity to 10 (on Linux, `export AUTOGRAPH_VERBOSITY=10`) and attach the full output. Cause: converting <bound method Flatten.call of <tensorflow.python.layers.core.Flatten object at 0x0000023955C57D68>>: AttributeError: module 'gast' has no attribute 'Index'\n",
      "Ep:   100, steps:  82, R: 9.0000\r"
     ]
    },
    {
     "name": "stderr",
     "output_type": "stream",
     "text": [
      "D:\\Drive\\git\\venv\\fresh\\lib\\site-packages\\ipykernel_launcher.py:15: YAMLLoadWarning:\n",
      "\n",
      "calling yaml.load() without Loader=... is deprecated, as the default Loader is unsafe. Please read https://msg.pyyaml.org/load for full details.\n",
      "\n"
     ]
    },
    {
     "name": "stdout",
     "output_type": "stream",
     "text": [
      "\n",
      "Loaded config file from: D:\\Drive\\git\\RL\\rl\\trained_models\\ConveyorEnv12\\20210112_0200\\config.yml\n",
      "\n"
     ]
    },
    {
     "name": "stderr",
     "output_type": "stream",
     "text": [
      "WARNING:tensorflow:Entity <bound method Flatten.call of <tensorflow.python.layers.core.Flatten object at 0x0000023968C87B70>> could not be transformed and will be executed as-is. Please report this to the AutgoGraph team. When filing the bug, set the verbosity to 10 (on Linux, `export AUTOGRAPH_VERBOSITY=10`) and attach the full output. Cause: converting <bound method Flatten.call of <tensorflow.python.layers.core.Flatten object at 0x0000023968C87B70>>: AttributeError: module 'gast' has no attribute 'Index'\n",
      "WARNING:tensorflow:Entity <bound method Flatten.call of <tensorflow.python.layers.core.Flatten object at 0x000002395634AB70>> could not be transformed and will be executed as-is. Please report this to the AutgoGraph team. When filing the bug, set the verbosity to 10 (on Linux, `export AUTOGRAPH_VERBOSITY=10`) and attach the full output. Cause: converting <bound method Flatten.call of <tensorflow.python.layers.core.Flatten object at 0x000002395634AB70>>: AttributeError: module 'gast' has no attribute 'Index'\n"
     ]
    },
    {
     "name": "stdout",
     "output_type": "stream",
     "text": [
      "WARNING: Entity <bound method Flatten.call of <tensorflow.python.layers.core.Flatten object at 0x0000023968C87B70>> could not be transformed and will be executed as-is. Please report this to the AutgoGraph team. When filing the bug, set the verbosity to 10 (on Linux, `export AUTOGRAPH_VERBOSITY=10`) and attach the full output. Cause: converting <bound method Flatten.call of <tensorflow.python.layers.core.Flatten object at 0x0000023968C87B70>>: AttributeError: module 'gast' has no attribute 'Index'\n",
      "WARNING: Entity <bound method Flatten.call of <tensorflow.python.layers.core.Flatten object at 0x000002395634AB70>> could not be transformed and will be executed as-is. Please report this to the AutgoGraph team. When filing the bug, set the verbosity to 10 (on Linux, `export AUTOGRAPH_VERBOSITY=10`) and attach the full output. Cause: converting <bound method Flatten.call of <tensorflow.python.layers.core.Flatten object at 0x000002395634AB70>>: AttributeError: module 'gast' has no attribute 'Index'\n",
      "Ep:   100, steps:  94, R: 18.000\n",
      "Loaded config file from: D:\\Drive\\git\\RL\\rl\\trained_models\\ConveyorEnv12\\20210112_0300\\config.yml\n",
      "\n"
     ]
    },
    {
     "name": "stderr",
     "output_type": "stream",
     "text": [
      "D:\\Drive\\git\\venv\\fresh\\lib\\site-packages\\ipykernel_launcher.py:15: YAMLLoadWarning:\n",
      "\n",
      "calling yaml.load() without Loader=... is deprecated, as the default Loader is unsafe. Please read https://msg.pyyaml.org/load for full details.\n",
      "\n",
      "WARNING:tensorflow:Entity <bound method Flatten.call of <tensorflow.python.layers.core.Flatten object at 0x0000023967A99A58>> could not be transformed and will be executed as-is. Please report this to the AutgoGraph team. When filing the bug, set the verbosity to 10 (on Linux, `export AUTOGRAPH_VERBOSITY=10`) and attach the full output. Cause: converting <bound method Flatten.call of <tensorflow.python.layers.core.Flatten object at 0x0000023967A99A58>>: AttributeError: module 'gast' has no attribute 'Index'\n",
      "WARNING:tensorflow:Entity <bound method Flatten.call of <tensorflow.python.layers.core.Flatten object at 0x0000023955BFAAC8>> could not be transformed and will be executed as-is. Please report this to the AutgoGraph team. When filing the bug, set the verbosity to 10 (on Linux, `export AUTOGRAPH_VERBOSITY=10`) and attach the full output. Cause: converting <bound method Flatten.call of <tensorflow.python.layers.core.Flatten object at 0x0000023955BFAAC8>>: AttributeError: module 'gast' has no attribute 'Index'\n"
     ]
    },
    {
     "name": "stdout",
     "output_type": "stream",
     "text": [
      "WARNING: Entity <bound method Flatten.call of <tensorflow.python.layers.core.Flatten object at 0x0000023967A99A58>> could not be transformed and will be executed as-is. Please report this to the AutgoGraph team. When filing the bug, set the verbosity to 10 (on Linux, `export AUTOGRAPH_VERBOSITY=10`) and attach the full output. Cause: converting <bound method Flatten.call of <tensorflow.python.layers.core.Flatten object at 0x0000023967A99A58>>: AttributeError: module 'gast' has no attribute 'Index'\n",
      "WARNING: Entity <bound method Flatten.call of <tensorflow.python.layers.core.Flatten object at 0x0000023955BFAAC8>> could not be transformed and will be executed as-is. Please report this to the AutgoGraph team. When filing the bug, set the verbosity to 10 (on Linux, `export AUTOGRAPH_VERBOSITY=10`) and attach the full output. Cause: converting <bound method Flatten.call of <tensorflow.python.layers.core.Flatten object at 0x0000023955BFAAC8>>: AttributeError: module 'gast' has no attribute 'Index'\n",
      "Ep:   100, steps: 118, R: 33.000\n",
      "Loaded config file from: D:\\Drive\\git\\RL\\rl\\trained_models\\ConveyorEnv12\\20210112_0400\\config.yml\n",
      "\n"
     ]
    },
    {
     "name": "stderr",
     "output_type": "stream",
     "text": [
      "D:\\Drive\\git\\venv\\fresh\\lib\\site-packages\\ipykernel_launcher.py:15: YAMLLoadWarning:\n",
      "\n",
      "calling yaml.load() without Loader=... is deprecated, as the default Loader is unsafe. Please read https://msg.pyyaml.org/load for full details.\n",
      "\n",
      "WARNING:tensorflow:Entity <bound method Flatten.call of <tensorflow.python.layers.core.Flatten object at 0x00000239692E0940>> could not be transformed and will be executed as-is. Please report this to the AutgoGraph team. When filing the bug, set the verbosity to 10 (on Linux, `export AUTOGRAPH_VERBOSITY=10`) and attach the full output. Cause: converting <bound method Flatten.call of <tensorflow.python.layers.core.Flatten object at 0x00000239692E0940>>: AttributeError: module 'gast' has no attribute 'Index'\n",
      "WARNING:tensorflow:Entity <bound method Flatten.call of <tensorflow.python.layers.core.Flatten object at 0x00000239692E00F0>> could not be transformed and will be executed as-is. Please report this to the AutgoGraph team. When filing the bug, set the verbosity to 10 (on Linux, `export AUTOGRAPH_VERBOSITY=10`) and attach the full output. Cause: converting <bound method Flatten.call of <tensorflow.python.layers.core.Flatten object at 0x00000239692E00F0>>: AttributeError: module 'gast' has no attribute 'Index'\n"
     ]
    },
    {
     "name": "stdout",
     "output_type": "stream",
     "text": [
      "WARNING: Entity <bound method Flatten.call of <tensorflow.python.layers.core.Flatten object at 0x00000239692E0940>> could not be transformed and will be executed as-is. Please report this to the AutgoGraph team. When filing the bug, set the verbosity to 10 (on Linux, `export AUTOGRAPH_VERBOSITY=10`) and attach the full output. Cause: converting <bound method Flatten.call of <tensorflow.python.layers.core.Flatten object at 0x00000239692E0940>>: AttributeError: module 'gast' has no attribute 'Index'\n",
      "WARNING: Entity <bound method Flatten.call of <tensorflow.python.layers.core.Flatten object at 0x00000239692E00F0>> could not be transformed and will be executed as-is. Please report this to the AutgoGraph team. When filing the bug, set the verbosity to 10 (on Linux, `export AUTOGRAPH_VERBOSITY=10`) and attach the full output. Cause: converting <bound method Flatten.call of <tensorflow.python.layers.core.Flatten object at 0x00000239692E00F0>>: AttributeError: module 'gast' has no attribute 'Index'\n",
      "Ep:   100, steps:  81, R: 27.000\r"
     ]
    },
    {
     "name": "stderr",
     "output_type": "stream",
     "text": [
      "D:\\Drive\\git\\venv\\fresh\\lib\\site-packages\\ipykernel_launcher.py:15: YAMLLoadWarning:\n",
      "\n",
      "calling yaml.load() without Loader=... is deprecated, as the default Loader is unsafe. Please read https://msg.pyyaml.org/load for full details.\n",
      "\n"
     ]
    },
    {
     "name": "stdout",
     "output_type": "stream",
     "text": [
      "\n",
      "Loaded config file from: D:\\Drive\\git\\RL\\rl\\trained_models\\ConveyorEnv12\\20210112_0500\\config.yml\n",
      "\n"
     ]
    },
    {
     "name": "stderr",
     "output_type": "stream",
     "text": [
      "WARNING:tensorflow:Entity <bound method Flatten.call of <tensorflow.python.layers.core.Flatten object at 0x0000023956C16208>> could not be transformed and will be executed as-is. Please report this to the AutgoGraph team. When filing the bug, set the verbosity to 10 (on Linux, `export AUTOGRAPH_VERBOSITY=10`) and attach the full output. Cause: converting <bound method Flatten.call of <tensorflow.python.layers.core.Flatten object at 0x0000023956C16208>>: AttributeError: module 'gast' has no attribute 'Index'\n",
      "WARNING:tensorflow:Entity <bound method Flatten.call of <tensorflow.python.layers.core.Flatten object at 0x0000023952E00B38>> could not be transformed and will be executed as-is. Please report this to the AutgoGraph team. When filing the bug, set the verbosity to 10 (on Linux, `export AUTOGRAPH_VERBOSITY=10`) and attach the full output. Cause: converting <bound method Flatten.call of <tensorflow.python.layers.core.Flatten object at 0x0000023952E00B38>>: AttributeError: module 'gast' has no attribute 'Index'\n"
     ]
    },
    {
     "name": "stdout",
     "output_type": "stream",
     "text": [
      "WARNING: Entity <bound method Flatten.call of <tensorflow.python.layers.core.Flatten object at 0x0000023956C16208>> could not be transformed and will be executed as-is. Please report this to the AutgoGraph team. When filing the bug, set the verbosity to 10 (on Linux, `export AUTOGRAPH_VERBOSITY=10`) and attach the full output. Cause: converting <bound method Flatten.call of <tensorflow.python.layers.core.Flatten object at 0x0000023956C16208>>: AttributeError: module 'gast' has no attribute 'Index'\n",
      "WARNING: Entity <bound method Flatten.call of <tensorflow.python.layers.core.Flatten object at 0x0000023952E00B38>> could not be transformed and will be executed as-is. Please report this to the AutgoGraph team. When filing the bug, set the verbosity to 10 (on Linux, `export AUTOGRAPH_VERBOSITY=10`) and attach the full output. Cause: converting <bound method Flatten.call of <tensorflow.python.layers.core.Flatten object at 0x0000023952E00B38>>: AttributeError: module 'gast' has no attribute 'Index'\n",
      "Ep:   100, steps: 1441, R: 462.000\r"
     ]
    },
    {
     "name": "stderr",
     "output_type": "stream",
     "text": [
      "D:\\Drive\\git\\venv\\fresh\\lib\\site-packages\\ipykernel_launcher.py:15: YAMLLoadWarning:\n",
      "\n",
      "calling yaml.load() without Loader=... is deprecated, as the default Loader is unsafe. Please read https://msg.pyyaml.org/load for full details.\n",
      "\n"
     ]
    },
    {
     "name": "stdout",
     "output_type": "stream",
     "text": [
      "\n",
      "Loaded config file from: D:\\Drive\\git\\RL\\rl\\trained_models\\ConveyorEnv12\\20210112_1200\\config.yml\n",
      "\n"
     ]
    },
    {
     "name": "stderr",
     "output_type": "stream",
     "text": [
      "WARNING:tensorflow:Entity <bound method Flatten.call of <tensorflow.python.layers.core.Flatten object at 0x00000239631217B8>> could not be transformed and will be executed as-is. Please report this to the AutgoGraph team. When filing the bug, set the verbosity to 10 (on Linux, `export AUTOGRAPH_VERBOSITY=10`) and attach the full output. Cause: converting <bound method Flatten.call of <tensorflow.python.layers.core.Flatten object at 0x00000239631217B8>>: AttributeError: module 'gast' has no attribute 'Index'\n",
      "WARNING:tensorflow:Entity <bound method Flatten.call of <tensorflow.python.layers.core.Flatten object at 0x0000023953B22E10>> could not be transformed and will be executed as-is. Please report this to the AutgoGraph team. When filing the bug, set the verbosity to 10 (on Linux, `export AUTOGRAPH_VERBOSITY=10`) and attach the full output. Cause: converting <bound method Flatten.call of <tensorflow.python.layers.core.Flatten object at 0x0000023953B22E10>>: AttributeError: module 'gast' has no attribute 'Index'\n"
     ]
    },
    {
     "name": "stdout",
     "output_type": "stream",
     "text": [
      "WARNING: Entity <bound method Flatten.call of <tensorflow.python.layers.core.Flatten object at 0x00000239631217B8>> could not be transformed and will be executed as-is. Please report this to the AutgoGraph team. When filing the bug, set the verbosity to 10 (on Linux, `export AUTOGRAPH_VERBOSITY=10`) and attach the full output. Cause: converting <bound method Flatten.call of <tensorflow.python.layers.core.Flatten object at 0x00000239631217B8>>: AttributeError: module 'gast' has no attribute 'Index'\n",
      "WARNING: Entity <bound method Flatten.call of <tensorflow.python.layers.core.Flatten object at 0x0000023953B22E10>> could not be transformed and will be executed as-is. Please report this to the AutgoGraph team. When filing the bug, set the verbosity to 10 (on Linux, `export AUTOGRAPH_VERBOSITY=10`) and attach the full output. Cause: converting <bound method Flatten.call of <tensorflow.python.layers.core.Flatten object at 0x0000023953B22E10>>: AttributeError: module 'gast' has no attribute 'Index'\n",
      "Ep:   100, steps: 1424, R: 444.000\r"
     ]
    },
    {
     "name": "stderr",
     "output_type": "stream",
     "text": [
      "D:\\Drive\\git\\venv\\fresh\\lib\\site-packages\\ipykernel_launcher.py:15: YAMLLoadWarning:\n",
      "\n",
      "calling yaml.load() without Loader=... is deprecated, as the default Loader is unsafe. Please read https://msg.pyyaml.org/load for full details.\n",
      "\n"
     ]
    },
    {
     "name": "stdout",
     "output_type": "stream",
     "text": [
      "\n",
      "Loaded config file from: D:\\Drive\\git\\RL\\rl\\trained_models\\ConveyorEnv12\\20210112_1300\\config.yml\n",
      "\n"
     ]
    },
    {
     "name": "stderr",
     "output_type": "stream",
     "text": [
      "WARNING:tensorflow:Entity <bound method Flatten.call of <tensorflow.python.layers.core.Flatten object at 0x0000023962731438>> could not be transformed and will be executed as-is. Please report this to the AutgoGraph team. When filing the bug, set the verbosity to 10 (on Linux, `export AUTOGRAPH_VERBOSITY=10`) and attach the full output. Cause: converting <bound method Flatten.call of <tensorflow.python.layers.core.Flatten object at 0x0000023962731438>>: AttributeError: module 'gast' has no attribute 'Index'\n",
      "WARNING:tensorflow:Entity <bound method Flatten.call of <tensorflow.python.layers.core.Flatten object at 0x00000239636A0DD8>> could not be transformed and will be executed as-is. Please report this to the AutgoGraph team. When filing the bug, set the verbosity to 10 (on Linux, `export AUTOGRAPH_VERBOSITY=10`) and attach the full output. Cause: converting <bound method Flatten.call of <tensorflow.python.layers.core.Flatten object at 0x00000239636A0DD8>>: AttributeError: module 'gast' has no attribute 'Index'\n"
     ]
    },
    {
     "name": "stdout",
     "output_type": "stream",
     "text": [
      "WARNING: Entity <bound method Flatten.call of <tensorflow.python.layers.core.Flatten object at 0x0000023962731438>> could not be transformed and will be executed as-is. Please report this to the AutgoGraph team. When filing the bug, set the verbosity to 10 (on Linux, `export AUTOGRAPH_VERBOSITY=10`) and attach the full output. Cause: converting <bound method Flatten.call of <tensorflow.python.layers.core.Flatten object at 0x0000023962731438>>: AttributeError: module 'gast' has no attribute 'Index'\n",
      "WARNING: Entity <bound method Flatten.call of <tensorflow.python.layers.core.Flatten object at 0x00000239636A0DD8>> could not be transformed and will be executed as-is. Please report this to the AutgoGraph team. When filing the bug, set the verbosity to 10 (on Linux, `export AUTOGRAPH_VERBOSITY=10`) and attach the full output. Cause: converting <bound method Flatten.call of <tensorflow.python.layers.core.Flatten object at 0x00000239636A0DD8>>: AttributeError: module 'gast' has no attribute 'Index'\n",
      "Ep:   100, steps:  51, R: -78.0000\n",
      "Loaded config file from: D:\\Drive\\git\\RL\\rl\\trained_models\\ConveyorEnv12\\20210112_1400\\config.yml\n",
      "\n"
     ]
    },
    {
     "name": "stderr",
     "output_type": "stream",
     "text": [
      "D:\\Drive\\git\\venv\\fresh\\lib\\site-packages\\ipykernel_launcher.py:15: YAMLLoadWarning:\n",
      "\n",
      "calling yaml.load() without Loader=... is deprecated, as the default Loader is unsafe. Please read https://msg.pyyaml.org/load for full details.\n",
      "\n",
      "WARNING:tensorflow:Entity <bound method Flatten.call of <tensorflow.python.layers.core.Flatten object at 0x0000023967F75978>> could not be transformed and will be executed as-is. Please report this to the AutgoGraph team. When filing the bug, set the verbosity to 10 (on Linux, `export AUTOGRAPH_VERBOSITY=10`) and attach the full output. Cause: converting <bound method Flatten.call of <tensorflow.python.layers.core.Flatten object at 0x0000023967F75978>>: AttributeError: module 'gast' has no attribute 'Index'\n",
      "WARNING:tensorflow:Entity <bound method Flatten.call of <tensorflow.python.layers.core.Flatten object at 0x000002395DB5E160>> could not be transformed and will be executed as-is. Please report this to the AutgoGraph team. When filing the bug, set the verbosity to 10 (on Linux, `export AUTOGRAPH_VERBOSITY=10`) and attach the full output. Cause: converting <bound method Flatten.call of <tensorflow.python.layers.core.Flatten object at 0x000002395DB5E160>>: AttributeError: module 'gast' has no attribute 'Index'\n"
     ]
    },
    {
     "name": "stdout",
     "output_type": "stream",
     "text": [
      "WARNING: Entity <bound method Flatten.call of <tensorflow.python.layers.core.Flatten object at 0x0000023967F75978>> could not be transformed and will be executed as-is. Please report this to the AutgoGraph team. When filing the bug, set the verbosity to 10 (on Linux, `export AUTOGRAPH_VERBOSITY=10`) and attach the full output. Cause: converting <bound method Flatten.call of <tensorflow.python.layers.core.Flatten object at 0x0000023967F75978>>: AttributeError: module 'gast' has no attribute 'Index'\n",
      "WARNING: Entity <bound method Flatten.call of <tensorflow.python.layers.core.Flatten object at 0x000002395DB5E160>> could not be transformed and will be executed as-is. Please report this to the AutgoGraph team. When filing the bug, set the verbosity to 10 (on Linux, `export AUTOGRAPH_VERBOSITY=10`) and attach the full output. Cause: converting <bound method Flatten.call of <tensorflow.python.layers.core.Flatten object at 0x000002395DB5E160>>: AttributeError: module 'gast' has no attribute 'Index'\n",
      "Ep:   100, steps: 292, R: 24.0000\r"
     ]
    },
    {
     "name": "stderr",
     "output_type": "stream",
     "text": [
      "D:\\Drive\\git\\venv\\fresh\\lib\\site-packages\\ipykernel_launcher.py:15: YAMLLoadWarning:\n",
      "\n",
      "calling yaml.load() without Loader=... is deprecated, as the default Loader is unsafe. Please read https://msg.pyyaml.org/load for full details.\n",
      "\n"
     ]
    },
    {
     "name": "stdout",
     "output_type": "stream",
     "text": [
      "\n",
      "Loaded config file from: D:\\Drive\\git\\RL\\rl\\trained_models\\ConveyorEnv12\\20210112_1430\\config.yml\n",
      "\n"
     ]
    },
    {
     "name": "stderr",
     "output_type": "stream",
     "text": [
      "WARNING:tensorflow:Entity <bound method Flatten.call of <tensorflow.python.layers.core.Flatten object at 0x000002395DE23048>> could not be transformed and will be executed as-is. Please report this to the AutgoGraph team. When filing the bug, set the verbosity to 10 (on Linux, `export AUTOGRAPH_VERBOSITY=10`) and attach the full output. Cause: converting <bound method Flatten.call of <tensorflow.python.layers.core.Flatten object at 0x000002395DE23048>>: AttributeError: module 'gast' has no attribute 'Index'\n",
      "WARNING:tensorflow:Entity <bound method Flatten.call of <tensorflow.python.layers.core.Flatten object at 0x0000023961079400>> could not be transformed and will be executed as-is. Please report this to the AutgoGraph team. When filing the bug, set the verbosity to 10 (on Linux, `export AUTOGRAPH_VERBOSITY=10`) and attach the full output. Cause: converting <bound method Flatten.call of <tensorflow.python.layers.core.Flatten object at 0x0000023961079400>>: AttributeError: module 'gast' has no attribute 'Index'\n"
     ]
    },
    {
     "name": "stdout",
     "output_type": "stream",
     "text": [
      "WARNING: Entity <bound method Flatten.call of <tensorflow.python.layers.core.Flatten object at 0x000002395DE23048>> could not be transformed and will be executed as-is. Please report this to the AutgoGraph team. When filing the bug, set the verbosity to 10 (on Linux, `export AUTOGRAPH_VERBOSITY=10`) and attach the full output. Cause: converting <bound method Flatten.call of <tensorflow.python.layers.core.Flatten object at 0x000002395DE23048>>: AttributeError: module 'gast' has no attribute 'Index'\n",
      "WARNING: Entity <bound method Flatten.call of <tensorflow.python.layers.core.Flatten object at 0x0000023961079400>> could not be transformed and will be executed as-is. Please report this to the AutgoGraph team. When filing the bug, set the verbosity to 10 (on Linux, `export AUTOGRAPH_VERBOSITY=10`) and attach the full output. Cause: converting <bound method Flatten.call of <tensorflow.python.layers.core.Flatten object at 0x0000023961079400>>: AttributeError: module 'gast' has no attribute 'Index'\n",
      "Ep:   100, steps: 1345, R: 444.000\r"
     ]
    }
   ],
   "source": [
    "env1, subdir = to_combine[0]\n",
    "episodes = 100\n",
    "#combinations = ['1x2', '2x2', '2x3', '3x3', '4x3', '5x3']\n",
    "#combinations = ['buffersize_{:02d}'.format(i+1) for i in range(11)]\n",
    "#combinations = ['pipeline_{}'.format(i) for i in range(10,55,5)]\n",
    "combinations = [item[1] for item in to_combine]\n",
    "\n",
    "results = {}\n",
    "for idx, combination in enumerate(to_combine):\n",
    "    env1, subdir = combination\n",
    "    # load config and variables needed\n",
    "    location_path= join(path, 'rl', 'trained_models', env1, subdir)\n",
    "    with open(join(location_path, 'config.yml'), 'r') as c:\n",
    "        config = yaml.load(c)\n",
    "        print('\\nLoaded config file from: {}\\n'.format(join(location_path, 'config.yml')))\n",
    "    model_config = config['models']['PPO2']\n",
    "\n",
    "    #initialize env with the config file\n",
    "    env_obj = getattr(rl.environments, env1)\n",
    "    env = env_obj(config)\n",
    " \n",
    "\n",
    "    # load best model from path\n",
    "    model = PPO2.load(join(location_path, 'best_model.zip'), env=DummyVecEnv([lambda: env]))\n",
    "\n",
    "\n",
    "    results[combinations[idx]] = {}\n",
    "    results[combinations[idx]]['configuration'] = '{}x{}'.format(config['environment']['amount_of_gtps'], config['environment']['amount_of_outputs'])\n",
    "    results[combinations[idx]]['gamma'] = config['models']['PPO2']['gamma']\n",
    "    results[combinations[idx]]['idle_time'] = 0\n",
    "    results[combinations[idx]]['cycle_count'] = 0\n",
    "    results[combinations[idx]]['steps'] = 0\n",
    "    results[combinations[idx]]['items_processed'] = 0\n",
    "    results[combinations[idx]]['reward'] = 0\n",
    "\n",
    "    for episode in range(episodes):\n",
    "        # Run an episode\n",
    "        state = env.reset()\n",
    "        done = False\n",
    "        while not done:\n",
    "            action, _ = model.predict(state, deterministic=True)\n",
    "            state, reward, done, tc = env.step(action)\n",
    "            results[combinations[idx]]['reward'] += reward\n",
    "        results[combinations[idx]]['idle_time'] += sum(env.idle_times_operator.values())\n",
    "        results[combinations[idx]]['cycle_count'] += env.cycle_count\n",
    "        results[combinations[idx]]['steps'] += env.steps\n",
    "        results[combinations[idx]]['items_processed'] += env.items_processed\n",
    "        \n",
    "    results[combinations[idx]]['idle_time'] = results[combinations[idx]]['idle_time'] / episodes\n",
    "    results[combinations[idx]]['cycle_count'] = results[combinations[idx]]['cycle_count'] /episodes\n",
    "    results[combinations[idx]]['steps'] = results[combinations[idx]]['steps'] /episodes\n",
    "    results[combinations[idx]]['items_processed'] = results[combinations[idx]]['items_processed'] /episodes\n",
    "    results[combinations[idx]]['reward'] = results[combinations[idx]]['reward'] /episodes"
   ]
  },
  {
   "cell_type": "code",
   "execution_count": 43,
   "metadata": {},
   "outputs": [
    {
     "data": {
      "text/html": [
       "<div>\n",
       "<style scoped>\n",
       "    .dataframe tbody tr th:only-of-type {\n",
       "        vertical-align: middle;\n",
       "    }\n",
       "\n",
       "    .dataframe tbody tr th {\n",
       "        vertical-align: top;\n",
       "    }\n",
       "\n",
       "    .dataframe thead th {\n",
       "        text-align: right;\n",
       "    }\n",
       "</style>\n",
       "<table border=\"1\" class=\"dataframe\">\n",
       "  <thead>\n",
       "    <tr style=\"text-align: right;\">\n",
       "      <th></th>\n",
       "      <th>idle_time</th>\n",
       "      <th>cycle_count</th>\n",
       "      <th>steps</th>\n",
       "      <th>items_processed</th>\n",
       "    </tr>\n",
       "  </thead>\n",
       "  <tbody>\n",
       "    <tr>\n",
       "      <td>buffersize_1</td>\n",
       "      <td>161.13</td>\n",
       "      <td>155.39</td>\n",
       "      <td>1527.55</td>\n",
       "      <td>151.02</td>\n",
       "    </tr>\n",
       "    <tr>\n",
       "      <td>buffersize_2</td>\n",
       "      <td>183.34</td>\n",
       "      <td>125.95</td>\n",
       "      <td>1521.66</td>\n",
       "      <td>151.02</td>\n",
       "    </tr>\n",
       "    <tr>\n",
       "      <td>buffersize_3</td>\n",
       "      <td>39.03</td>\n",
       "      <td>42.35</td>\n",
       "      <td>1460.88</td>\n",
       "      <td>151.03</td>\n",
       "    </tr>\n",
       "    <tr>\n",
       "      <td>buffersize_4</td>\n",
       "      <td>3.82</td>\n",
       "      <td>1.53</td>\n",
       "      <td>1424.48</td>\n",
       "      <td>151.02</td>\n",
       "    </tr>\n",
       "    <tr>\n",
       "      <td>buffersize_5</td>\n",
       "      <td>16.85</td>\n",
       "      <td>4.78</td>\n",
       "      <td>1442.42</td>\n",
       "      <td>151.04</td>\n",
       "    </tr>\n",
       "    <tr>\n",
       "      <td>buffersize_6</td>\n",
       "      <td>0.33</td>\n",
       "      <td>0.57</td>\n",
       "      <td>1430.71</td>\n",
       "      <td>151.04</td>\n",
       "    </tr>\n",
       "    <tr>\n",
       "      <td>buffersize_7</td>\n",
       "      <td>0.00</td>\n",
       "      <td>2.88</td>\n",
       "      <td>1436.79</td>\n",
       "      <td>151.03</td>\n",
       "    </tr>\n",
       "    <tr>\n",
       "      <td>buffersize_8</td>\n",
       "      <td>0.02</td>\n",
       "      <td>2.34</td>\n",
       "      <td>1423.12</td>\n",
       "      <td>151.04</td>\n",
       "    </tr>\n",
       "    <tr>\n",
       "      <td>buffersize_9</td>\n",
       "      <td>0.00</td>\n",
       "      <td>0.55</td>\n",
       "      <td>1444.86</td>\n",
       "      <td>151.01</td>\n",
       "    </tr>\n",
       "    <tr>\n",
       "      <td>buffersize_10</td>\n",
       "      <td>0.00</td>\n",
       "      <td>0.78</td>\n",
       "      <td>1442.44</td>\n",
       "      <td>151.01</td>\n",
       "    </tr>\n",
       "  </tbody>\n",
       "</table>\n",
       "</div>"
      ],
      "text/plain": [
       "               idle_time  cycle_count    steps  items_processed\n",
       "buffersize_1      161.13       155.39  1527.55           151.02\n",
       "buffersize_2      183.34       125.95  1521.66           151.02\n",
       "buffersize_3       39.03        42.35  1460.88           151.03\n",
       "buffersize_4        3.82         1.53  1424.48           151.02\n",
       "buffersize_5       16.85         4.78  1442.42           151.04\n",
       "buffersize_6        0.33         0.57  1430.71           151.04\n",
       "buffersize_7        0.00         2.88  1436.79           151.03\n",
       "buffersize_8        0.02         2.34  1423.12           151.04\n",
       "buffersize_9        0.00         0.55  1444.86           151.01\n",
       "buffersize_10       0.00         0.78  1442.44           151.01"
      ]
     },
     "execution_count": 43,
     "metadata": {},
     "output_type": "execute_result"
    }
   ],
   "source": [
    "resultcsv = pd.DataFrame.from_dict(results).T\n",
    "#resultcsv.to_csv('evaluation_results/results_DRL.csv'\n",
    "#resultcsv.to_csv('evaluation_results/results_DRL_without_imit.csv')\n",
    "resultcsv.to_csv('evaluation_results/results_DRL_buffer.csv')\n",
    "#resultcsv.to_csv('evaluation_results/results_DRL_pipe.csv')\n",
    "resultcsv['idle_percent'] = resultcsv.idle_time/resultcsv.steps \n",
    "resultcsv['cycle_percent'] = resultcsv.cycle_count/resultcsv.items_processed \n",
    "resultcsv"
   ]
  }
 ],
 "metadata": {
  "kernelspec": {
   "display_name": "fresh",
   "language": "python",
   "name": "fresh"
  },
  "language_info": {
   "codemirror_mode": {
    "name": "ipython",
    "version": 3
   },
   "file_extension": ".py",
   "mimetype": "text/x-python",
   "name": "python",
   "nbconvert_exporter": "python",
   "pygments_lexer": "ipython3",
   "version": "3.6.8"
  }
 },
 "nbformat": 4,
 "nbformat_minor": 4
}
