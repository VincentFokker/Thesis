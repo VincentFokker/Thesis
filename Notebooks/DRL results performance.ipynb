{
 "cells": [
  {
   "cell_type": "code",
   "execution_count": 34,
   "metadata": {},
   "outputs": [],
   "source": [
    "import rl.environments\n",
    "from os.path import join\n",
    "from stable_baselines import PPO2\n",
    "from stable_baselines.common.vec_env import DummyVecEnv\n",
    "import yaml, pathlib\n",
    "import numpy as np\n",
    "import pandas as pd\n",
    "import matplotlib.pyplot as plt\n",
    "\n",
    "path = pathlib.Path().absolute()\n",
    "\n",
    "# ## different designs, with imi, with diff reward structure\n",
    "# to_combine=[\n",
    "#    ['ConveyorEnv1', '20210111_0000'],        #2x2\n",
    "#     ['ConveyorEnv1','20210111_0100'],         #2x3\n",
    "#     ['ConveyorEnv1','20210111_0200'],         #3x3\n",
    "#     ['ConveyorEnv1','20210111_0300'],       #4x3\n",
    "#     ['ConveyorEnv1','20210111_0400'],\n",
    "#     ['ConveyorEnv1','20210111_0500']            # 5x3\n",
    "# ]\n",
    "\n",
    "#for the different designs without imitation learning upfront\n",
    "# to_combine=[\n",
    "#     ['ConveyorEnv1','20210109_1900'], #1x2\n",
    "#     ['ConveyorEnv1','20210109_2000'], #2x2\n",
    "#     ['ConveyorEnv1','20210109_2100'], #2x3\n",
    "#     ['ConveyorEnv1','20210109_2200'], #3x32\n",
    "#     ['ConveyorEnv1','20210109_2300'], #4x3\n",
    "#     ['ConveyorEnv1','20210109_2400']  #5x3\n",
    "# ]\n",
    "\n",
    "#  different designs, reward structure with punishment on terminate\n",
    "to_combine=[\n",
    "    ['ConveyorEnv12','20210112_0100'], #1x2\n",
    "    ['ConveyorEnv12','20210112_0200'], #2x2\n",
    "    ['ConveyorEnv12','20210112_0300'], #2x3\n",
    "    ['ConveyorEnv12','20210112_0400'], #3x32\n",
    "    ['ConveyorEnv12','20210112_0500'], #4x3\n",
    "    #['ConveyorEnv12','20210112_1000'], #4x3\n",
    "    #['ConveyorEnv12','20210112_1100'],  #5x3\n",
    "    ['ConveyorEnv12','20210112_1200'], #4x3\n",
    "    ['ConveyorEnv12','20210112_1300'],  #5x3\n",
    "    ['ConveyorEnv12','20210112_1400'],  #5x3\n",
    "    ['ConveyorEnv12','20210112_1430']\n",
    "]\n",
    "\n",
    "## For the buffer size\n",
    "# to_combine=[\n",
    "#     ['ConveyorEnv11','20210108_1400'], #1\n",
    "#     ['ConveyorEnv11','20210108_1500'], #2\n",
    "#     ['ConveyorEnv11','20210108_1600'], #3\n",
    "#     ['ConveyorEnv11','20210108_1700'], #4\n",
    "#     ['ConveyorEnv11','20210108_1800'], #5\n",
    "#     ['ConveyorEnv11','20210108_1900'], #6\n",
    "#     ['ConveyorEnv11','20210108_2000'], #7\n",
    "#     ['ConveyorEnv11','20210108_2100'], #8\n",
    "#     ['ConveyorEnv11','20210108_2200'], #9\n",
    "#     ['ConveyorEnv11','20210108_2300'] #10\n",
    "    \n",
    "# ]\n",
    "\n",
    "# For the pipeline\n",
    "# to_combine=[\n",
    "#     ['ConveyorEnv11','20210109_1000'], #10\n",
    "#     ['ConveyorEnv11','20210109_1100'], #15\n",
    "#     ['ConveyorEnv11','20210109_1200'], #20\n",
    "#     ['ConveyorEnv11','20210109_1300'], #25\n",
    "#     ['ConveyorEnv11','20210109_1400'], #30\n",
    "#     ['ConveyorEnv11','20210109_1500'], #35\n",
    "#     ['ConveyorEnv11','20210109_1800'], #40\n",
    "#     ['ConveyorEnv11','20210109_1900'], #45\n",
    "#     ['ConveyorEnv11','20210109_2000'] #50\n",
    "# ]"
   ]
  },
  {
   "cell_type": "code",
   "execution_count": 35,
   "metadata": {},
   "outputs": [
    {
     "name": "stderr",
     "output_type": "stream",
     "text": [
      "D:\\Drive\\git\\venv\\fresh\\lib\\site-packages\\ipykernel_launcher.py:15: YAMLLoadWarning:\n",
      "\n",
      "calling yaml.load() without Loader=... is deprecated, as the default Loader is unsafe. Please read https://msg.pyyaml.org/load for full details.\n",
      "\n"
     ]
    },
    {
     "name": "stdout",
     "output_type": "stream",
     "text": [
      "\n",
      "Loaded config file from: D:\\Drive\\git\\RL\\rl\\trained_models\\ConveyorEnv12\\20210112_0100\\config.yml\n",
      "\n"
     ]
    },
    {
     "name": "stderr",
     "output_type": "stream",
     "text": [
      "WARNING:tensorflow:Entity <bound method Flatten.call of <tensorflow.python.layers.core.Flatten object at 0x0000023955864128>> could not be transformed and will be executed as-is. Please report this to the AutgoGraph team. When filing the bug, set the verbosity to 10 (on Linux, `export AUTOGRAPH_VERBOSITY=10`) and attach the full output. Cause: converting <bound method Flatten.call of <tensorflow.python.layers.core.Flatten object at 0x0000023955864128>>: AttributeError: module 'gast' has no attribute 'Index'\n",
      "WARNING:tensorflow:Entity <bound method Flatten.call of <tensorflow.python.layers.core.Flatten object at 0x0000023955C57D68>> could not be transformed and will be executed as-is. Please report this to the AutgoGraph team. When filing the bug, set the verbosity to 10 (on Linux, `export AUTOGRAPH_VERBOSITY=10`) and attach the full output. Cause: converting <bound method Flatten.call of <tensorflow.python.layers.core.Flatten object at 0x0000023955C57D68>>: AttributeError: module 'gast' has no attribute 'Index'\n"
     ]
    },
    {
     "name": "stdout",
     "output_type": "stream",
     "text": [
      "WARNING: Entity <bound method Flatten.call of <tensorflow.python.layers.core.Flatten object at 0x0000023955864128>> could not be transformed and will be executed as-is. Please report this to the AutgoGraph team. When filing the bug, set the verbosity to 10 (on Linux, `export AUTOGRAPH_VERBOSITY=10`) and attach the full output. Cause: converting <bound method Flatten.call of <tensorflow.python.layers.core.Flatten object at 0x0000023955864128>>: AttributeError: module 'gast' has no attribute 'Index'\n",
      "WARNING: Entity <bound method Flatten.call of <tensorflow.python.layers.core.Flatten object at 0x0000023955C57D68>> could not be transformed and will be executed as-is. Please report this to the AutgoGraph team. When filing the bug, set the verbosity to 10 (on Linux, `export AUTOGRAPH_VERBOSITY=10`) and attach the full output. Cause: converting <bound method Flatten.call of <tensorflow.python.layers.core.Flatten object at 0x0000023955C57D68>>: AttributeError: module 'gast' has no attribute 'Index'\n",
      "Ep:   100, steps:  82, R: 9.0000\r"
     ]
    },
    {
     "name": "stderr",
     "output_type": "stream",
     "text": [
      "D:\\Drive\\git\\venv\\fresh\\lib\\site-packages\\ipykernel_launcher.py:15: YAMLLoadWarning:\n",
      "\n",
      "calling yaml.load() without Loader=... is deprecated, as the default Loader is unsafe. Please read https://msg.pyyaml.org/load for full details.\n",
      "\n"
     ]
    },
    {
     "name": "stdout",
     "output_type": "stream",
     "text": [
      "\n",
      "Loaded config file from: D:\\Drive\\git\\RL\\rl\\trained_models\\ConveyorEnv12\\20210112_0200\\config.yml\n",
      "\n"
     ]
    },
    {
     "name": "stderr",
     "output_type": "stream",
     "text": [
      "WARNING:tensorflow:Entity <bound method Flatten.call of <tensorflow.python.layers.core.Flatten object at 0x0000023968C87B70>> could not be transformed and will be executed as-is. Please report this to the AutgoGraph team. When filing the bug, set the verbosity to 10 (on Linux, `export AUTOGRAPH_VERBOSITY=10`) and attach the full output. Cause: converting <bound method Flatten.call of <tensorflow.python.layers.core.Flatten object at 0x0000023968C87B70>>: AttributeError: module 'gast' has no attribute 'Index'\n",
      "WARNING:tensorflow:Entity <bound method Flatten.call of <tensorflow.python.layers.core.Flatten object at 0x000002395634AB70>> could not be transformed and will be executed as-is. Please report this to the AutgoGraph team. When filing the bug, set the verbosity to 10 (on Linux, `export AUTOGRAPH_VERBOSITY=10`) and attach the full output. Cause: converting <bound method Flatten.call of <tensorflow.python.layers.core.Flatten object at 0x000002395634AB70>>: AttributeError: module 'gast' has no attribute 'Index'\n"
     ]
    },
    {
     "name": "stdout",
     "output_type": "stream",
     "text": [
      "WARNING: Entity <bound method Flatten.call of <tensorflow.python.layers.core.Flatten object at 0x0000023968C87B70>> could not be transformed and will be executed as-is. Please report this to the AutgoGraph team. When filing the bug, set the verbosity to 10 (on Linux, `export AUTOGRAPH_VERBOSITY=10`) and attach the full output. Cause: converting <bound method Flatten.call of <tensorflow.python.layers.core.Flatten object at 0x0000023968C87B70>>: AttributeError: module 'gast' has no attribute 'Index'\n",
      "WARNING: Entity <bound method Flatten.call of <tensorflow.python.layers.core.Flatten object at 0x000002395634AB70>> could not be transformed and will be executed as-is. Please report this to the AutgoGraph team. When filing the bug, set the verbosity to 10 (on Linux, `export AUTOGRAPH_VERBOSITY=10`) and attach the full output. Cause: converting <bound method Flatten.call of <tensorflow.python.layers.core.Flatten object at 0x000002395634AB70>>: AttributeError: module 'gast' has no attribute 'Index'\n",
      "Ep:   100, steps:  94, R: 18.000\n",
      "Loaded config file from: D:\\Drive\\git\\RL\\rl\\trained_models\\ConveyorEnv12\\20210112_0300\\config.yml\n",
      "\n"
     ]
    },
    {
     "name": "stderr",
     "output_type": "stream",
     "text": [
      "D:\\Drive\\git\\venv\\fresh\\lib\\site-packages\\ipykernel_launcher.py:15: YAMLLoadWarning:\n",
      "\n",
      "calling yaml.load() without Loader=... is deprecated, as the default Loader is unsafe. Please read https://msg.pyyaml.org/load for full details.\n",
      "\n",
      "WARNING:tensorflow:Entity <bound method Flatten.call of <tensorflow.python.layers.core.Flatten object at 0x0000023967A99A58>> could not be transformed and will be executed as-is. Please report this to the AutgoGraph team. When filing the bug, set the verbosity to 10 (on Linux, `export AUTOGRAPH_VERBOSITY=10`) and attach the full output. Cause: converting <bound method Flatten.call of <tensorflow.python.layers.core.Flatten object at 0x0000023967A99A58>>: AttributeError: module 'gast' has no attribute 'Index'\n",
      "WARNING:tensorflow:Entity <bound method Flatten.call of <tensorflow.python.layers.core.Flatten object at 0x0000023955BFAAC8>> could not be transformed and will be executed as-is. Please report this to the AutgoGraph team. When filing the bug, set the verbosity to 10 (on Linux, `export AUTOGRAPH_VERBOSITY=10`) and attach the full output. Cause: converting <bound method Flatten.call of <tensorflow.python.layers.core.Flatten object at 0x0000023955BFAAC8>>: AttributeError: module 'gast' has no attribute 'Index'\n"
     ]
    },
    {
     "name": "stdout",
     "output_type": "stream",
     "text": [
      "WARNING: Entity <bound method Flatten.call of <tensorflow.python.layers.core.Flatten object at 0x0000023967A99A58>> could not be transformed and will be executed as-is. Please report this to the AutgoGraph team. When filing the bug, set the verbosity to 10 (on Linux, `export AUTOGRAPH_VERBOSITY=10`) and attach the full output. Cause: converting <bound method Flatten.call of <tensorflow.python.layers.core.Flatten object at 0x0000023967A99A58>>: AttributeError: module 'gast' has no attribute 'Index'\n",
      "WARNING: Entity <bound method Flatten.call of <tensorflow.python.layers.core.Flatten object at 0x0000023955BFAAC8>> could not be transformed and will be executed as-is. Please report this to the AutgoGraph team. When filing the bug, set the verbosity to 10 (on Linux, `export AUTOGRAPH_VERBOSITY=10`) and attach the full output. Cause: converting <bound method Flatten.call of <tensorflow.python.layers.core.Flatten object at 0x0000023955BFAAC8>>: AttributeError: module 'gast' has no attribute 'Index'\n",
      "Ep:   100, steps: 118, R: 33.000\n",
      "Loaded config file from: D:\\Drive\\git\\RL\\rl\\trained_models\\ConveyorEnv12\\20210112_0400\\config.yml\n",
      "\n"
     ]
    },
    {
     "name": "stderr",
     "output_type": "stream",
     "text": [
      "D:\\Drive\\git\\venv\\fresh\\lib\\site-packages\\ipykernel_launcher.py:15: YAMLLoadWarning:\n",
      "\n",
      "calling yaml.load() without Loader=... is deprecated, as the default Loader is unsafe. Please read https://msg.pyyaml.org/load for full details.\n",
      "\n",
      "WARNING:tensorflow:Entity <bound method Flatten.call of <tensorflow.python.layers.core.Flatten object at 0x00000239692E0940>> could not be transformed and will be executed as-is. Please report this to the AutgoGraph team. When filing the bug, set the verbosity to 10 (on Linux, `export AUTOGRAPH_VERBOSITY=10`) and attach the full output. Cause: converting <bound method Flatten.call of <tensorflow.python.layers.core.Flatten object at 0x00000239692E0940>>: AttributeError: module 'gast' has no attribute 'Index'\n",
      "WARNING:tensorflow:Entity <bound method Flatten.call of <tensorflow.python.layers.core.Flatten object at 0x00000239692E00F0>> could not be transformed and will be executed as-is. Please report this to the AutgoGraph team. When filing the bug, set the verbosity to 10 (on Linux, `export AUTOGRAPH_VERBOSITY=10`) and attach the full output. Cause: converting <bound method Flatten.call of <tensorflow.python.layers.core.Flatten object at 0x00000239692E00F0>>: AttributeError: module 'gast' has no attribute 'Index'\n"
     ]
    },
    {
     "name": "stdout",
     "output_type": "stream",
     "text": [
      "WARNING: Entity <bound method Flatten.call of <tensorflow.python.layers.core.Flatten object at 0x00000239692E0940>> could not be transformed and will be executed as-is. Please report this to the AutgoGraph team. When filing the bug, set the verbosity to 10 (on Linux, `export AUTOGRAPH_VERBOSITY=10`) and attach the full output. Cause: converting <bound method Flatten.call of <tensorflow.python.layers.core.Flatten object at 0x00000239692E0940>>: AttributeError: module 'gast' has no attribute 'Index'\n",
      "WARNING: Entity <bound method Flatten.call of <tensorflow.python.layers.core.Flatten object at 0x00000239692E00F0>> could not be transformed and will be executed as-is. Please report this to the AutgoGraph team. When filing the bug, set the verbosity to 10 (on Linux, `export AUTOGRAPH_VERBOSITY=10`) and attach the full output. Cause: converting <bound method Flatten.call of <tensorflow.python.layers.core.Flatten object at 0x00000239692E00F0>>: AttributeError: module 'gast' has no attribute 'Index'\n",
      "Ep:   100, steps:  81, R: 27.000\r"
     ]
    },
    {
     "name": "stderr",
     "output_type": "stream",
     "text": [
      "D:\\Drive\\git\\venv\\fresh\\lib\\site-packages\\ipykernel_launcher.py:15: YAMLLoadWarning:\n",
      "\n",
      "calling yaml.load() without Loader=... is deprecated, as the default Loader is unsafe. Please read https://msg.pyyaml.org/load for full details.\n",
      "\n"
     ]
    },
    {
     "name": "stdout",
     "output_type": "stream",
     "text": [
      "\n",
      "Loaded config file from: D:\\Drive\\git\\RL\\rl\\trained_models\\ConveyorEnv12\\20210112_0500\\config.yml\n",
      "\n"
     ]
    },
    {
     "name": "stderr",
     "output_type": "stream",
     "text": [
      "WARNING:tensorflow:Entity <bound method Flatten.call of <tensorflow.python.layers.core.Flatten object at 0x0000023956C16208>> could not be transformed and will be executed as-is. Please report this to the AutgoGraph team. When filing the bug, set the verbosity to 10 (on Linux, `export AUTOGRAPH_VERBOSITY=10`) and attach the full output. Cause: converting <bound method Flatten.call of <tensorflow.python.layers.core.Flatten object at 0x0000023956C16208>>: AttributeError: module 'gast' has no attribute 'Index'\n",
      "WARNING:tensorflow:Entity <bound method Flatten.call of <tensorflow.python.layers.core.Flatten object at 0x0000023952E00B38>> could not be transformed and will be executed as-is. Please report this to the AutgoGraph team. When filing the bug, set the verbosity to 10 (on Linux, `export AUTOGRAPH_VERBOSITY=10`) and attach the full output. Cause: converting <bound method Flatten.call of <tensorflow.python.layers.core.Flatten object at 0x0000023952E00B38>>: AttributeError: module 'gast' has no attribute 'Index'\n"
     ]
    },
    {
     "name": "stdout",
     "output_type": "stream",
     "text": [
      "WARNING: Entity <bound method Flatten.call of <tensorflow.python.layers.core.Flatten object at 0x0000023956C16208>> could not be transformed and will be executed as-is. Please report this to the AutgoGraph team. When filing the bug, set the verbosity to 10 (on Linux, `export AUTOGRAPH_VERBOSITY=10`) and attach the full output. Cause: converting <bound method Flatten.call of <tensorflow.python.layers.core.Flatten object at 0x0000023956C16208>>: AttributeError: module 'gast' has no attribute 'Index'\n",
      "WARNING: Entity <bound method Flatten.call of <tensorflow.python.layers.core.Flatten object at 0x0000023952E00B38>> could not be transformed and will be executed as-is. Please report this to the AutgoGraph team. When filing the bug, set the verbosity to 10 (on Linux, `export AUTOGRAPH_VERBOSITY=10`) and attach the full output. Cause: converting <bound method Flatten.call of <tensorflow.python.layers.core.Flatten object at 0x0000023952E00B38>>: AttributeError: module 'gast' has no attribute 'Index'\n",
      "Ep:   100, steps: 1441, R: 462.000\r"
     ]
    },
    {
     "name": "stderr",
     "output_type": "stream",
     "text": [
      "D:\\Drive\\git\\venv\\fresh\\lib\\site-packages\\ipykernel_launcher.py:15: YAMLLoadWarning:\n",
      "\n",
      "calling yaml.load() without Loader=... is deprecated, as the default Loader is unsafe. Please read https://msg.pyyaml.org/load for full details.\n",
      "\n"
     ]
    },
    {
     "name": "stdout",
     "output_type": "stream",
     "text": [
      "\n",
      "Loaded config file from: D:\\Drive\\git\\RL\\rl\\trained_models\\ConveyorEnv12\\20210112_1200\\config.yml\n",
      "\n"
     ]
    },
    {
     "name": "stderr",
     "output_type": "stream",
     "text": [
      "WARNING:tensorflow:Entity <bound method Flatten.call of <tensorflow.python.layers.core.Flatten object at 0x00000239631217B8>> could not be transformed and will be executed as-is. Please report this to the AutgoGraph team. When filing the bug, set the verbosity to 10 (on Linux, `export AUTOGRAPH_VERBOSITY=10`) and attach the full output. Cause: converting <bound method Flatten.call of <tensorflow.python.layers.core.Flatten object at 0x00000239631217B8>>: AttributeError: module 'gast' has no attribute 'Index'\n",
      "WARNING:tensorflow:Entity <bound method Flatten.call of <tensorflow.python.layers.core.Flatten object at 0x0000023953B22E10>> could not be transformed and will be executed as-is. Please report this to the AutgoGraph team. When filing the bug, set the verbosity to 10 (on Linux, `export AUTOGRAPH_VERBOSITY=10`) and attach the full output. Cause: converting <bound method Flatten.call of <tensorflow.python.layers.core.Flatten object at 0x0000023953B22E10>>: AttributeError: module 'gast' has no attribute 'Index'\n"
     ]
    },
    {
     "name": "stdout",
     "output_type": "stream",
     "text": [
      "WARNING: Entity <bound method Flatten.call of <tensorflow.python.layers.core.Flatten object at 0x00000239631217B8>> could not be transformed and will be executed as-is. Please report this to the AutgoGraph team. When filing the bug, set the verbosity to 10 (on Linux, `export AUTOGRAPH_VERBOSITY=10`) and attach the full output. Cause: converting <bound method Flatten.call of <tensorflow.python.layers.core.Flatten object at 0x00000239631217B8>>: AttributeError: module 'gast' has no attribute 'Index'\n",
      "WARNING: Entity <bound method Flatten.call of <tensorflow.python.layers.core.Flatten object at 0x0000023953B22E10>> could not be transformed and will be executed as-is. Please report this to the AutgoGraph team. When filing the bug, set the verbosity to 10 (on Linux, `export AUTOGRAPH_VERBOSITY=10`) and attach the full output. Cause: converting <bound method Flatten.call of <tensorflow.python.layers.core.Flatten object at 0x0000023953B22E10>>: AttributeError: module 'gast' has no attribute 'Index'\n",
      "Ep:   100, steps: 1424, R: 444.000\r"
     ]
    },
    {
     "name": "stderr",
     "output_type": "stream",
     "text": [
      "D:\\Drive\\git\\venv\\fresh\\lib\\site-packages\\ipykernel_launcher.py:15: YAMLLoadWarning:\n",
      "\n",
      "calling yaml.load() without Loader=... is deprecated, as the default Loader is unsafe. Please read https://msg.pyyaml.org/load for full details.\n",
      "\n"
     ]
    },
    {
     "name": "stdout",
     "output_type": "stream",
     "text": [
      "\n",
      "Loaded config file from: D:\\Drive\\git\\RL\\rl\\trained_models\\ConveyorEnv12\\20210112_1300\\config.yml\n",
      "\n"
     ]
    },
    {
     "name": "stderr",
     "output_type": "stream",
     "text": [
      "WARNING:tensorflow:Entity <bound method Flatten.call of <tensorflow.python.layers.core.Flatten object at 0x0000023962731438>> could not be transformed and will be executed as-is. Please report this to the AutgoGraph team. When filing the bug, set the verbosity to 10 (on Linux, `export AUTOGRAPH_VERBOSITY=10`) and attach the full output. Cause: converting <bound method Flatten.call of <tensorflow.python.layers.core.Flatten object at 0x0000023962731438>>: AttributeError: module 'gast' has no attribute 'Index'\n",
      "WARNING:tensorflow:Entity <bound method Flatten.call of <tensorflow.python.layers.core.Flatten object at 0x00000239636A0DD8>> could not be transformed and will be executed as-is. Please report this to the AutgoGraph team. When filing the bug, set the verbosity to 10 (on Linux, `export AUTOGRAPH_VERBOSITY=10`) and attach the full output. Cause: converting <bound method Flatten.call of <tensorflow.python.layers.core.Flatten object at 0x00000239636A0DD8>>: AttributeError: module 'gast' has no attribute 'Index'\n"
     ]
    },
    {
     "name": "stdout",
     "output_type": "stream",
     "text": [
      "WARNING: Entity <bound method Flatten.call of <tensorflow.python.layers.core.Flatten object at 0x0000023962731438>> could not be transformed and will be executed as-is. Please report this to the AutgoGraph team. When filing the bug, set the verbosity to 10 (on Linux, `export AUTOGRAPH_VERBOSITY=10`) and attach the full output. Cause: converting <bound method Flatten.call of <tensorflow.python.layers.core.Flatten object at 0x0000023962731438>>: AttributeError: module 'gast' has no attribute 'Index'\n",
      "WARNING: Entity <bound method Flatten.call of <tensorflow.python.layers.core.Flatten object at 0x00000239636A0DD8>> could not be transformed and will be executed as-is. Please report this to the AutgoGraph team. When filing the bug, set the verbosity to 10 (on Linux, `export AUTOGRAPH_VERBOSITY=10`) and attach the full output. Cause: converting <bound method Flatten.call of <tensorflow.python.layers.core.Flatten object at 0x00000239636A0DD8>>: AttributeError: module 'gast' has no attribute 'Index'\n",
      "Ep:   100, steps:  51, R: -78.0000\n",
      "Loaded config file from: D:\\Drive\\git\\RL\\rl\\trained_models\\ConveyorEnv12\\20210112_1400\\config.yml\n",
      "\n"
     ]
    },
    {
     "name": "stderr",
     "output_type": "stream",
     "text": [
      "D:\\Drive\\git\\venv\\fresh\\lib\\site-packages\\ipykernel_launcher.py:15: YAMLLoadWarning:\n",
      "\n",
      "calling yaml.load() without Loader=... is deprecated, as the default Loader is unsafe. Please read https://msg.pyyaml.org/load for full details.\n",
      "\n",
      "WARNING:tensorflow:Entity <bound method Flatten.call of <tensorflow.python.layers.core.Flatten object at 0x0000023967F75978>> could not be transformed and will be executed as-is. Please report this to the AutgoGraph team. When filing the bug, set the verbosity to 10 (on Linux, `export AUTOGRAPH_VERBOSITY=10`) and attach the full output. Cause: converting <bound method Flatten.call of <tensorflow.python.layers.core.Flatten object at 0x0000023967F75978>>: AttributeError: module 'gast' has no attribute 'Index'\n",
      "WARNING:tensorflow:Entity <bound method Flatten.call of <tensorflow.python.layers.core.Flatten object at 0x000002395DB5E160>> could not be transformed and will be executed as-is. Please report this to the AutgoGraph team. When filing the bug, set the verbosity to 10 (on Linux, `export AUTOGRAPH_VERBOSITY=10`) and attach the full output. Cause: converting <bound method Flatten.call of <tensorflow.python.layers.core.Flatten object at 0x000002395DB5E160>>: AttributeError: module 'gast' has no attribute 'Index'\n"
     ]
    },
    {
     "name": "stdout",
     "output_type": "stream",
     "text": [
      "WARNING: Entity <bound method Flatten.call of <tensorflow.python.layers.core.Flatten object at 0x0000023967F75978>> could not be transformed and will be executed as-is. Please report this to the AutgoGraph team. When filing the bug, set the verbosity to 10 (on Linux, `export AUTOGRAPH_VERBOSITY=10`) and attach the full output. Cause: converting <bound method Flatten.call of <tensorflow.python.layers.core.Flatten object at 0x0000023967F75978>>: AttributeError: module 'gast' has no attribute 'Index'\n",
      "WARNING: Entity <bound method Flatten.call of <tensorflow.python.layers.core.Flatten object at 0x000002395DB5E160>> could not be transformed and will be executed as-is. Please report this to the AutgoGraph team. When filing the bug, set the verbosity to 10 (on Linux, `export AUTOGRAPH_VERBOSITY=10`) and attach the full output. Cause: converting <bound method Flatten.call of <tensorflow.python.layers.core.Flatten object at 0x000002395DB5E160>>: AttributeError: module 'gast' has no attribute 'Index'\n",
      "Ep:   100, steps: 292, R: 24.0000\r"
     ]
    },
    {
     "name": "stderr",
     "output_type": "stream",
     "text": [
      "D:\\Drive\\git\\venv\\fresh\\lib\\site-packages\\ipykernel_launcher.py:15: YAMLLoadWarning:\n",
      "\n",
      "calling yaml.load() without Loader=... is deprecated, as the default Loader is unsafe. Please read https://msg.pyyaml.org/load for full details.\n",
      "\n"
     ]
    },
    {
     "name": "stdout",
     "output_type": "stream",
     "text": [
      "\n",
      "Loaded config file from: D:\\Drive\\git\\RL\\rl\\trained_models\\ConveyorEnv12\\20210112_1430\\config.yml\n",
      "\n"
     ]
    },
    {
     "name": "stderr",
     "output_type": "stream",
     "text": [
      "WARNING:tensorflow:Entity <bound method Flatten.call of <tensorflow.python.layers.core.Flatten object at 0x000002395DE23048>> could not be transformed and will be executed as-is. Please report this to the AutgoGraph team. When filing the bug, set the verbosity to 10 (on Linux, `export AUTOGRAPH_VERBOSITY=10`) and attach the full output. Cause: converting <bound method Flatten.call of <tensorflow.python.layers.core.Flatten object at 0x000002395DE23048>>: AttributeError: module 'gast' has no attribute 'Index'\n",
      "WARNING:tensorflow:Entity <bound method Flatten.call of <tensorflow.python.layers.core.Flatten object at 0x0000023961079400>> could not be transformed and will be executed as-is. Please report this to the AutgoGraph team. When filing the bug, set the verbosity to 10 (on Linux, `export AUTOGRAPH_VERBOSITY=10`) and attach the full output. Cause: converting <bound method Flatten.call of <tensorflow.python.layers.core.Flatten object at 0x0000023961079400>>: AttributeError: module 'gast' has no attribute 'Index'\n"
     ]
    },
    {
     "name": "stdout",
     "output_type": "stream",
     "text": [
      "WARNING: Entity <bound method Flatten.call of <tensorflow.python.layers.core.Flatten object at 0x000002395DE23048>> could not be transformed and will be executed as-is. Please report this to the AutgoGraph team. When filing the bug, set the verbosity to 10 (on Linux, `export AUTOGRAPH_VERBOSITY=10`) and attach the full output. Cause: converting <bound method Flatten.call of <tensorflow.python.layers.core.Flatten object at 0x000002395DE23048>>: AttributeError: module 'gast' has no attribute 'Index'\n",
      "WARNING: Entity <bound method Flatten.call of <tensorflow.python.layers.core.Flatten object at 0x0000023961079400>> could not be transformed and will be executed as-is. Please report this to the AutgoGraph team. When filing the bug, set the verbosity to 10 (on Linux, `export AUTOGRAPH_VERBOSITY=10`) and attach the full output. Cause: converting <bound method Flatten.call of <tensorflow.python.layers.core.Flatten object at 0x0000023961079400>>: AttributeError: module 'gast' has no attribute 'Index'\n",
      "Ep:   100, steps: 1345, R: 444.000\r"
     ]
    }
   ],
   "source": [
    "env1, subdir = to_combine[0]\n",
    "episodes = 100\n",
    "#combinations = ['2x2', '2x2_pretrained', '2x2_sto', '2x2_sto_gamma_adjust', '2x2_sto_only_punish', '2x2_sto_only_punish_lowerR']\n",
    "#combinations = ['1x2', '2x2', '2x3', '3x3', '4x3', '5x3']\n",
    "combinations = [item[1] for item in to_combine]\n",
    "#combinations = ['buffersize_{:02d}'.format(i+1) for i in range(11)]\n",
    "#combinations = ['pipeline_{}'.format(i) for i in range(10,55,5)]\n",
    "\n",
    "results = {}\n",
    "for idx, combination in enumerate(to_combine):\n",
    "    env1, subdir = combination\n",
    "    # load config and variables needed\n",
    "    location_path= join(path, 'rl', 'trained_models', env1, subdir)\n",
    "    with open(join(location_path, 'config.yml'), 'r') as c:\n",
    "        config = yaml.load(c)\n",
    "        print('\\nLoaded config file from: {}\\n'.format(join(location_path, 'config.yml')))\n",
    "    model_config = config['models']['PPO2']\n",
    "\n",
    "    #initialize env with the config file\n",
    "    env_obj = getattr(rl.environments, env1)\n",
    "    env = env_obj(config)\n",
    " \n",
    "\n",
    "    # load best model from path\n",
    "    model = PPO2.load(join(location_path, 'best_model.zip'), env=DummyVecEnv([lambda: env]))\n",
    "\n",
    "\n",
    "    results[combinations[idx]] = {}\n",
    "    results[combinations[idx]]['configuration'] = '{}x{}'.format(config['environment']['amount_of_gtps'], config['environment']['amount_of_outputs'])\n",
    "    results[combinations[idx]]['gamma'] = config['models']['PPO2']['gamma']\n",
    "    results[combinations[idx]]['idle_time'] = 0\n",
    "    results[combinations[idx]]['cycle_count'] = 0\n",
    "    results[combinations[idx]]['steps'] = 0\n",
    "    results[combinations[idx]]['items_processed'] = 0\n",
    "    results[combinations[idx]]['reward'] = 0\n",
    "\n",
    "    for episode in range(episodes):\n",
    "        # Run an episode\n",
    "        state = env.reset()\n",
    "        done = False\n",
    "        while not done:\n",
    "            action, _ = model.predict(state, deterministic=True)\n",
    "            state, reward, done, tc = env.step(action)\n",
    "            results[combinations[idx]]['reward'] += reward\n",
    "        results[combinations[idx]]['idle_time'] += sum(env.idle_times_operator.values())\n",
    "        results[combinations[idx]]['cycle_count'] += env.cycle_count\n",
    "        results[combinations[idx]]['steps'] += env.steps\n",
    "        results[combinations[idx]]['items_processed'] += env.items_processed\n",
    "        \n",
    "    results[combinations[idx]]['idle_time'] = results[combinations[idx]]['idle_time'] / episodes\n",
    "    results[combinations[idx]]['cycle_count'] = results[combinations[idx]]['cycle_count'] /episodes\n",
    "    results[combinations[idx]]['steps'] = results[combinations[idx]]['steps'] /episodes\n",
    "    results[combinations[idx]]['items_processed'] = results[combinations[idx]]['items_processed'] /episodes\n",
    "    results[combinations[idx]]['reward'] = results[combinations[idx]]['reward'] /episodes"
   ]
  },
  {
   "cell_type": "code",
   "execution_count": 42,
   "metadata": {},
   "outputs": [
    {
     "data": {
      "text/html": [
       "<div>\n",
       "<style scoped>\n",
       "    .dataframe tbody tr th:only-of-type {\n",
       "        vertical-align: middle;\n",
       "    }\n",
       "\n",
       "    .dataframe tbody tr th {\n",
       "        vertical-align: top;\n",
       "    }\n",
       "\n",
       "    .dataframe thead th {\n",
       "        text-align: right;\n",
       "    }\n",
       "</style>\n",
       "<table border=\"1\" class=\"dataframe\">\n",
       "  <thead>\n",
       "    <tr style=\"text-align: right;\">\n",
       "      <th></th>\n",
       "      <th>configuration</th>\n",
       "      <th>gamma</th>\n",
       "      <th>idle_time</th>\n",
       "      <th>cycle_count</th>\n",
       "      <th>steps</th>\n",
       "      <th>items_processed</th>\n",
       "      <th>reward</th>\n",
       "      <th>idle_percent</th>\n",
       "      <th>cycle_percent</th>\n",
       "    </tr>\n",
       "  </thead>\n",
       "  <tbody>\n",
       "    <tr>\n",
       "      <th>20210112_0100</th>\n",
       "      <td>2x3</td>\n",
       "      <td>0.99375</td>\n",
       "      <td>1</td>\n",
       "      <td>0</td>\n",
       "      <td>136.34</td>\n",
       "      <td>7.06</td>\n",
       "      <td>15.18</td>\n",
       "      <td>0.0073346</td>\n",
       "      <td>0</td>\n",
       "    </tr>\n",
       "    <tr>\n",
       "      <th>20210112_0200</th>\n",
       "      <td>3x3</td>\n",
       "      <td>0.99375</td>\n",
       "      <td>1</td>\n",
       "      <td>0</td>\n",
       "      <td>114.66</td>\n",
       "      <td>9.14</td>\n",
       "      <td>21.42</td>\n",
       "      <td>0.00872144</td>\n",
       "      <td>0</td>\n",
       "    </tr>\n",
       "    <tr>\n",
       "      <th>20210112_0300</th>\n",
       "      <td>4x3</td>\n",
       "      <td>0.99375</td>\n",
       "      <td>1.01</td>\n",
       "      <td>0</td>\n",
       "      <td>107.01</td>\n",
       "      <td>11.32</td>\n",
       "      <td>27.96</td>\n",
       "      <td>0.00943837</td>\n",
       "      <td>0</td>\n",
       "    </tr>\n",
       "    <tr>\n",
       "      <th>20210112_0400</th>\n",
       "      <td>5x3</td>\n",
       "      <td>0.99375</td>\n",
       "      <td>1.02</td>\n",
       "      <td>0.46</td>\n",
       "      <td>103.68</td>\n",
       "      <td>13.41</td>\n",
       "      <td>32.85</td>\n",
       "      <td>0.00983796</td>\n",
       "      <td>0.0343028</td>\n",
       "    </tr>\n",
       "    <tr>\n",
       "      <th>20210112_0500</th>\n",
       "      <td>2x2</td>\n",
       "      <td>0.99375</td>\n",
       "      <td>0.09</td>\n",
       "      <td>6.1</td>\n",
       "      <td>1429.3</td>\n",
       "      <td>151.06</td>\n",
       "      <td>444.93</td>\n",
       "      <td>6.29679e-05</td>\n",
       "      <td>0.0403813</td>\n",
       "    </tr>\n",
       "    <tr>\n",
       "      <th>20210112_1200</th>\n",
       "      <td>2x2</td>\n",
       "      <td>0.99375</td>\n",
       "      <td>0.04</td>\n",
       "      <td>5.79</td>\n",
       "      <td>1411.73</td>\n",
       "      <td>147.08</td>\n",
       "      <td>434.82</td>\n",
       "      <td>2.8334e-05</td>\n",
       "      <td>0.0393663</td>\n",
       "    </tr>\n",
       "    <tr>\n",
       "      <th>20210112_1300</th>\n",
       "      <td>2x2</td>\n",
       "      <td>0.999</td>\n",
       "      <td>0.12</td>\n",
       "      <td>30.46</td>\n",
       "      <td>50.17</td>\n",
       "      <td>4.71</td>\n",
       "      <td>-83.22</td>\n",
       "      <td>0.00239187</td>\n",
       "      <td>6.46709</td>\n",
       "    </tr>\n",
       "    <tr>\n",
       "      <th>20210112_1400</th>\n",
       "      <td>3x3</td>\n",
       "      <td>0.99375</td>\n",
       "      <td>1</td>\n",
       "      <td>4.65</td>\n",
       "      <td>171.46</td>\n",
       "      <td>14.05</td>\n",
       "      <td>7.14</td>\n",
       "      <td>0.00583226</td>\n",
       "      <td>0.330961</td>\n",
       "    </tr>\n",
       "    <tr>\n",
       "      <th>20210112_1430</th>\n",
       "      <td>2x2</td>\n",
       "      <td>0.99</td>\n",
       "      <td>0.03</td>\n",
       "      <td>7.78</td>\n",
       "      <td>1410.48</td>\n",
       "      <td>147.81</td>\n",
       "      <td>429.87</td>\n",
       "      <td>2.12694e-05</td>\n",
       "      <td>0.0526351</td>\n",
       "    </tr>\n",
       "  </tbody>\n",
       "</table>\n",
       "</div>"
      ],
      "text/plain": [
       "              configuration    gamma idle_time cycle_count    steps  \\\n",
       "20210112_0100           2x3  0.99375         1           0   136.34   \n",
       "20210112_0200           3x3  0.99375         1           0   114.66   \n",
       "20210112_0300           4x3  0.99375      1.01           0   107.01   \n",
       "20210112_0400           5x3  0.99375      1.02        0.46   103.68   \n",
       "20210112_0500           2x2  0.99375      0.09         6.1   1429.3   \n",
       "20210112_1200           2x2  0.99375      0.04        5.79  1411.73   \n",
       "20210112_1300           2x2    0.999      0.12       30.46    50.17   \n",
       "20210112_1400           3x3  0.99375         1        4.65   171.46   \n",
       "20210112_1430           2x2     0.99      0.03        7.78  1410.48   \n",
       "\n",
       "              items_processed  reward idle_percent cycle_percent  \n",
       "20210112_0100            7.06   15.18    0.0073346             0  \n",
       "20210112_0200            9.14   21.42   0.00872144             0  \n",
       "20210112_0300           11.32   27.96   0.00943837             0  \n",
       "20210112_0400           13.41   32.85   0.00983796     0.0343028  \n",
       "20210112_0500          151.06  444.93  6.29679e-05     0.0403813  \n",
       "20210112_1200          147.08  434.82   2.8334e-05     0.0393663  \n",
       "20210112_1300            4.71  -83.22   0.00239187       6.46709  \n",
       "20210112_1400           14.05    7.14   0.00583226      0.330961  \n",
       "20210112_1430          147.81  429.87  2.12694e-05     0.0526351  "
      ]
     },
     "execution_count": 42,
     "metadata": {},
     "output_type": "execute_result"
    }
   ],
   "source": [
    "resultcsv = pd.DataFrame.from_dict(results).T\n",
    "#resultcsv = resultcsv.sort_index(ascending=False)\n",
    "#resultcsv.to_csv('evaluation_results/results_DRL_pipe.csv')\n",
    "#resultcsv.to_csv('evaluation_results/results_DRL_without_imit.csv')\n",
    "#resultcsv.to_csv('evaluation_results/results_DRL_buffer.csv')\n",
    "resultcsv['idle_percent'] = resultcsv.idle_time/resultcsv.steps \n",
    "#resultcsv['orders_processed'] = [50, 150, 150,250,350, 450]\n",
    "resultcsv['cycle_percent'] = resultcsv.cycle_count/resultcsv.items_processed \n",
    "#resultcsv = resultcsv.reset_index()\n",
    "resultcsv"
   ]
  },
  {
   "cell_type": "code",
   "execution_count": 43,
   "metadata": {},
   "outputs": [
    {
     "ename": "ModuleNotFoundError",
     "evalue": "No module named 'openpyxl'",
     "output_type": "error",
     "traceback": [
      "\u001b[1;31m---------------------------------------------------------------------------\u001b[0m",
      "\u001b[1;31mModuleNotFoundError\u001b[0m                       Traceback (most recent call last)",
      "\u001b[1;32m<ipython-input-43-191f590fbcee>\u001b[0m in \u001b[0;36m<module>\u001b[1;34m\u001b[0m\n\u001b[1;32m----> 1\u001b[1;33m \u001b[0mresultcsv\u001b[0m\u001b[1;33m.\u001b[0m\u001b[0mto_excel\u001b[0m\u001b[1;33m(\u001b[0m\u001b[1;34m'evaluation_results/results_DRL_term.xlsx'\u001b[0m\u001b[1;33m)\u001b[0m\u001b[1;33m\u001b[0m\u001b[1;33m\u001b[0m\u001b[0m\n\u001b[0m",
      "\u001b[1;32mD:\\Drive\\git\\venv\\fresh\\lib\\site-packages\\pandas\\core\\generic.py\u001b[0m in \u001b[0;36mto_excel\u001b[1;34m(self, excel_writer, sheet_name, na_rep, float_format, columns, header, index, index_label, startrow, startcol, engine, merge_cells, encoding, inf_rep, verbose, freeze_panes)\u001b[0m\n\u001b[0;32m   2030\u001b[0m             \u001b[0mstartcol\u001b[0m\u001b[1;33m=\u001b[0m\u001b[0mstartcol\u001b[0m\u001b[1;33m,\u001b[0m\u001b[1;33m\u001b[0m\u001b[1;33m\u001b[0m\u001b[0m\n\u001b[0;32m   2031\u001b[0m             \u001b[0mfreeze_panes\u001b[0m\u001b[1;33m=\u001b[0m\u001b[0mfreeze_panes\u001b[0m\u001b[1;33m,\u001b[0m\u001b[1;33m\u001b[0m\u001b[1;33m\u001b[0m\u001b[0m\n\u001b[1;32m-> 2032\u001b[1;33m             \u001b[0mengine\u001b[0m\u001b[1;33m=\u001b[0m\u001b[0mengine\u001b[0m\u001b[1;33m,\u001b[0m\u001b[1;33m\u001b[0m\u001b[1;33m\u001b[0m\u001b[0m\n\u001b[0m\u001b[0;32m   2033\u001b[0m         )\n\u001b[0;32m   2034\u001b[0m \u001b[1;33m\u001b[0m\u001b[0m\n",
      "\u001b[1;32mD:\\Drive\\git\\venv\\fresh\\lib\\site-packages\\pandas\\io\\formats\\excel.py\u001b[0m in \u001b[0;36mwrite\u001b[1;34m(self, writer, sheet_name, startrow, startcol, freeze_panes, engine)\u001b[0m\n\u001b[0;32m    728\u001b[0m             \u001b[0mneed_save\u001b[0m \u001b[1;33m=\u001b[0m \u001b[1;32mFalse\u001b[0m\u001b[1;33m\u001b[0m\u001b[1;33m\u001b[0m\u001b[0m\n\u001b[0;32m    729\u001b[0m         \u001b[1;32melse\u001b[0m\u001b[1;33m:\u001b[0m\u001b[1;33m\u001b[0m\u001b[1;33m\u001b[0m\u001b[0m\n\u001b[1;32m--> 730\u001b[1;33m             \u001b[0mwriter\u001b[0m \u001b[1;33m=\u001b[0m \u001b[0mExcelWriter\u001b[0m\u001b[1;33m(\u001b[0m\u001b[0mstringify_path\u001b[0m\u001b[1;33m(\u001b[0m\u001b[0mwriter\u001b[0m\u001b[1;33m)\u001b[0m\u001b[1;33m,\u001b[0m \u001b[0mengine\u001b[0m\u001b[1;33m=\u001b[0m\u001b[0mengine\u001b[0m\u001b[1;33m)\u001b[0m\u001b[1;33m\u001b[0m\u001b[1;33m\u001b[0m\u001b[0m\n\u001b[0m\u001b[0;32m    731\u001b[0m             \u001b[0mneed_save\u001b[0m \u001b[1;33m=\u001b[0m \u001b[1;32mTrue\u001b[0m\u001b[1;33m\u001b[0m\u001b[1;33m\u001b[0m\u001b[0m\n\u001b[0;32m    732\u001b[0m \u001b[1;33m\u001b[0m\u001b[0m\n",
      "\u001b[1;32mD:\\Drive\\git\\venv\\fresh\\lib\\site-packages\\pandas\\io\\excel\\_openpyxl.py\u001b[0m in \u001b[0;36m__init__\u001b[1;34m(self, path, engine, mode, **engine_kwargs)\u001b[0m\n\u001b[0;32m     16\u001b[0m     \u001b[1;32mdef\u001b[0m \u001b[0m__init__\u001b[0m\u001b[1;33m(\u001b[0m\u001b[0mself\u001b[0m\u001b[1;33m,\u001b[0m \u001b[0mpath\u001b[0m\u001b[1;33m,\u001b[0m \u001b[0mengine\u001b[0m\u001b[1;33m=\u001b[0m\u001b[1;32mNone\u001b[0m\u001b[1;33m,\u001b[0m \u001b[0mmode\u001b[0m\u001b[1;33m=\u001b[0m\u001b[1;34m\"w\"\u001b[0m\u001b[1;33m,\u001b[0m \u001b[1;33m**\u001b[0m\u001b[0mengine_kwargs\u001b[0m\u001b[1;33m)\u001b[0m\u001b[1;33m:\u001b[0m\u001b[1;33m\u001b[0m\u001b[1;33m\u001b[0m\u001b[0m\n\u001b[0;32m     17\u001b[0m         \u001b[1;31m# Use the openpyxl module as the Excel writer.\u001b[0m\u001b[1;33m\u001b[0m\u001b[1;33m\u001b[0m\u001b[1;33m\u001b[0m\u001b[0m\n\u001b[1;32m---> 18\u001b[1;33m         \u001b[1;32mfrom\u001b[0m \u001b[0mopenpyxl\u001b[0m\u001b[1;33m.\u001b[0m\u001b[0mworkbook\u001b[0m \u001b[1;32mimport\u001b[0m \u001b[0mWorkbook\u001b[0m\u001b[1;33m\u001b[0m\u001b[1;33m\u001b[0m\u001b[0m\n\u001b[0m\u001b[0;32m     19\u001b[0m \u001b[1;33m\u001b[0m\u001b[0m\n\u001b[0;32m     20\u001b[0m         \u001b[0msuper\u001b[0m\u001b[1;33m(\u001b[0m\u001b[1;33m)\u001b[0m\u001b[1;33m.\u001b[0m\u001b[0m__init__\u001b[0m\u001b[1;33m(\u001b[0m\u001b[0mpath\u001b[0m\u001b[1;33m,\u001b[0m \u001b[0mmode\u001b[0m\u001b[1;33m=\u001b[0m\u001b[0mmode\u001b[0m\u001b[1;33m,\u001b[0m \u001b[1;33m**\u001b[0m\u001b[0mengine_kwargs\u001b[0m\u001b[1;33m)\u001b[0m\u001b[1;33m\u001b[0m\u001b[1;33m\u001b[0m\u001b[0m\n",
      "\u001b[1;31mModuleNotFoundError\u001b[0m: No module named 'openpyxl'"
     ]
    }
   ],
   "source": [
    "resultcsv.to_excel('evaluation_results/results_DRL_term.xlsx')"
   ]
  },
  {
   "cell_type": "code",
   "execution_count": 23,
   "metadata": {},
   "outputs": [
    {
     "data": {
      "text/html": [
       "<div>\n",
       "<style scoped>\n",
       "    .dataframe tbody tr th:only-of-type {\n",
       "        vertical-align: middle;\n",
       "    }\n",
       "\n",
       "    .dataframe tbody tr th {\n",
       "        vertical-align: top;\n",
       "    }\n",
       "\n",
       "    .dataframe thead th {\n",
       "        text-align: right;\n",
       "    }\n",
       "</style>\n",
       "<table border=\"1\" class=\"dataframe\">\n",
       "  <thead>\n",
       "    <tr style=\"text-align: right;\">\n",
       "      <th></th>\n",
       "      <th>configuration</th>\n",
       "      <th>gamma</th>\n",
       "      <th>idle_time</th>\n",
       "      <th>cycle_count</th>\n",
       "      <th>steps</th>\n",
       "      <th>items_processed</th>\n",
       "    </tr>\n",
       "  </thead>\n",
       "  <tbody>\n",
       "    <tr>\n",
       "      <th>20210112_0500</th>\n",
       "      <td>2x2</td>\n",
       "      <td>0.99375</td>\n",
       "      <td>0.02</td>\n",
       "      <td>5.98</td>\n",
       "      <td>1445.19</td>\n",
       "      <td>151.01</td>\n",
       "    </tr>\n",
       "    <tr>\n",
       "      <th>20210112_1200</th>\n",
       "      <td>2x2</td>\n",
       "      <td>0.99375</td>\n",
       "      <td>0.01</td>\n",
       "      <td>6.2</td>\n",
       "      <td>1421.1</td>\n",
       "      <td>149.58</td>\n",
       "    </tr>\n",
       "    <tr>\n",
       "      <th>20210112_1300</th>\n",
       "      <td>2x2</td>\n",
       "      <td>0.999</td>\n",
       "      <td>0.17</td>\n",
       "      <td>29.85</td>\n",
       "      <td>49.59</td>\n",
       "      <td>4.51</td>\n",
       "    </tr>\n",
       "    <tr>\n",
       "      <th>20210112_1400</th>\n",
       "      <td>3x3</td>\n",
       "      <td>0.99375</td>\n",
       "      <td>2828.3</td>\n",
       "      <td>401</td>\n",
       "      <td>1596.08</td>\n",
       "      <td>56.4</td>\n",
       "    </tr>\n",
       "  </tbody>\n",
       "</table>\n",
       "</div>"
      ],
      "text/plain": [
       "              configuration    gamma idle_time cycle_count    steps  \\\n",
       "20210112_0500           2x2  0.99375      0.02        5.98  1445.19   \n",
       "20210112_1200           2x2  0.99375      0.01         6.2   1421.1   \n",
       "20210112_1300           2x2    0.999      0.17       29.85    49.59   \n",
       "20210112_1400           3x3  0.99375    2828.3         401  1596.08   \n",
       "\n",
       "              items_processed  \n",
       "20210112_0500          151.01  \n",
       "20210112_1200          149.58  \n",
       "20210112_1300            4.51  \n",
       "20210112_1400            56.4  "
      ]
     },
     "execution_count": 23,
     "metadata": {},
     "output_type": "execute_result"
    }
   ],
   "source": [
    "resultcsv = pd.DataFrame.from_dict(results).T\n",
    "#resultcsv = resultcsv.sort_index(ascending=False)\n",
    "#resultcsv.to_csv('evaluation_results/results_DRL_pipe.csv')\n",
    "#resultcsv.to_csv('evaluation_results/results_DRL_without_imit.csv')\n",
    "#resultcsv.to_csv('evaluation_results/results_DRL_buffer.csv')\n",
    "#resultcsv['idle_percent'] = resultcsv.idle_time/resultcsv.steps * 100\n",
    "#resultcsv['orders_processed'] = [50, 150, 150,250,350, 450]\n",
    "#resultcsv['cycle_percent'] = resultcsv.cycle_count/resultcsv.orders_processed * 100\n",
    "#resultcsv = resultcsv.reset_index()\n",
    "resultcsv"
   ]
  },
  {
   "cell_type": "code",
   "execution_count": 43,
   "metadata": {},
   "outputs": [
    {
     "data": {
      "text/html": [
       "<div>\n",
       "<style scoped>\n",
       "    .dataframe tbody tr th:only-of-type {\n",
       "        vertical-align: middle;\n",
       "    }\n",
       "\n",
       "    .dataframe tbody tr th {\n",
       "        vertical-align: top;\n",
       "    }\n",
       "\n",
       "    .dataframe thead th {\n",
       "        text-align: right;\n",
       "    }\n",
       "</style>\n",
       "<table border=\"1\" class=\"dataframe\">\n",
       "  <thead>\n",
       "    <tr style=\"text-align: right;\">\n",
       "      <th></th>\n",
       "      <th>idle_time</th>\n",
       "      <th>cycle_count</th>\n",
       "      <th>steps</th>\n",
       "      <th>items_processed</th>\n",
       "    </tr>\n",
       "  </thead>\n",
       "  <tbody>\n",
       "    <tr>\n",
       "      <td>buffersize_1</td>\n",
       "      <td>161.13</td>\n",
       "      <td>155.39</td>\n",
       "      <td>1527.55</td>\n",
       "      <td>151.02</td>\n",
       "    </tr>\n",
       "    <tr>\n",
       "      <td>buffersize_2</td>\n",
       "      <td>183.34</td>\n",
       "      <td>125.95</td>\n",
       "      <td>1521.66</td>\n",
       "      <td>151.02</td>\n",
       "    </tr>\n",
       "    <tr>\n",
       "      <td>buffersize_3</td>\n",
       "      <td>39.03</td>\n",
       "      <td>42.35</td>\n",
       "      <td>1460.88</td>\n",
       "      <td>151.03</td>\n",
       "    </tr>\n",
       "    <tr>\n",
       "      <td>buffersize_4</td>\n",
       "      <td>3.82</td>\n",
       "      <td>1.53</td>\n",
       "      <td>1424.48</td>\n",
       "      <td>151.02</td>\n",
       "    </tr>\n",
       "    <tr>\n",
       "      <td>buffersize_5</td>\n",
       "      <td>16.85</td>\n",
       "      <td>4.78</td>\n",
       "      <td>1442.42</td>\n",
       "      <td>151.04</td>\n",
       "    </tr>\n",
       "    <tr>\n",
       "      <td>buffersize_6</td>\n",
       "      <td>0.33</td>\n",
       "      <td>0.57</td>\n",
       "      <td>1430.71</td>\n",
       "      <td>151.04</td>\n",
       "    </tr>\n",
       "    <tr>\n",
       "      <td>buffersize_7</td>\n",
       "      <td>0.00</td>\n",
       "      <td>2.88</td>\n",
       "      <td>1436.79</td>\n",
       "      <td>151.03</td>\n",
       "    </tr>\n",
       "    <tr>\n",
       "      <td>buffersize_8</td>\n",
       "      <td>0.02</td>\n",
       "      <td>2.34</td>\n",
       "      <td>1423.12</td>\n",
       "      <td>151.04</td>\n",
       "    </tr>\n",
       "    <tr>\n",
       "      <td>buffersize_9</td>\n",
       "      <td>0.00</td>\n",
       "      <td>0.55</td>\n",
       "      <td>1444.86</td>\n",
       "      <td>151.01</td>\n",
       "    </tr>\n",
       "    <tr>\n",
       "      <td>buffersize_10</td>\n",
       "      <td>0.00</td>\n",
       "      <td>0.78</td>\n",
       "      <td>1442.44</td>\n",
       "      <td>151.01</td>\n",
       "    </tr>\n",
       "  </tbody>\n",
       "</table>\n",
       "</div>"
      ],
      "text/plain": [
       "               idle_time  cycle_count    steps  items_processed\n",
       "buffersize_1      161.13       155.39  1527.55           151.02\n",
       "buffersize_2      183.34       125.95  1521.66           151.02\n",
       "buffersize_3       39.03        42.35  1460.88           151.03\n",
       "buffersize_4        3.82         1.53  1424.48           151.02\n",
       "buffersize_5       16.85         4.78  1442.42           151.04\n",
       "buffersize_6        0.33         0.57  1430.71           151.04\n",
       "buffersize_7        0.00         2.88  1436.79           151.03\n",
       "buffersize_8        0.02         2.34  1423.12           151.04\n",
       "buffersize_9        0.00         0.55  1444.86           151.01\n",
       "buffersize_10       0.00         0.78  1442.44           151.01"
      ]
     },
     "execution_count": 43,
     "metadata": {},
     "output_type": "execute_result"
    }
   ],
   "source": [
    "## From the buffer size comparedv.fokker\n",
    "resultcsv = pd.DataFrame.from_dict(results).T\n",
    "resultcsv.to_csv('evaluation_results/results_DRL_buffer.csv')\n",
    "#resultcsv['idle_percent'] = resultcsv.idle_time/resultcsv.steps * 100\n",
    "#resultcsv['orders_processed'] = [50, 150, 150,250,350, 450]\n",
    "#resultcsv['cycle_percent'] = resultcsv.cycle_count/resultcsv.orders_processed * 100\n",
    "#resultcsv = resultcsv.reset_index()\n",
    "resultcsv"
   ]
  },
  {
   "cell_type": "code",
   "execution_count": 37,
   "metadata": {},
   "outputs": [
    {
     "data": {
      "text/plain": [
       "4000.0"
      ]
     },
     "execution_count": 37,
     "metadata": {},
     "output_type": "execute_result"
    }
   ],
   "source": []
  },
  {
   "cell_type": "markdown",
   "metadata": {},
   "source": [
    "# queue occupation"
   ]
  },
  {
   "cell_type": "code",
   "execution_count": 22,
   "metadata": {
    "scrolled": false
   },
   "outputs": [
    {
     "name": "stdout",
     "output_type": "stream",
     "text": [
      "\n",
      "Loaded config file from: D:\\Drive\\git\\RL\\rl\\trained_models\\AbstractConveyor2\\20201217_1400\\config.yml\n",
      "\n"
     ]
    },
    {
     "name": "stderr",
     "output_type": "stream",
     "text": [
      "c:\\users\\_vinc\\appdata\\local\\programs\\python\\python37\\lib\\site-packages\\ipykernel_launcher.py:25: YAMLLoadWarning: calling yaml.load() without Loader=... is deprecated, as the default Loader is unsafe. Please read https://msg.pyyaml.org/load for full details.\n"
     ]
    },
    {
     "ename": "AttributeError",
     "evalue": "module 'rl.environments' has no attribute 'AbstractConveyor2'",
     "output_type": "error",
     "traceback": [
      "\u001b[1;31m---------------------------------------------------------------------------\u001b[0m",
      "\u001b[1;31mAttributeError\u001b[0m                            Traceback (most recent call last)",
      "\u001b[1;32m<ipython-input-22-cec927e0c9e1>\u001b[0m in \u001b[0;36m<module>\u001b[1;34m\u001b[0m\n\u001b[0;32m     28\u001b[0m \u001b[1;33m\u001b[0m\u001b[0m\n\u001b[0;32m     29\u001b[0m     \u001b[1;31m#initialize env with the config file\u001b[0m\u001b[1;33m\u001b[0m\u001b[1;33m\u001b[0m\u001b[1;33m\u001b[0m\u001b[0m\n\u001b[1;32m---> 30\u001b[1;33m     \u001b[0menv_obj\u001b[0m \u001b[1;33m=\u001b[0m \u001b[0mgetattr\u001b[0m\u001b[1;33m(\u001b[0m\u001b[0mrl\u001b[0m\u001b[1;33m.\u001b[0m\u001b[0menvironments\u001b[0m\u001b[1;33m,\u001b[0m \u001b[0menv1\u001b[0m\u001b[1;33m)\u001b[0m\u001b[1;33m\u001b[0m\u001b[1;33m\u001b[0m\u001b[0m\n\u001b[0m\u001b[0;32m     31\u001b[0m     \u001b[0menv\u001b[0m \u001b[1;33m=\u001b[0m \u001b[0menv_obj\u001b[0m\u001b[1;33m(\u001b[0m\u001b[0mconfig\u001b[0m\u001b[1;33m)\u001b[0m\u001b[1;33m\u001b[0m\u001b[1;33m\u001b[0m\u001b[0m\n\u001b[0;32m     32\u001b[0m \u001b[1;33m\u001b[0m\u001b[0m\n",
      "\u001b[1;31mAttributeError\u001b[0m: module 'rl.environments' has no attribute 'AbstractConveyor2'"
     ]
    }
   ],
   "source": [
    "env1, subdir = to_combine[0]\n",
    "episodes = 10\n",
    "#combinations = ['1x2', '2x2', '2x3', '3x3', '4x3', '5x3']\n",
    "\n",
    "to_combine=[\n",
    "    ['AbstractConveyor2','20201217_1400'],\n",
    "    ['AbstractConveyor2','20201217_1500'],\n",
    "    ['AbstractConveyor2','20201217_1600'],\n",
    "    ['AbstractConveyor2','20201217_1700'],\n",
    "    ['AbstractConveyor2','20201217_1800'],\n",
    "    ['AbstractConveyor2','20201217_1900'],\n",
    "    ['AbstractConveyor2','20201217_2000'],\n",
    "    ['AbstractConveyor2','20201217_2100'],\n",
    "    ['AbstractConveyor2','20201217_2200'],\n",
    "    ['AbstractConveyor2','20201217_2300']\n",
    "    \n",
    "]\n",
    "\n",
    "results = {}\n",
    "for idx, combination in enumerate(to_combine):\n",
    "    env1, subdir = combination\n",
    "    # load config and variables needed\n",
    "    location_path= join(path, 'rl', 'trained_models', env1, subdir)\n",
    "    with open(join(location_path, 'config.yml'), 'r') as c:\n",
    "        config = yaml.load(c)\n",
    "        print('\\nLoaded config file from: {}\\n'.format(join(location_path, 'config.yml')))\n",
    "    model_config = config['models']['PPO2']\n",
    "\n",
    "    #initialize env with the config file\n",
    "    env_obj = getattr(rl.environments, env1)\n",
    "    env = env_obj(config)\n",
    "\n",
    "    # load best model from path\n",
    "    model = PPO2.load(join(location_path, 'model.zip'), env=DummyVecEnv([lambda: env]))\n",
    "\n",
    "\n",
    "\n",
    "\n",
    "    log_data=[]\n",
    "    for episode in range(episodes):\n",
    "        state = env.reset()\n",
    "        done = False\n",
    "        while not done:\n",
    "            action, _ = model.predict(state, deterministic=False)\n",
    "            state, reward, done, tc = env.step(action)\n",
    "            log_data.append(env.len_queues)\n",
    "    log_dataframe = pd.DataFrame(np.array(log_data)).reset_index()\n",
    "    for i in range(env.amount_of_gtps):\n",
    "        print('mean: ', log_dataframe[i].mean(), 'std: ', log_dataframe[i].std())\n",
    "\n",
    "    labels = ['Queue 1', 'Queue 2', 'Queue 3', 'Queue 4', 'Queue 5']\n",
    "    plt.boxplot([log_dataframe[i] for i in range(env.amount_of_gtps)], notch=True, labels=[label for label in labels][:env.amount_of_gtps], showfliers=False)\n",
    "    plt.ylim(0,1)\n",
    "    plt.ylabel('Queue occupation %')\n",
    "    plt.xlabel('Queue number')\n",
    "    plt.title('Occupation of queues for a {}x{} design'.format(env.amount_of_gtps, env.amount_of_outputs))\n",
    "    plt.savefig('figures/box_rl_queues_{}x{}.png'.format(env.amount_of_gtps, env.amount_of_outputs))\n",
    "    plt.show()\n",
    "  "
   ]
  },
  {
   "cell_type": "code",
   "execution_count": 40,
   "metadata": {},
   "outputs": [
    {
     "data": {
      "text/plain": [
       "20"
      ]
     },
     "execution_count": 40,
     "metadata": {},
     "output_type": "execute_result"
    }
   ],
   "source": [
    "self.diverter_locations[workstation][0]"
   ]
  },
  {
   "cell_type": "code",
   "execution_count": 38,
   "metadata": {},
   "outputs": [
    {
     "data": {
      "image/png": "[encoded data removed]",
      "text/plain": [
       "<Figure size 432x288 with 1 Axes>"
      ]
     },
     "metadata": {
      "needs_background": "light"
     },
     "output_type": "display_data"
    }
   ],
   "source": [
    "env.render_plt()"
   ]
  },
  {
   "cell_type": "code",
   "execution_count": 12,
   "metadata": {},
   "outputs": [],
   "source": [
    "def get_env_type(env_name):\n",
    "    \"\"\"\n",
    "    Get the type of environment from the env_name string\n",
    "    \"\"\"\n",
    "    try:\n",
    "        env = gym.make(env_name)\n",
    "        del env\n",
    "        return 'gym'\n",
    "    except:\n",
    "        return 'rl'"
   ]
  },
  {
   "cell_type": "code",
   "execution_count": 14,
   "metadata": {},
   "outputs": [],
   "source": [
    "def make_rl(**kwargs):\n",
    "    \"\"\"\n",
    "    Decorator for custom RL environments\n",
    "    \"\"\"\n",
    "    def _init():\n",
    "        env_obj = getattr(rl.environments, env_name)\n",
    "        env = env_obj(config)\n",
    "        return env\n",
    "    return _init\n",
    "\n",
    "def make_gym(rank, seed=0, **kwargs):\n",
    "    \"\"\"\n",
    "    Decorator for gym environments\n",
    "    \"\"\"\n",
    "    def _init():\n",
    "        env = gym.make(env_name)\n",
    "        env.seed(seed + rank)\n",
    "        return env\n",
    "    return _init"
   ]
  },
  {
   "cell_type": "code",
   "execution_count": 30,
   "metadata": {},
   "outputs": [],
   "source": [
    "env_name = 'ConveyorEnv'\n",
    "n_workers = 8\n",
    "env_obj = getattr(rl.environments, env_name)\n",
    "env = env_obj(config)\n",
    "\n",
    "# multiprocess environment\n",
    "env8 = [env for _ in range(n_workers)]"
   ]
  },
  {
   "cell_type": "code",
   "execution_count": 32,
   "metadata": {},
   "outputs": [
    {
     "name": "stderr",
     "output_type": "stream",
     "text": [
      "INFO:tensorflow:TensorFlow\n"
     ]
    }
   ],
   "source": [
    "from rl.baselines.Wrapper import create_env"
   ]
  },
  {
   "cell_type": "code",
   "execution_count": 34,
   "metadata": {},
   "outputs": [],
   "source": [
    "env8 = create_env(env_name, config=config, n_workers=8)"
   ]
  },
  {
   "cell_type": "code",
   "execution_count": 35,
   "metadata": {},
   "outputs": [
    {
     "data": {
      "text/plain": [
       "<stable_baselines.common.vec_env.subproc_vec_env.SubprocVecEnv at 0x228cb1dcb08>"
      ]
     },
     "execution_count": 35,
     "metadata": {},
     "output_type": "execute_result"
    }
   ],
   "source": [
    "env8"
   ]
  }
 ],
 "metadata": {
  "kernelspec": {
   "display_name": "fresh",
   "language": "python",
   "name": "fresh"
  },
  "language_info": {
   "codemirror_mode": {
    "name": "ipython",
    "version": 3
   },
   "file_extension": ".py",
   "mimetype": "text/x-python",
   "name": "python",
   "nbconvert_exporter": "python",
   "pygments_lexer": "ipython3",
   "version": "3.6.8"
  }
 },
 "nbformat": 4,
 "nbformat_minor": 4
}
