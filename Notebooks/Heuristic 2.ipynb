{
 "cells": [
  {
   "cell_type": "code",
   "execution_count": 2,
   "metadata": {},
   "outputs": [
    {
     "name": "stdout",
     "output_type": "stream",
     "text": [
      "Model Parameters are: \n",
      "\n",
      "\t Queue length:\t\t\t7 \n",
      " \t Pipeline length: \t\t10\n",
      "\t Amount GtP:\t\t\t2 \n",
      " \t Types of order carriers: \t2\n",
      "\t To process orders:\t\t150/200 \n",
      " \t Termination condition: \t3\n",
      "\n"
     ]
    },
    {
     "data": {
      "image/png": "[encoded data removed]",
      "text/plain": [
       "<Figure size 432x288 with 1 Axes>"
      ]
     },
     "metadata": {
      "needs_background": "light"
     },
     "output_type": "display_data"
    }
   ],
   "source": [
    "from rl.environments.AbstractConveyor import AbstractConveyor\n",
    "import yaml\n",
    "from stable_baselines import PPO2\n",
    "from stable_baselines.common.vec_env import DummyVecEnv\n",
    "import matplotlib.pyplot as plt\n",
    "import rl.helpers\n",
    "import cv2\n",
    "import math\n",
    "import random\n",
    "import statistics as sts\n",
    "from plotly.subplots import make_subplots\n",
    "import plotly.graph_objects as go\n",
    "import pandas as pd\n",
    "import datetime as dt\n",
    "from os.path import join\n",
    "import pathlib\n",
    "import numpy as np\n",
    "\n",
    "\n",
    "config_path = 'rl/config/AbstractConveyor.yml'\n",
    "with open(config_path, 'r') as f:\n",
    "    config = yaml.safe_load(f)\n",
    "env = AbstractConveyor(config)\n",
    "\n",
    "print('Model Parameters are: \\n')\n",
    "print('\\t Queue length:\\t\\t\\t{} \\n \\t Pipeline length: \\t\\t{}'.format(env.gtp_buffer_length, env.pipeline_length))\n",
    "print('\\t Amount GtP:\\t\\t\\t{} \\n \\t Types of order carriers: \\t{}'.format(env.amount_of_gtps, env.amount_of_outputs))\n",
    "print('\\t To process orders:\\t\\t{}/{} \\n \\t Termination condition: \\t{}\\n'.format(env.max_items_processed, env.amount_of_gtps*env.gtp_demand_size, env.termination_condition))\n",
    "env.render_plt()"
   ]
  },
  {
   "cell_type": "code",
   "execution_count": 54,
   "metadata": {},
   "outputs": [],
   "source": [
    "def step_on_process_time(actions_list, threshold=5):\n",
    "    \"\"\"Function that takes steps based on remaining processing time at workstations\"\"\"\n",
    "    \n",
    "    for workstation in range(env.amount_of_gtps)[::-1]:\n",
    "        rpt_w = env.W_times[workstation+1]\n",
    "        rpt_q = sum([6 if item == 1 else 30 if item ==2 else 60 if item ==3 else 0 for item in env.in_queue[workstation]])\n",
    "        rpt_p = sum([6 if item == 1 else 30 if item ==2 else 60 if item ==3 else 0 for item in [item[1] for item in env.items_on_conv if item[2]==workstation+1 and item[0][1]==7]])\n",
    "        total_rpt = rpt_w + rpt_q + rpt_p\n",
    "        total_pipe = env.pipeline_length + env.gtp_buffer_length + workstation * 4 + 2\n",
    "        print(total_rpt - total_pipe)\n",
    "\n",
    "\n",
    "        if total_rpt - total_pipe < threshold:\n",
    "            try:\n",
    "                current_demand = env.init_queues[workstation][len(env.in_pipe[workstation]):][0]\n",
    "                actions_list.append((current_demand, workstation+1))\n",
    "            except:\n",
    "                pass\n",
    "\n",
    "    #then for this step, process the first next action in the actions_list:\n",
    "    try:\n",
    "        order_type, goal = actions_list[0]\n",
    "        actions_list = actions_list[1:]\n",
    "        \n",
    "    except:\n",
    "        order_type, goal = 0, 0\n",
    "\n",
    "    env.step(None, order_type, goal)"
   ]
  },
  {
   "cell_type": "code",
   "execution_count": 285,
   "metadata": {},
   "outputs": [
    {
     "name": "stdout",
     "output_type": "stream",
     "text": [
      "5\n",
      "8\n",
      "[]\n",
      "{0: 0, 1: 0}\n"
     ]
    },
    {
     "data": {
      "image/png": "[encoded data removed]",
      "text/plain": [
       "<Figure size 432x288 with 1 Axes>"
      ]
     },
     "metadata": {
      "needs_background": "light"
     },
     "output_type": "display_data"
    }
   ],
   "source": [
    "env.step_on_process_time()\n",
    "print(env.actions_list)\n",
    "print(env.idle_times_operator)\n",
    "env.render_plt()"
   ]
  },
  {
   "cell_type": "code",
   "execution_count": null,
   "metadata": {},
   "outputs": [],
   "source": []
  },
  {
   "cell_type": "code",
   "execution_count": 318,
   "metadata": {},
   "outputs": [
    {
     "data": {
      "text/plain": [
       "[[[1, 5], 2, 1], [[13, 2], 2, 1], [[8, 14], 2, 1], [[18, 7], 1, 1]]"
      ]
     },
     "execution_count": 318,
     "metadata": {},
     "output_type": "execute_result"
    }
   ],
   "source": [
    "env.items_on_conv"
   ]
  },
  {
   "cell_type": "code",
   "execution_count": 30,
   "metadata": {},
   "outputs": [
    {
     "name": "stdout",
     "output_type": "stream",
     "text": [
      "43 19\n",
      "110 23\n"
     ]
    }
   ],
   "source": [
    "threshold=5\n",
    "\n",
    "actions_list = []\n",
    "for workstation in range(env.amount_of_gtps)[::-1]:\n",
    "    rpt_w = env.W_times[workstation+1]\n",
    "    rpt_q = sum([6 if item == 1 else 30 if item ==2 else 60 if item ==3 else 0 for item in env.in_queue[workstation]])\n",
    "    rpt_p = sum([6 if item == 1 else 30 if item ==2 else 60 if item ==3 else 0 for item in [item[1] for item in env.items_on_conv if item[2]==workstation+1 and item[0][1]==7]])\n",
    "    total_rpt = rpt_w + rpt_q + rpt_p\n",
    "    total_pipe = env.pipeline_length + env.gtp_buffer_length + workstation * 4 + 2\n",
    "    print(total_rpt, total_pipe)\n",
    "    \n",
    "    \n",
    "    if total_rpt - total_pipe < threshold:\n",
    "        try:\n",
    "            current_demand = env.init_queues[workstation][len(env.in_pipe[workstation]):][0]\n",
    "            actions_list.append((current_demand, workstation+1))\n",
    "        except:\n",
    "            pass\n",
    "\n",
    "#then for this step, process the first next action in the actions_list:\n",
    "try:\n",
    "    order_type, goal = order_sequence[0]\n",
    "except:\n",
    "    order_type, goal = 0, 0\n",
    "    \n",
    "env.step(None, order_type, goal)"
   ]
  },
  {
   "cell_type": "code",
   "execution_count": 43,
   "metadata": {},
   "outputs": [
    {
     "name": "stdout",
     "output_type": "stream",
     "text": [
      "1\n",
      "0\n"
     ]
    }
   ],
   "source": [
    "for workstation in range(env.amount_of_gtps)[::-1]:\n",
    "    print(workstation)"
   ]
  },
  {
   "cell_type": "code",
   "execution_count": 40,
   "metadata": {},
   "outputs": [
    {
     "name": "stdout",
     "output_type": "stream",
     "text": [
      "[1]\n"
     ]
    },
    {
     "data": {
      "text/plain": [
       "1"
      ]
     },
     "execution_count": 40,
     "metadata": {},
     "output_type": "execute_result"
    }
   ],
   "source": [
    "workstation = 0\n",
    "print(env.in_pipe[workstation])\n",
    "env.init_queues[workstation][len(env.in_pipe[workstation]):][0]"
   ]
  }
 ],
 "metadata": {
  "kernelspec": {
   "display_name": "th_new-venv",
   "language": "python",
   "name": "th_new-venv"
  },
  "language_info": {
   "codemirror_mode": {
    "name": "ipython",
    "version": 3
   },
   "file_extension": ".py",
   "mimetype": "text/x-python",
   "name": "python",
   "nbconvert_exporter": "python",
   "pygments_lexer": "ipython3",
   "version": "3.7.5"
  }
 },
 "nbformat": 4,
 "nbformat_minor": 4
}
