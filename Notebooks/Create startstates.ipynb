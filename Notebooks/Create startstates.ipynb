{
 "cells": [
  {
   "cell_type": "code",
   "execution_count": 8,
   "metadata": {},
   "outputs": [
    {
     "name": "stdout",
     "output_type": "stream",
     "text": [
      "Model Parameters are: \n",
      "\n",
      "\t Queue length:\t\t\t2 \n",
      " \t Pipeline length: \t\t10\n",
      "\t Amount GtP:\t\t\t2 \n",
      " \t Types of order carriers: \t2\n",
      "\t To process orders:\t\t150/200 \n",
      " \t Termination condition: \t3\n",
      "\n"
     ]
    },
    {
     "data": {
      "image/png": "[encoded data removed]",
      "text/plain": [
       "<Figure size 432x288 with 1 Axes>"
      ]
     },
     "metadata": {
      "needs_background": "light"
     },
     "output_type": "display_data"
    }
   ],
   "source": [
    "from rl.environments.AbstractConveyor import AbstractConveyor\n",
    "import yaml\n",
    "from stable_baselines import PPO2\n",
    "from stable_baselines.common.vec_env import DummyVecEnv\n",
    "import matplotlib.pyplot as plt\n",
    "import rl.helpers\n",
    "import cv2\n",
    "import math\n",
    "import random\n",
    "import statistics as sts\n",
    "from plotly.subplots import make_subplots\n",
    "import plotly.graph_objects as go\n",
    "import pandas as pd\n",
    "from os.path import join\n",
    "import json\n",
    "\n",
    "\n",
    "config_path = 'rl/config/AbstractConveyor.yml'\n",
    "with open(config_path, 'r') as f:\n",
    "    config = yaml.safe_load(f)\n",
    "env = AbstractConveyor(config)\n",
    "\n",
    "print('Model Parameters are: \\n')\n",
    "print('\\t Queue length:\\t\\t\\t{} \\n \\t Pipeline length: \\t\\t{}'.format(env.gtp_buffer_length, env.pipeline_length))\n",
    "print('\\t Amount GtP:\\t\\t\\t{} \\n \\t Types of order carriers: \\t{}'.format(env.amount_of_gtps, env.amount_of_outputs))\n",
    "print('\\t To process orders:\\t\\t{}/{} \\n \\t Termination condition: \\t{}\\n'.format(env.max_items_processed, env.amount_of_gtps*env.gtp_demand_size, env.termination_condition))\n",
    "env.render_plt()"
   ]
  },
  {
   "cell_type": "code",
   "execution_count": 6,
   "metadata": {},
   "outputs": [],
   "source": [
    "configurations = [\n",
    "    [1,2],\n",
    "    [2,2],\n",
    "    [2,3],\n",
    "    [3,3],\n",
    "    [4,3],\n",
    "    [5,3],\n",
    "]"
   ]
  },
  {
   "cell_type": "code",
   "execution_count": 7,
   "metadata": {},
   "outputs": [
    {
     "name": "stdout",
     "output_type": "stream",
     "text": [
      "Ep:  5002, steps:  20, R: 0.000\r"
     ]
    }
   ],
   "source": [
    "init_states = {}\n",
    "for configuration in configurations:\n",
    "    no_gtp, output= configuration\n",
    "    print('building starting state for {}x{} design'.format(no_gtp, output))\n",
    "    config['environment']['amount_of_gtps'] = no_gtp\n",
    "    config['environment']['amount_of_outputs'] = output\n",
    "    \n",
    "    env = AbstractConveyor(config)\n",
    "    env.reset()\n",
    "\n",
    "    init_states['{}x{}'.format(no_gtp, output)] = {}\n",
    "    for i in range(5001):\n",
    "        env.reset()\n",
    "        init_states['{}x{}'.format(no_gtp, output)][i] = {}\n",
    "        init_states['{}x{}'.format(no_gtp, output)][i]['items_on_conv'] = env.items_on_conv\n",
    "        init_states['{}x{}'.format(no_gtp, output)][i]['in_queue'] = env.in_queue\n",
    "        init_states['{}x{}'.format(no_gtp, output)][i]['in_pipe'] = env.in_pipe\n",
    "        init_states['{}x{}'.format(no_gtp, output)][i]['W_times'] = env.W_times\n",
    "\n",
    "with open(join('rl', 'helpers', 'start_states.json'), 'w') as f:\n",
    "    f.write(json.dumps(init_states))\n",
    "    f.close()"
   ]
  },
  {
   "cell_type": "code",
   "execution_count": 9,
   "metadata": {},
   "outputs": [
    {
     "name": "stdout",
     "output_type": "stream",
     "text": [
      "building starting state for 2x2 design, buffer size1\n",
      "building starting state for 2x2 design, buffer size2\n",
      "building starting state for 2x2 design, buffer size3\n",
      "building starting state for 2x2 design, buffer size4\n",
      "building starting state for 2x2 design, buffer size5\n",
      "building starting state for 2x2 design, buffer size6\n",
      "building starting state for 2x2 design, buffer size7\n",
      "building starting state for 2x2 design, buffer size8\n",
      "building starting state for 2x2 design, buffer size9\n",
      "building starting state for 2x2 design, buffer size10\n",
      "Ep:  5002, steps:  20, R: 0.000\r"
     ]
    }
   ],
   "source": [
    "#for adjustable buffer size\n",
    "configurations = [1,2,3,4,5,6,7,8,9,10]\n",
    "init_states = {}\n",
    "init_states['2x2'] = {}\n",
    "for configuration in configurations:\n",
    "    print('building starting state for 2x2 design, buffer size{}'.format(configuration))\n",
    "    config['environment']['gtp_buffer_length'] = configuration\n",
    "\n",
    "    \n",
    "    env = AbstractConveyor(config)\n",
    "    env.reset()\n",
    "\n",
    "    init_states['2x2']['buffer{}'.format(configuration)] = {}\n",
    "    for i in range(5001):\n",
    "        env.reset()\n",
    "        init_states['2x2']['buffer{}'.format(configuration)][i] = {}\n",
    "        init_states['2x2']['buffer{}'.format(configuration)][i]['items_on_conv'] = env.items_on_conv\n",
    "        init_states['2x2']['buffer{}'.format(configuration)][i]['in_queue'] = env.in_queue\n",
    "        init_states['2x2']['buffer{}'.format(configuration)][i]['in_pipe'] = env.in_pipe\n",
    "        init_states['2x2']['buffer{}'.format(configuration)][i]['W_times'] = env.W_times\n",
    "\n",
    "with open(join('rl', 'helpers', 'start_states_adj_buffer.json'), 'w') as f:\n",
    "    f.write(json.dumps(init_states))\n",
    "    f.close()"
   ]
  }
 ],
 "metadata": {
  "kernelspec": {
   "display_name": "th_new-venv",
   "language": "python",
   "name": "th_new-venv"
  },
  "language_info": {
   "codemirror_mode": {
    "name": "ipython",
    "version": 3
   },
   "file_extension": ".py",
   "mimetype": "text/x-python",
   "name": "python",
   "nbconvert_exporter": "python",
   "pygments_lexer": "ipython3",
   "version": "3.7.5"
  }
 },
 "nbformat": 4,
 "nbformat_minor": 4
}
