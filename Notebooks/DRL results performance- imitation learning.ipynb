{
 "cells": [
  {
   "cell_type": "code",
   "execution_count": 14,
   "metadata": {},
   "outputs": [],
   "source": [
    "import rl.environments\n",
    "from os.path import join\n",
    "from stable_baselines import PPO2\n",
    "from stable_baselines.common.vec_env import DummyVecEnv\n",
    "import yaml, pathlib\n",
    "import numpy as np\n",
    "import pandas as pd\n",
    "import matplotlib.pyplot as plt\n",
    "\n",
    "path = pathlib.Path().absolute()\n",
    "\n",
    "## For the different designs with imi\n",
    "to_combine=[\n",
    "    ['ConveyorEnv1','20210110_1000'],  #1x2\n",
    "    ['ConveyorEnv1','20210110_1100'],  #2x2 \n",
    "    ['ConveyorEnv1','20210110_1200'],  #2x3\n",
    "    ['ConveyorEnv1','20210110_1300'],  #3x3\n",
    "    ['ConveyorEnv1','20210110_1400'],  #4x3\n",
    "    ['ConveyorEnv1','20210110_1500']   #5x3\n",
    "    \n",
    "]\n",
    "\n",
    "## For the buffer size - with pre-training\n",
    "# to_combine=[\n",
    "#     ['ConveyorEnv11','20210108_1400'], #1\n",
    "#     ['ConveyorEnv11','20210108_1500'], #2\n",
    "#     ['ConveyorEnv11','20210108_1600'], #3\n",
    "#     ['ConveyorEnv11','20210108_1700'], #4\n",
    "#     ['ConveyorEnv11','20210108_1800'], #5\n",
    "#     ['ConveyorEnv11','20210108_1900'], #6\n",
    "#     ['ConveyorEnv11','20210108_2000'], #7\n",
    "#     ['ConveyorEnv11','20210108_2100'], #8\n",
    "#     ['ConveyorEnv11','20210108_2200'], #9\n",
    "#     ['ConveyorEnv11','20210108_2300'] #10\n",
    "    \n",
    "# ]\n",
    "\n",
    "# ## for the buffer size without pre-training \n",
    "# to_combine=[\n",
    "#     ['ConveyorEnv11','20210110_0000'], #1\n",
    "#     ['ConveyorEnv11','20210110_0100'], #2\n",
    "#     ['ConveyorEnv11','20210110_0200'], #3\n",
    "#     ['ConveyorEnv11','20210110_0300'], #4\n",
    "#     ['ConveyorEnv11','20210110_0400'], #5\n",
    "#     ['ConveyorEnv11','20210110_0500'], #6\n",
    "#     ['ConveyorEnv11','20210110_0600'], #7\n",
    "#     ['ConveyorEnv11','20210110_0700'], #8\n",
    "#     ['ConveyorEnv11','20210110_0800'], #9\n",
    "#     ['ConveyorEnv11','20210110_0900'] #10\n",
    "    \n",
    "# ]"
   ]
  },
  {
   "cell_type": "code",
   "execution_count": 15,
   "metadata": {},
   "outputs": [
    {
     "name": "stderr",
     "output_type": "stream",
     "text": [
      "c:\\users\\_vinc\\appdata\\local\\programs\\python\\python37\\lib\\site-packages\\ipykernel_launcher.py:14: YAMLLoadWarning: calling yaml.load() without Loader=... is deprecated, as the default Loader is unsafe. Please read https://msg.pyyaml.org/load for full details.\n",
      "  \n"
     ]
    },
    {
     "name": "stdout",
     "output_type": "stream",
     "text": [
      "\n",
      "Loaded config file from: D:\\Drive\\git\\RL\\rl\\trained_models\\ConveyorEnv1\\20210110_1000\\config.yml\n",
      "\n",
      "Ep:   100, steps: 1614, R: 0.00000\r"
     ]
    },
    {
     "name": "stderr",
     "output_type": "stream",
     "text": [
      "c:\\users\\_vinc\\appdata\\local\\programs\\python\\python37\\lib\\site-packages\\ipykernel_launcher.py:14: YAMLLoadWarning: calling yaml.load() without Loader=... is deprecated, as the default Loader is unsafe. Please read https://msg.pyyaml.org/load for full details.\n",
      "  \n"
     ]
    },
    {
     "name": "stdout",
     "output_type": "stream",
     "text": [
      "\n",
      "Loaded config file from: D:\\Drive\\git\\RL\\rl\\trained_models\\ConveyorEnv1\\20210110_1100\\config.yml\n",
      "\n",
      "Ep:   100, steps: 721, R: 0.00000\r"
     ]
    },
    {
     "name": "stderr",
     "output_type": "stream",
     "text": [
      "c:\\users\\_vinc\\appdata\\local\\programs\\python\\python37\\lib\\site-packages\\ipykernel_launcher.py:14: YAMLLoadWarning: calling yaml.load() without Loader=... is deprecated, as the default Loader is unsafe. Please read https://msg.pyyaml.org/load for full details.\n",
      "  \n"
     ]
    },
    {
     "name": "stdout",
     "output_type": "stream",
     "text": [
      "\n",
      "Loaded config file from: D:\\Drive\\git\\RL\\rl\\trained_models\\ConveyorEnv1\\20210110_1200\\config.yml\n",
      "\n",
      "Ep:   100, steps: 1457, R: 0.00000000\r"
     ]
    },
    {
     "name": "stderr",
     "output_type": "stream",
     "text": [
      "c:\\users\\_vinc\\appdata\\local\\programs\\python\\python37\\lib\\site-packages\\ipykernel_launcher.py:14: YAMLLoadWarning: calling yaml.load() without Loader=... is deprecated, as the default Loader is unsafe. Please read https://msg.pyyaml.org/load for full details.\n",
      "  \n"
     ]
    },
    {
     "name": "stdout",
     "output_type": "stream",
     "text": [
      "\n",
      "Loaded config file from: D:\\Drive\\git\\RL\\rl\\trained_models\\ConveyorEnv1\\20210110_1300\\config.yml\n",
      "\n",
      "Ep:   100, steps: 758, R: -90.0000000\r"
     ]
    },
    {
     "name": "stderr",
     "output_type": "stream",
     "text": [
      "c:\\users\\_vinc\\appdata\\local\\programs\\python\\python37\\lib\\site-packages\\ipykernel_launcher.py:14: YAMLLoadWarning: calling yaml.load() without Loader=... is deprecated, as the default Loader is unsafe. Please read https://msg.pyyaml.org/load for full details.\n",
      "  \n"
     ]
    },
    {
     "name": "stdout",
     "output_type": "stream",
     "text": [
      "\n",
      "Loaded config file from: D:\\Drive\\git\\RL\\rl\\trained_models\\ConveyorEnv1\\20210110_1400\\config.yml\n",
      "\n",
      "Ep:   100, steps: 666, R: -111.000000\r"
     ]
    },
    {
     "name": "stderr",
     "output_type": "stream",
     "text": [
      "c:\\users\\_vinc\\appdata\\local\\programs\\python\\python37\\lib\\site-packages\\ipykernel_launcher.py:14: YAMLLoadWarning: calling yaml.load() without Loader=... is deprecated, as the default Loader is unsafe. Please read https://msg.pyyaml.org/load for full details.\n",
      "  \n"
     ]
    },
    {
     "name": "stdout",
     "output_type": "stream",
     "text": [
      "\n",
      "Loaded config file from: D:\\Drive\\git\\RL\\rl\\trained_models\\ConveyorEnv1\\20210110_1500\\config.yml\n",
      "\n",
      "Ep:   100, steps: 721, R: -2925.00000\r"
     ]
    }
   ],
   "source": [
    "env1, subdir = to_combine[0]\n",
    "episodes = 100\n",
    "#combinations = ['2x2', '2x2_pretrained', '2x2_sto', '2x2_sto_gamma_adjust', '2x2_sto_only_punish', '2x2_sto_only_punish_lowerR']\n",
    "combinations = ['1x2', '2x2', '2x3', '3x3', '4x3', '5x3']\n",
    "#combinations = ['buffersize_{:02d}'.format(i+1) for i in range(11)]\n",
    "#combinations = ['pipeline_{}'.format(i+1) for i in range(10,55,5)]\n",
    "\n",
    "results = {}\n",
    "for idx, combination in enumerate(to_combine):\n",
    "    env1, subdir = combination\n",
    "    # load config and variables needed\n",
    "    location_path= join(path, 'rl', 'trained_models', env1, subdir)\n",
    "    with open(join(location_path, 'config.yml'), 'r') as c:\n",
    "        config = yaml.load(c)\n",
    "        print('\\nLoaded config file from: {}\\n'.format(join(location_path, 'config.yml')))\n",
    "    model_config = config['models']['PPO2']\n",
    "\n",
    "    #initialize env with the config file\n",
    "    env_obj = getattr(rl.environments, env1)\n",
    "    env = env_obj(config)\n",
    " \n",
    "\n",
    "    # load best model from path\n",
    "    model = PPO2.load(join(location_path, 'pretrained-model.zip'), env=DummyVecEnv([lambda: env]))\n",
    "\n",
    "\n",
    "    results[combinations[idx]] = {}\n",
    "    results[combinations[idx]]['idle_time'] = 0\n",
    "    results[combinations[idx]]['cycle_count'] = 0\n",
    "    results[combinations[idx]]['steps'] = 0\n",
    "    results[combinations[idx]]['items_processed'] = 0\n",
    "\n",
    "    for episode in range(episodes):\n",
    "        # Run an episode\n",
    "        state = env.reset()\n",
    "        done = False\n",
    "        while not done:\n",
    "            action, _ = model.predict(state, deterministic=True)\n",
    "            state, reward, done, tc = env.step(action)\n",
    "        results[combinations[idx]]['idle_time'] += sum(env.idle_times_operator.values())\n",
    "        results[combinations[idx]]['cycle_count'] += env.cycle_count\n",
    "        results[combinations[idx]]['steps'] += env.steps\n",
    "        results[combinations[idx]]['items_processed'] += env.items_processed\n",
    "    results[combinations[idx]]['idle_time'] = results[combinations[idx]]['idle_time'] / episodes\n",
    "    results[combinations[idx]]['cycle_count'] = results[combinations[idx]]['cycle_count'] /episodes\n",
    "    results[combinations[idx]]['steps'] = results[combinations[idx]]['steps'] /episodes\n",
    "    results[combinations[idx]]['items_processed'] = results[combinations[idx]]['items_processed'] /episodes"
   ]
  },
  {
   "cell_type": "code",
   "execution_count": 16,
   "metadata": {},
   "outputs": [
    {
     "data": {
      "text/html": [
       "<div>\n",
       "<style scoped>\n",
       "    .dataframe tbody tr th:only-of-type {\n",
       "        vertical-align: middle;\n",
       "    }\n",
       "\n",
       "    .dataframe tbody tr th {\n",
       "        vertical-align: top;\n",
       "    }\n",
       "\n",
       "    .dataframe thead th {\n",
       "        text-align: right;\n",
       "    }\n",
       "</style>\n",
       "<table border=\"1\" class=\"dataframe\">\n",
       "  <thead>\n",
       "    <tr style=\"text-align: right;\">\n",
       "      <th></th>\n",
       "      <th>idle_time</th>\n",
       "      <th>cycle_count</th>\n",
       "      <th>steps</th>\n",
       "      <th>items_processed</th>\n",
       "    </tr>\n",
       "  </thead>\n",
       "  <tbody>\n",
       "    <tr>\n",
       "      <td>1x2</td>\n",
       "      <td>0.29</td>\n",
       "      <td>0.25</td>\n",
       "      <td>1558.59</td>\n",
       "      <td>81.00</td>\n",
       "    </tr>\n",
       "    <tr>\n",
       "      <td>2x2</td>\n",
       "      <td>0.00</td>\n",
       "      <td>0.48</td>\n",
       "      <td>766.92</td>\n",
       "      <td>81.01</td>\n",
       "    </tr>\n",
       "    <tr>\n",
       "      <td>2x3</td>\n",
       "      <td>138.32</td>\n",
       "      <td>13.16</td>\n",
       "      <td>1407.26</td>\n",
       "      <td>80.28</td>\n",
       "    </tr>\n",
       "    <tr>\n",
       "      <td>3x3</td>\n",
       "      <td>552.93</td>\n",
       "      <td>50.62</td>\n",
       "      <td>1073.80</td>\n",
       "      <td>78.96</td>\n",
       "    </tr>\n",
       "    <tr>\n",
       "      <td>4x3</td>\n",
       "      <td>551.30</td>\n",
       "      <td>59.10</td>\n",
       "      <td>804.63</td>\n",
       "      <td>80.07</td>\n",
       "    </tr>\n",
       "    <tr>\n",
       "      <td>5x3</td>\n",
       "      <td>1730.53</td>\n",
       "      <td>121.42</td>\n",
       "      <td>871.86</td>\n",
       "      <td>78.01</td>\n",
       "    </tr>\n",
       "  </tbody>\n",
       "</table>\n",
       "</div>"
      ],
      "text/plain": [
       "     idle_time  cycle_count    steps  items_processed\n",
       "1x2       0.29         0.25  1558.59            81.00\n",
       "2x2       0.00         0.48   766.92            81.01\n",
       "2x3     138.32        13.16  1407.26            80.28\n",
       "3x3     552.93        50.62  1073.80            78.96\n",
       "4x3     551.30        59.10   804.63            80.07\n",
       "5x3    1730.53       121.42   871.86            78.01"
      ]
     },
     "execution_count": 16,
     "metadata": {},
     "output_type": "execute_result"
    }
   ],
   "source": [
    "resultcsv = pd.DataFrame.from_dict(results).T\n",
    "resultcsv.to_csv('evaluation_results/results_designs_pretrain.csv')\n",
    "#resultcsv.to_csv('evaluation_results/results_DRL_buffer_imi.csv')\n",
    "#resultcsv['idle_percent'] = resultcsv.idle_time/resultcsv.steps * 100\n",
    "#resultcsv['orders_processed'] = [50, 150, 150,250,350, 450]\n",
    "#resultcsv['cycle_percent'] = resultcsv.cycle_count/resultcsv.orders_processed * 100\n",
    "#resultcsv = resultcsv.reset_index()\n",
    "resultcsv"
   ]
  },
  {
   "cell_type": "code",
   "execution_count": 43,
   "metadata": {},
   "outputs": [
    {
     "data": {
      "text/html": [
       "<div>\n",
       "<style scoped>\n",
       "    .dataframe tbody tr th:only-of-type {\n",
       "        vertical-align: middle;\n",
       "    }\n",
       "\n",
       "    .dataframe tbody tr th {\n",
       "        vertical-align: top;\n",
       "    }\n",
       "\n",
       "    .dataframe thead th {\n",
       "        text-align: right;\n",
       "    }\n",
       "</style>\n",
       "<table border=\"1\" class=\"dataframe\">\n",
       "  <thead>\n",
       "    <tr style=\"text-align: right;\">\n",
       "      <th></th>\n",
       "      <th>idle_time</th>\n",
       "      <th>cycle_count</th>\n",
       "      <th>steps</th>\n",
       "      <th>items_processed</th>\n",
       "    </tr>\n",
       "  </thead>\n",
       "  <tbody>\n",
       "    <tr>\n",
       "      <td>buffersize_1</td>\n",
       "      <td>161.13</td>\n",
       "      <td>155.39</td>\n",
       "      <td>1527.55</td>\n",
       "      <td>151.02</td>\n",
       "    </tr>\n",
       "    <tr>\n",
       "      <td>buffersize_2</td>\n",
       "      <td>183.34</td>\n",
       "      <td>125.95</td>\n",
       "      <td>1521.66</td>\n",
       "      <td>151.02</td>\n",
       "    </tr>\n",
       "    <tr>\n",
       "      <td>buffersize_3</td>\n",
       "      <td>39.03</td>\n",
       "      <td>42.35</td>\n",
       "      <td>1460.88</td>\n",
       "      <td>151.03</td>\n",
       "    </tr>\n",
       "    <tr>\n",
       "      <td>buffersize_4</td>\n",
       "      <td>3.82</td>\n",
       "      <td>1.53</td>\n",
       "      <td>1424.48</td>\n",
       "      <td>151.02</td>\n",
       "    </tr>\n",
       "    <tr>\n",
       "      <td>buffersize_5</td>\n",
       "      <td>16.85</td>\n",
       "      <td>4.78</td>\n",
       "      <td>1442.42</td>\n",
       "      <td>151.04</td>\n",
       "    </tr>\n",
       "    <tr>\n",
       "      <td>buffersize_6</td>\n",
       "      <td>0.33</td>\n",
       "      <td>0.57</td>\n",
       "      <td>1430.71</td>\n",
       "      <td>151.04</td>\n",
       "    </tr>\n",
       "    <tr>\n",
       "      <td>buffersize_7</td>\n",
       "      <td>0.00</td>\n",
       "      <td>2.88</td>\n",
       "      <td>1436.79</td>\n",
       "      <td>151.03</td>\n",
       "    </tr>\n",
       "    <tr>\n",
       "      <td>buffersize_8</td>\n",
       "      <td>0.02</td>\n",
       "      <td>2.34</td>\n",
       "      <td>1423.12</td>\n",
       "      <td>151.04</td>\n",
       "    </tr>\n",
       "    <tr>\n",
       "      <td>buffersize_9</td>\n",
       "      <td>0.00</td>\n",
       "      <td>0.55</td>\n",
       "      <td>1444.86</td>\n",
       "      <td>151.01</td>\n",
       "    </tr>\n",
       "    <tr>\n",
       "      <td>buffersize_10</td>\n",
       "      <td>0.00</td>\n",
       "      <td>0.78</td>\n",
       "      <td>1442.44</td>\n",
       "      <td>151.01</td>\n",
       "    </tr>\n",
       "  </tbody>\n",
       "</table>\n",
       "</div>"
      ],
      "text/plain": [
       "               idle_time  cycle_count    steps  items_processed\n",
       "buffersize_1      161.13       155.39  1527.55           151.02\n",
       "buffersize_2      183.34       125.95  1521.66           151.02\n",
       "buffersize_3       39.03        42.35  1460.88           151.03\n",
       "buffersize_4        3.82         1.53  1424.48           151.02\n",
       "buffersize_5       16.85         4.78  1442.42           151.04\n",
       "buffersize_6        0.33         0.57  1430.71           151.04\n",
       "buffersize_7        0.00         2.88  1436.79           151.03\n",
       "buffersize_8        0.02         2.34  1423.12           151.04\n",
       "buffersize_9        0.00         0.55  1444.86           151.01\n",
       "buffersize_10       0.00         0.78  1442.44           151.01"
      ]
     },
     "execution_count": 43,
     "metadata": {},
     "output_type": "execute_result"
    }
   ],
   "source": [
    "## From the buffer size compared\n",
    "resultcsv = pd.DataFrame.from_dict(results).T\n",
    "resultcsv.to_csv('evaluation_results/results_DRL_buffer_imi.csv')\n",
    "#resultcsv['idle_percent'] = resultcsv.idle_time/resultcsv.steps * 100\n",
    "#resultcsv['orders_processed'] = [50, 150, 150,250,350, 450]\n",
    "#resultcsv['cycle_percent'] = resultcsv.cycle_count/resultcsv.orders_processed * 100\n",
    "#resultcsv = resultcsv.reset_index()\n",
    "resultcsv"
   ]
  },
  {
   "cell_type": "markdown",
   "metadata": {},
   "source": [
    "# queue occupation"
   ]
  },
  {
   "cell_type": "code",
   "execution_count": 22,
   "metadata": {
    "scrolled": false
   },
   "outputs": [
    {
     "name": "stdout",
     "output_type": "stream",
     "text": [
      "\n",
      "Loaded config file from: D:\\Drive\\git\\RL\\rl\\trained_models\\AbstractConveyor2\\20201217_1400\\config.yml\n",
      "\n"
     ]
    },
    {
     "name": "stderr",
     "output_type": "stream",
     "text": [
      "c:\\users\\_vinc\\appdata\\local\\programs\\python\\python37\\lib\\site-packages\\ipykernel_launcher.py:25: YAMLLoadWarning: calling yaml.load() without Loader=... is deprecated, as the default Loader is unsafe. Please read https://msg.pyyaml.org/load for full details.\n"
     ]
    },
    {
     "ename": "AttributeError",
     "evalue": "module 'rl.environments' has no attribute 'AbstractConveyor2'",
     "output_type": "error",
     "traceback": [
      "\u001b[1;31m---------------------------------------------------------------------------\u001b[0m",
      "\u001b[1;31mAttributeError\u001b[0m                            Traceback (most recent call last)",
      "\u001b[1;32m<ipython-input-22-cec927e0c9e1>\u001b[0m in \u001b[0;36m<module>\u001b[1;34m\u001b[0m\n\u001b[0;32m     28\u001b[0m \u001b[1;33m\u001b[0m\u001b[0m\n\u001b[0;32m     29\u001b[0m     \u001b[1;31m#initialize env with the config file\u001b[0m\u001b[1;33m\u001b[0m\u001b[1;33m\u001b[0m\u001b[1;33m\u001b[0m\u001b[0m\n\u001b[1;32m---> 30\u001b[1;33m     \u001b[0menv_obj\u001b[0m \u001b[1;33m=\u001b[0m \u001b[0mgetattr\u001b[0m\u001b[1;33m(\u001b[0m\u001b[0mrl\u001b[0m\u001b[1;33m.\u001b[0m\u001b[0menvironments\u001b[0m\u001b[1;33m,\u001b[0m \u001b[0menv1\u001b[0m\u001b[1;33m)\u001b[0m\u001b[1;33m\u001b[0m\u001b[1;33m\u001b[0m\u001b[0m\n\u001b[0m\u001b[0;32m     31\u001b[0m     \u001b[0menv\u001b[0m \u001b[1;33m=\u001b[0m \u001b[0menv_obj\u001b[0m\u001b[1;33m(\u001b[0m\u001b[0mconfig\u001b[0m\u001b[1;33m)\u001b[0m\u001b[1;33m\u001b[0m\u001b[1;33m\u001b[0m\u001b[0m\n\u001b[0;32m     32\u001b[0m \u001b[1;33m\u001b[0m\u001b[0m\n",
      "\u001b[1;31mAttributeError\u001b[0m: module 'rl.environments' has no attribute 'AbstractConveyor2'"
     ]
    }
   ],
   "source": [
    "env1, subdir = to_combine[0]\n",
    "episodes = 10\n",
    "#combinations = ['1x2', '2x2', '2x3', '3x3', '4x3', '5x3']\n",
    "\n",
    "to_combine=[\n",
    "    ['AbstractConveyor2','20201217_1400'],\n",
    "    ['AbstractConveyor2','20201217_1500'],\n",
    "    ['AbstractConveyor2','20201217_1600'],\n",
    "    ['AbstractConveyor2','20201217_1700'],\n",
    "    ['AbstractConveyor2','20201217_1800'],\n",
    "    ['AbstractConveyor2','20201217_1900'],\n",
    "    ['AbstractConveyor2','20201217_2000'],\n",
    "    ['AbstractConveyor2','20201217_2100'],\n",
    "    ['AbstractConveyor2','20201217_2200'],\n",
    "    ['AbstractConveyor2','20201217_2300']\n",
    "    \n",
    "]\n",
    "\n",
    "results = {}\n",
    "for idx, combination in enumerate(to_combine):\n",
    "    env1, subdir = combination\n",
    "    # load config and variables needed\n",
    "    location_path= join(path, 'rl', 'trained_models', env1, subdir)\n",
    "    with open(join(location_path, 'config.yml'), 'r') as c:\n",
    "        config = yaml.load(c)\n",
    "        print('\\nLoaded config file from: {}\\n'.format(join(location_path, 'config.yml')))\n",
    "    model_config = config['models']['PPO2']\n",
    "\n",
    "    #initialize env with the config file\n",
    "    env_obj = getattr(rl.environments, env1)\n",
    "    env = env_obj(config)\n",
    "\n",
    "    # load best model from path\n",
    "    model = PPO2.load(join(location_path, 'model.zip'), env=DummyVecEnv([lambda: env]))\n",
    "\n",
    "\n",
    "\n",
    "\n",
    "    log_data=[]\n",
    "    for episode in range(episodes):\n",
    "        state = env.reset()\n",
    "        done = False\n",
    "        while not done:\n",
    "            action, _ = model.predict(state, deterministic=False)\n",
    "            state, reward, done, tc = env.step(action)\n",
    "            log_data.append(env.len_queues)\n",
    "    log_dataframe = pd.DataFrame(np.array(log_data)).reset_index()\n",
    "    for i in range(env.amount_of_gtps):\n",
    "        print('mean: ', log_dataframe[i].mean(), 'std: ', log_dataframe[i].std())\n",
    "\n",
    "    labels = ['Queue 1', 'Queue 2', 'Queue 3', 'Queue 4', 'Queue 5']\n",
    "    plt.boxplot([log_dataframe[i] for i in range(env.amount_of_gtps)], notch=True, labels=[label for label in labels][:env.amount_of_gtps], showfliers=False)\n",
    "    plt.ylim(0,1)\n",
    "    plt.ylabel('Queue occupation %')\n",
    "    plt.xlabel('Queue number')\n",
    "    plt.title('Occupation of queues for a {}x{} design'.format(env.amount_of_gtps, env.amount_of_outputs))\n",
    "    plt.savefig('figures/box_rl_queues_{}x{}.png'.format(env.amount_of_gtps, env.amount_of_outputs))\n",
    "    plt.show()\n",
    "  "
   ]
  },
  {
   "cell_type": "code",
   "execution_count": 40,
   "metadata": {},
   "outputs": [
    {
     "data": {
      "text/plain": [
       "20"
      ]
     },
     "execution_count": 40,
     "metadata": {},
     "output_type": "execute_result"
    }
   ],
   "source": [
    "self.diverter_locations[workstation][0]"
   ]
  },
  {
   "cell_type": "code",
   "execution_count": 38,
   "metadata": {},
   "outputs": [
    {
     "data": {
      "image/png": "[encoded data removed]",
      "text/plain": [
       "<Figure size 432x288 with 1 Axes>"
      ]
     },
     "metadata": {
      "needs_background": "light"
     },
     "output_type": "display_data"
    }
   ],
   "source": [
    "env.render_plt()"
   ]
  },
  {
   "cell_type": "code",
   "execution_count": 12,
   "metadata": {},
   "outputs": [],
   "source": [
    "def get_env_type(env_name):\n",
    "    \"\"\"\n",
    "    Get the type of environment from the env_name string\n",
    "    \"\"\"\n",
    "    try:\n",
    "        env = gym.make(env_name)\n",
    "        del env\n",
    "        return 'gym'\n",
    "    except:\n",
    "        return 'rl'"
   ]
  },
  {
   "cell_type": "code",
   "execution_count": 14,
   "metadata": {},
   "outputs": [],
   "source": [
    "def make_rl(**kwargs):\n",
    "    \"\"\"\n",
    "    Decorator for custom RL environments\n",
    "    \"\"\"\n",
    "    def _init():\n",
    "        env_obj = getattr(rl.environments, env_name)\n",
    "        env = env_obj(config)\n",
    "        return env\n",
    "    return _init\n",
    "\n",
    "def make_gym(rank, seed=0, **kwargs):\n",
    "    \"\"\"\n",
    "    Decorator for gym environments\n",
    "    \"\"\"\n",
    "    def _init():\n",
    "        env = gym.make(env_name)\n",
    "        env.seed(seed + rank)\n",
    "        return env\n",
    "    return _init"
   ]
  },
  {
   "cell_type": "code",
   "execution_count": 30,
   "metadata": {},
   "outputs": [],
   "source": [
    "env_name = 'ConveyorEnv'\n",
    "n_workers = 8\n",
    "env_obj = getattr(rl.environments, env_name)\n",
    "env = env_obj(config)\n",
    "\n",
    "# multiprocess environment\n",
    "env8 = [env for _ in range(n_workers)]"
   ]
  },
  {
   "cell_type": "code",
   "execution_count": 32,
   "metadata": {},
   "outputs": [
    {
     "name": "stderr",
     "output_type": "stream",
     "text": [
      "INFO:tensorflow:TensorFlow\n"
     ]
    }
   ],
   "source": [
    "from rl.baselines.Wrapper import create_env"
   ]
  },
  {
   "cell_type": "code",
   "execution_count": 34,
   "metadata": {},
   "outputs": [],
   "source": [
    "env8 = create_env(env_name, config=config, n_workers=8)"
   ]
  },
  {
   "cell_type": "code",
   "execution_count": 35,
   "metadata": {},
   "outputs": [
    {
     "data": {
      "text/plain": [
       "<stable_baselines.common.vec_env.subproc_vec_env.SubprocVecEnv at 0x228cb1dcb08>"
      ]
     },
     "execution_count": 35,
     "metadata": {},
     "output_type": "execute_result"
    }
   ],
   "source": [
    "env8"
   ]
  }
 ],
 "metadata": {
  "kernelspec": {
   "display_name": "th_new-venv",
   "language": "python",
   "name": "th_new-venv"
  },
  "language_info": {
   "codemirror_mode": {
    "name": "ipython",
    "version": 3
   },
   "file_extension": ".py",
   "mimetype": "text/x-python",
   "name": "python",
   "nbconvert_exporter": "python",
   "pygments_lexer": "ipython3",
   "version": "3.7.5"
  }
 },
 "nbformat": 4,
 "nbformat_minor": 4
}
