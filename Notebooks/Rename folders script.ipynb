{
 "cells": [
  {
   "cell_type": "code",
   "execution_count": 14,
   "metadata": {},
   "outputs": [],
   "source": [
    "from os import listdir, walk\n",
    "from os.path import join, isfile\n",
    "import pathlib\n",
    "path = pathlib.Path().absolute()\n",
    "import os\n",
    "\n",
    "# locations = [\n",
    "#     ['ConveyorEnv1','20210109_1900'],\n",
    "#     ['ConveyorEnv1','20210109_2000'],\n",
    "#     ['ConveyorEnv1','20210109_2100'],\n",
    "#     ['ConveyorEnv1','20210109_2200'],\n",
    "#     ['ConveyorEnv1','20210109_2300'],\n",
    "#     ['ConveyorEnv1','20210109_2400']\n",
    "    \n",
    "# ]\n",
    "\n",
    "locations =[\n",
    "      ['ConveyorEnv11','20210110_0000'], #1\n",
    "    ['ConveyorEnv11','20210110_0100'], #2\n",
    "    ['ConveyorEnv11','20210110_0200'], #3\n",
    "    ['ConveyorEnv11','20210110_0300'], #4\n",
    "    ['ConveyorEnv11','20210110_0400'], #5\n",
    "    ['ConveyorEnv11','20210110_0500'], #6\n",
    "    ['ConveyorEnv11','20210110_0600'], #7\n",
    "    ['ConveyorEnv11','20210110_0700'], #8\n",
    "    ['ConveyorEnv11','20210110_0800'], #9\n",
    "    ['ConveyorEnv11','20210110_0900'] #10\n",
    "]\n",
    "for environment, subdir in locations:\n",
    "    specpath = join(path, 'rl', 'trained_models', environment, subdir)\n",
    "    subfolders = [x[0] for x in walk(specpath)][1:]\n",
    "    split_folders = [item.split('_') for item in subfolders]\n",
    "    split_folders2 = [ folder[:-1] +['0{}'.format(folder[-1])] if len(folder[-1]) ==1 else folder for folder in split_folders]\n",
    "    subfolders2 = ['_'.join(folders) for folders in split_folders2]\n",
    "    subfolders2\n",
    "    for idx, folder in enumerate(subfolders):\n",
    "        os.rename(folder, subfolders2[idx])"
   ]
  },
  {
   "cell_type": "code",
   "execution_count": 15,
   "metadata": {},
   "outputs": [],
   "source": [
    "locations =[\n",
    "    ['ConveyorEnv1', '20210110_1000'],\n",
    "    ['ConveyorEnv1', '20210110_1100'],\n",
    "    ['ConveyorEnv1', '20210110_1200']\n",
    "]\n",
    "\n",
    "for environment, subdir in locations:\n",
    "    specpath = join(path, 'rl', 'trained_models', environment, subdir)\n",
    "    subfolders = [x[0] for x in walk(specpath)][1:]\n",
    "    split_folders = [item.split('_') for item in subfolders]\n",
    "    split_folders2 = [ folder[:3] +['0{}'.format(folder[3])] + folder[4:] if len(folder[3]) ==1 else folder for folder in split_folders]\n",
    "    subfolders2 = ['_'.join(folders) for folders in split_folders2]\n",
    "    subfolders2\n",
    "    for idx, folder in enumerate(subfolders):\n",
    "        os.rename(folder, subfolders2[idx])"
   ]
  }
 ],
 "metadata": {
  "kernelspec": {
   "display_name": "venv-th",
   "language": "python",
   "name": "venv-th"
  },
  "language_info": {
   "codemirror_mode": {
    "name": "ipython",
    "version": 3
   },
   "file_extension": ".py",
   "mimetype": "text/x-python",
   "name": "python",
   "nbconvert_exporter": "python",
   "pygments_lexer": "ipython3",
   "version": "3.7.5"
  }
 },
 "nbformat": 4,
 "nbformat_minor": 4
}
