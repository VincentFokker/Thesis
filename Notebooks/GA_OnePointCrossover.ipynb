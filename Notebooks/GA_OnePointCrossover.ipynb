{
 "cells": [
  {
   "cell_type": "markdown",
   "metadata": {},
   "source": [
    "# string GA - Hill climbing\n",
    "## With Round-robin / FiFo"
   ]
  },
  {
   "cell_type": "code",
   "execution_count": 16,
   "metadata": {},
   "outputs": [
    {
     "name": "stderr",
     "output_type": "stream",
     "text": [
      "INFO:root:queues that are initialized: [[2, 3, 2, 1, 2, 3, 1, 1, 2, 1], [2, 3, 1, 3, 3, 3, 1, 1, 2, 2]]\n"
     ]
    },
    {
     "name": "stdout",
     "output_type": "stream",
     "text": [
      "Terminate on cycle count: 0.000\n"
     ]
    },
    {
     "data": {
      "text/plain": [
       "(-33575, 251)"
      ]
     },
     "execution_count": 16,
     "metadata": {},
     "output_type": "execute_result"
    }
   ],
   "source": [
    "import numpy as np\n",
    "from rl.environments.NewConveyor1GA import NewConveyor1GA\n",
    "import yaml\n",
    "import random\n",
    "from copy import copy\n",
    "import time\n",
    "import plotly.express as px\n",
    "import statistics as sts\n",
    "import matplotlib.pyplot as plt\n",
    "\n",
    "def single_point_crossover(input_list):\n",
    "    \"\"\"Changes a string with one-point cross-over to a new string\"\"\"\n",
    "    new_list = copy(input_list)\n",
    "    i1 = random.randint(1,len(new_list)-1)\n",
    "    i2 = random.randint(1,len(new_list)-1)\n",
    "    t1 = new_list[i1]\n",
    "    t2 = new_list[i2]\n",
    "#     print('t1 = {} and t2 = {}'.format(t1,t2))\n",
    "    while t1 == t2:\n",
    "#         print('in while loop')\n",
    "        i1 = random.randint(1,len(new_list)-1)\n",
    "        i2 = random.randint(1,len(new_list)-1)\n",
    "        t1 = new_list[i1]\n",
    "        t2 = new_list[i2]\n",
    "#         print('t1 = {} and t2 = {}'.format(t1,t2))\n",
    "    new_list[i1] = t2\n",
    "    new_list[i2] = t1\n",
    "    return new_list\n",
    "\n",
    "def mutate(input_list, amount_of_actions, mutation_percentage=0.15):\n",
    "    \"\"\"Mutates an item in a list to an new variable.\"\"\"\n",
    "    new_list = copy(input_list)\n",
    "    if random.random() < mutation_percentage:\n",
    "        i1 = random.randint(0,len(new_list)-1)\n",
    "        list_of_options = [item for item in range(amount_of_actions) if item != new_list[i1]]\n",
    "        new_list[i1] = list_of_options[random.randint(0,len(list_of_options)-1)]        \n",
    "    return new_list\n",
    "\n",
    "def smooth(scalars, weight):\n",
    "    \"\"\"\n",
    "    Smoothes the datapoints\n",
    "    :param scalars: list with datapoints\n",
    "    :param weight: float between 0 and 1, how smooth\n",
    "    :return: the smoothed data points\n",
    "    \"\"\"\n",
    "    last = scalars[0]  # First value in the plot (first timestep)\n",
    "    smoothed = list()\n",
    "    for point in scalars:\n",
    "        smoothed_val = last * weight + (1 - weight) * point  # Calculate smoothed value\n",
    "        smoothed.append(smoothed_val)  # Save it\n",
    "        last = smoothed_val  # Anchor the last smoothed value\n",
    "    return smoothed\n",
    "\n",
    "def matplot_data(training_data, fitness, smoothing=0.96):\n",
    "    \"\"\"builds matplotlib figure of the data\"\"\"\n",
    "    plt.style.use('ggplot')\n",
    "    plt.figure(figsize=(15, 5))\n",
    "    line1 = plt.plot([i for i in range(len(training_data))], training_data , color ='#f9d1b3', alpha=0.7, label='Reward')\n",
    "    line2 = plt.plot([i for i in range(len(training_data))], smooth(training_data, smoothing) , color ='#f06d07', label='Smoothed reward: {}'.format(smoothing))\n",
    "    plt.plot([i for i in range(len(training_data))], fitness , color ='grey', alpha=0.6, label='Highest reward')\n",
    "    plt.xlabel('Timestep')\n",
    "    plt.ylabel('Episode Reward')\n",
    "    plt.legend()\n",
    "    #plt.grid(color='grey')\n",
    "    #plt.axhline(color='black')\n",
    "    plt.show()\n",
    "\n",
    "def return_fitness(order_list):\n",
    "    \"\"\"\"Calculates the fitness of an order set\"\"\"\"\"\n",
    "    env.reset()\n",
    "    for item in order_list:\n",
    "        env.step(item)\n",
    "        #env.render()\n",
    "    while not env.terminate:\n",
    "        env.step(0)\n",
    "        #env.render()\n",
    "    return env.episode_reward, env.cycle_count\n",
    "\n",
    "#### Initialize the sequence and the environment\n",
    "config_path = 'rl/config/NewConveyor1GA.yml'\n",
    "with open(config_path, 'r') as f:\n",
    "    config = yaml.safe_load(f)\n",
    "    \n",
    "queues = [random.choices(np.arange(1,config['environment']['amount_output']+1), [config['environment']['percentage_small_carriers'], config['environment']['percentage_medium_carriers'], config['environment']['percentage_large_carriers']], k=config['environment']['gtp_buffer_size']) for item in range(config['environment']['amount_of_gtps'])] # generate random queues\n",
    "#queues = [[2, 1, 2, 1, 2, 2, 1, 2, 1, 2],[1 , 2, 1, 2, 2, 2, 1, 2, 2, 1],[ 1, 2, 2, 1, 2, 2, 2, 2, 1, 2]]\n",
    "env = NewConveyor1GA(config, queues)\n",
    "\n",
    "\n",
    "#### build order list\n",
    "orderlist = [[[item[index]*env.amount_of_gtps+env.queues.index(item)-1] +[0]*18 for item in env.queues] for index in range(len(env.queues[0]))]\n",
    "orderlist = [item for sublist in orderlist for item in sublist]\n",
    "orderlist = [item for sublist in orderlist for item in sublist]\n",
    "orderlist = orderlist[6*env.amount_of_gtps*env.amount_of_outputs:]\n",
    "return_fitness(orderlist)"
   ]
  },
  {
   "cell_type": "code",
   "execution_count": 17,
   "metadata": {},
   "outputs": [
    {
     "name": "stdout",
     "output_type": "stream",
     "text": [
      "Terminate on cycle countR: -10.000\n",
      "Terminate on cycle countR: -10.000\n",
      "Terminate on cycle countR: -10.00033970\n",
      "Terminate on cycle countR: -10.000\n",
      "Terminate on cycle count: -10.000-1420\n",
      "Terminate on cycle count: -10.0000\n",
      "Terminate on cycle count: -10.0000\n",
      "Terminate on cycle count: -10.0000\n",
      "Terminate on cycle countR: -10.000\n",
      "Terminate on cycle count: -10.0000\n",
      "Terminate on cycle count: -10.0000\n",
      "Terminate on cycle count: -10.0000\n",
      "Terminate on cycle count: -10.000-1400\n",
      "Terminate on cycle count: -10.0000\n",
      "Terminate on cycle count: -10.0000\n",
      "Terminate on cycle count: -10.000-1040\n",
      "Terminate on cycle count: -10.0000\n",
      "Terminate on cycle countR: -10.000\n",
      "Terminate on cycle count: -10.0000\n",
      "Terminate on cycle count: -10.0000\n",
      "Terminate on cycle count: -10.0000\n",
      "Terminate on cycle count: -10.0000\n",
      "Terminate on cycle count: -10.0000\n",
      "Terminate on cycle count: -10.0000\n",
      "Terminate on cycle count: -10.000-875\n",
      "Terminate on cycle countR: -10.000\n",
      "Terminate on cycle count: -10.0000\n",
      "Terminate on cycle count: -10.0000\n",
      "Terminate on cycle count: -10.0000\n",
      "Terminate on cycle count: -10.0000\n",
      "Terminate on cycle count: -10.0000\n",
      "Terminate on cycle count: -10.0000\n",
      "Terminate on cycle count: -10.0000\n",
      "Terminate on cycle countR: -10.000\n",
      "Terminate on cycle count: -10.0000\n",
      "Terminate on cycle count: 5.000000\n",
      "Terminate on cycle countR: -10.000\n",
      "Terminate on cycle count: -10.0000\n",
      "Terminate on cycle count: 5.000000\n",
      "Terminate on cycle count: -10.0000\n",
      "Terminate on cycle count: -5.00000\n",
      "Terminate on cycle count: -10.0000\n",
      "Terminate on cycle count: -10.0000\n",
      "Terminate on cycle count: -10.000-850\n",
      "Terminate on cycle count: -10.0000\n",
      "Terminate on cycle count: -10.0000\n",
      "Terminate on cycle count: -10.0000\n",
      "Terminate on cycle count: -10.0000\n",
      "Terminate on cycle count: -10.0000\n",
      "Terminate on cycle count: -10.000-840\n",
      "Terminate on cycle count: -10.0000\n",
      "Terminate on cycle count: -5.00000\n",
      "Terminate on cycle count: -10.000-750\n",
      "Terminate on cycle count: -10.0000\n",
      "Terminate on cycle countR: -10.000\n",
      "Terminate on cycle count: -10.0000\n",
      "Terminate on cycle count: -10.0000\n",
      "Terminate on cycle count: -10.0000\n",
      "Terminate on cycle count: -10.0000\n",
      "Terminate on cycle count: -10.0000\n",
      "Terminate on cycle count: -10.0000\n",
      "Terminate on cycle count: -10.0000\n",
      "Terminate on cycle count: -10.0000\n",
      "Terminate on cycle count: -10.0000\n",
      "Terminate on cycle count: -10.0000\n",
      "Terminate on cycle countR: -10.000\n",
      "Terminate on cycle count: -10.0000\n",
      "Terminate on cycle count: -10.0000\n",
      "Running time: 2.1721726139386495 minutes\n",
      "Best reward: -750 \n",
      " Resulting sequence of actions: \n",
      " [0, 0, 5, 0, 0, 0, 0, 0, 0, 0, 0, 0, 0, 0, 0, 1, 0, 0, 0, 0, 0, 6, 0, 0, 0, 0, 0, 0, 0, 0, 0, 0, 0, 0, 0, 0, 0, 0, 0, 0, 3, 0, 0, 0, 0, 0, 0, 0, 0, 0, 0, 0, 0, 0, 0, 0, 0, 0, 0, 0, 0, 0, 0, 0, 0, 0, 0, 0, 0, 0, 0, 0, 0, 0, 0, 0, 0, 0, 1, 0, 0, 0, 0, 0, 0, 0, 1, 0, 0, 0, 0, 6, 0, 0, 0, 0, 0, 0, 0, 0, 0, 0, 0, 0, 0, 0, 0, 0, 0, 0, 0, 0, 0, 0, 0, 0, 3, 0, 0, 0, 0, 0, 0, 0, 0, 0, 0, 0, 0, 0, 0, 0, 0, 0, 0, 0, 0, 0, 0, 0, 0, 0, 3, 0, 0, 0, 0, 0, 0, 0, 0, 0, 0, 0, 5, 0, 2, 0, 0, 0, 0, 0, 0, 0, 0, 0, 0, 0, 0, 0, 0, 0, 0, 6, 0, 0, 0, 0, 0, 0, 0, 1, 0, 0, 0, 0, 0, 0, 0, 0, 0, 0, 0, 0, 0, 0, 0, 6, 0, 0, 0, 0, 0, 0, 0, 0, 0, 0, 0, 0, 0, 0, 0, 0, 0, 0, 2, 0, 0, 0, 0, 0, 0, 0, 0, 0, 0, 0, 0, 0, 0, 0, 0, 0, 0, 0, 0, 0, 0, 0, 0, 0, 0, 0, 0, 0, 0, 0, 0, 2, 0, 0, 0, 0, 0, 0, 0, 0, 0, 0, 0, 0, 0, 0, 0, 0, 0, 0, 0, 0, 0, 0, 0, 0, 0, 0, 0, 0, 0, 0, 0, 4, 0, 0, 0, 0, 0, 0, 0, 0, 0, 0, 0, 0, 0, 0, 0, 0, 0, 0, 0, 0, 0, 0, 0, 0, 0, 0, 0, 0, 0, 0, 0, 0, 0, 0, 0, 0, 0, 0, 0, 0, 0, 0, 0, 4, 0, 0, 0, 0, 0, 0, 0, 0, 0, 0, 0, 0, 0, 0, 0, 0, 0, 0]\n"
     ]
    }
   ],
   "source": [
    "#### Calculate best sequence\n",
    "fitness = []\n",
    "training_data = []\n",
    "t = 0\n",
    "window = 200\n",
    "order_list = orderlist\n",
    "best_run, _ = return_fitness(order_list)\n",
    "fitness.append(best_run)\n",
    "training_data.append(best_run)\n",
    "start = time.time()\n",
    "for i in range(window):\n",
    "    t+=1\n",
    "    new_order_list = single_point_crossover(order_list)\n",
    "    new_order_list = mutate(new_order_list, env.action_space.n)\n",
    "    this_run, _ = return_fitness(new_order_list)\n",
    "    #print('Reward run no: {} : {} '.format(t, this_run))\n",
    "    if this_run > best_run:\n",
    "        order_list = new_order_list\n",
    "        best_run = this_run\n",
    "        print('Order list updated, best reward: {}'.format(best_run), end = '\\r')\n",
    "    fitness.append(best_run)\n",
    "    training_data.append(this_run)\n",
    "    \n",
    "while sts.mean(fitness[-window:]) != max(fitness):\n",
    "    t+=1\n",
    "    new_order_list = single_point_crossover(order_list)\n",
    "    new_order_list = mutate(new_order_list, env.action_space.n)\n",
    "    this_run, _ = return_fitness(new_order_list)\n",
    "    #print('Reward run no: {} : {} '.format(t, this_run))\n",
    "    if this_run > best_run:\n",
    "        order_list = new_order_list\n",
    "        best_run = this_run\n",
    "        print('Order list updated, best reward: {}'.format(best_run), end = '\\r')\n",
    "    fitness.append(best_run)\n",
    "    training_data.append(this_run)\n",
    "delta = time.time() - start\n",
    "print('Running time: {} minutes'.format(delta/60))\n",
    "print('Best reward: {} \\n Resulting sequence of actions: \\n {}'.format(best_run, order_list))"
   ]
  },
  {
   "cell_type": "code",
   "execution_count": 18,
   "metadata": {},
   "outputs": [
    {
     "data": {
      "application/vnd.plotly.v1+json": {
       "config": {
        "plotlyServerURL": "https://plot.ly"
       },
       "data": [
        {
         "hovertemplate": "variable=wide_variable_0<br>x=%{x}<br>value=%{y}<extra></extra>",
         "legendgroup": "wide_variable_0",
         "line": {
          "color": "#636efa",
          "dash": "solid"
         },
         "mode": "lines",
         "name": "wide_variable_0",
         "showlegend": true,
         "type": "scattergl",
         "x": [
          0,
          1,
          2,
          3,
          4,
          5,
          6,
          7,
          8,
          9,
          10,
          11,
          12,
          13,
          14,
          15,
          16,
          17,
          18,
          19,
          20,
          21,
          22,
          23,
          24,
          25,
          26,
          27,
          28,
          29,
          30,
          31,
          32,
          33,
          34,
          35,
          36,
          37,
          38,
          39,
          40,
          41,
          42,
          43,
          44,
          45,
          46,
          47,
          48,
          49,
          50,
          51,
          52,
          53,
          54,
          55,
          56,
          57,
          58,
          59,
          60,
          61,
          62,
          63,
          64,
          65,
          66,
          67,
          68,
          69,
          70,
          71,
          72,
          73,
          74,
          75,
          76,
          77,
          78,
          79,
          80,
          81,
          82,
          83,
          84,
          85,
          86,
          87,
          88,
          89,
          90,
          91,
          92,
          93,
          94,
          95,
          96,
          97,
          98,
          99,
          100,
          101,
          102,
          103,
          104,
          105,
          106,
          107,
          108,
          109,
          110,
          111,
          112,
          113,
          114,
          115,
          116,
          117,
          118,
          119,
          120,
          121,
          122,
          123,
          124,
          125,
          126,
          127,
          128,
          129,
          130,
          131,
          132,
          133,
          134,
          135,
          136,
          137,
          138,
          139,
          140,
          141,
          142,
          143,
          144,
          145,
          146,
          147,
          148,
          149,
          150,
          151,
          152,
          153,
          154,
          155,
          156,
          157,
          158,
          159,
          160,
          161,
          162,
          163,
          164,
          165,
          166,
          167,
          168,
          169,
          170,
          171,
          172,
          173,
          174,
          175,
          176,
          177,
          178,
          179,
          180,
          181,
          182,
          183,
          184,
          185,
          186,
          187,
          188,
          189,
          190,
          191,
          192,
          193,
          194,
          195,
          196,
          197,
          198,
          199,
          200,
          201,
          202,
          203,
          204,
          205,
          206,
          207,
          208,
          209,
          210,
          211,
          212,
          213,
          214,
          215,
          216,
          217,
          218,
          219,
          220,
          221,
          222,
          223,
          224,
          225,
          226,
          227,
          228,
          229,
          230,
          231,
          232,
          233,
          234,
          235,
          236,
          237,
          238,
          239,
          240,
          241,
          242,
          243,
          244,
          245,
          246,
          247,
          248,
          249,
          250,
          251,
          252,
          253,
          254,
          255,
          256,
          257,
          258,
          259,
          260,
          261,
          262,
          263,
          264,
          265,
          266,
          267,
          268,
          269,
          270,
          271,
          272,
          273,
          274,
          275,
          276,
          277,
          278,
          279,
          280,
          281,
          282,
          283,
          284,
          285,
          286,
          287,
          288,
          289,
          290,
          291,
          292,
          293,
          294,
          295,
          296,
          297,
          298,
          299,
          300,
          301,
          302,
          303,
          304,
          305,
          306,
          307,
          308,
          309,
          310,
          311,
          312,
          313,
          314,
          315,
          316,
          317,
          318,
          319,
          320,
          321,
          322,
          323,
          324,
          325,
          326,
          327,
          328,
          329,
          330,
          331,
          332,
          333,
          334,
          335,
          336,
          337,
          338,
          339,
          340,
          341,
          342,
          343,
          344,
          345,
          346,
          347,
          348,
          349,
          350,
          351,
          352,
          353,
          354,
          355,
          356,
          357,
          358,
          359,
          360,
          361,
          362,
          363,
          364,
          365,
          366,
          367,
          368,
          369,
          370,
          371,
          372,
          373,
          374,
          375,
          376,
          377,
          378,
          379,
          380,
          381,
          382,
          383,
          384,
          385,
          386,
          387,
          388,
          389,
          390,
          391,
          392,
          393,
          394,
          395,
          396,
          397,
          398,
          399,
          400,
          401,
          402,
          403,
          404,
          405,
          406,
          407,
          408,
          409,
          410,
          411,
          412,
          413,
          414,
          415,
          416,
          417,
          418,
          419,
          420,
          421,
          422,
          423,
          424,
          425,
          426,
          427,
          428,
          429,
          430,
          431,
          432,
          433,
          434,
          435,
          436,
          437,
          438,
          439,
          440,
          441,
          442,
          443,
          444,
          445,
          446,
          447,
          448,
          449,
          450,
          451,
          452,
          453,
          454,
          455,
          456,
          457,
          458,
          459,
          460,
          461,
          462,
          463,
          464,
          465,
          466,
          467,
          468,
          469,
          470,
          471,
          472,
          473,
          474,
          475,
          476,
          477,
          478,
          479,
          480,
          481,
          482,
          483,
          484,
          485,
          486,
          487,
          488,
          489,
          490,
          491,
          492,
          493,
          494,
          495,
          496,
          497,
          498,
          499,
          500,
          501,
          502,
          503,
          504,
          505,
          506,
          507,
          508,
          509,
          510,
          511,
          512,
          513,
          514,
          515,
          516,
          517,
          518,
          519,
          520,
          521,
          522,
          523,
          524,
          525,
          526,
          527,
          528,
          529,
          530,
          531,
          532,
          533,
          534,
          535,
          536,
          537,
          538,
          539,
          540,
          541,
          542,
          543,
          544,
          545,
          546,
          547,
          548,
          549,
          550,
          551,
          552,
          553,
          554,
          555,
          556,
          557,
          558,
          559,
          560,
          561,
          562,
          563,
          564,
          565,
          566,
          567,
          568,
          569,
          570,
          571,
          572,
          573,
          574,
          575,
          576,
          577,
          578,
          579,
          580,
          581,
          582,
          583,
          584,
          585,
          586,
          587,
          588,
          589,
          590,
          591,
          592,
          593,
          594,
          595,
          596,
          597,
          598,
          599,
          600,
          601,
          602,
          603,
          604,
          605,
          606,
          607,
          608,
          609,
          610,
          611,
          612,
          613,
          614,
          615,
          616,
          617,
          618,
          619,
          620,
          621,
          622,
          623,
          624,
          625,
          626,
          627,
          628,
          629,
          630,
          631,
          632,
          633,
          634,
          635,
          636,
          637,
          638,
          639,
          640,
          641,
          642,
          643,
          644,
          645,
          646,
          647,
          648,
          649,
          650,
          651,
          652,
          653,
          654,
          655,
          656,
          657,
          658,
          659,
          660,
          661,
          662,
          663,
          664,
          665,
          666,
          667,
          668,
          669,
          670,
          671,
          672,
          673,
          674,
          675,
          676,
          677,
          678,
          679,
          680,
          681,
          682,
          683,
          684,
          685,
          686,
          687,
          688,
          689,
          690,
          691,
          692,
          693,
          694,
          695,
          696,
          697,
          698,
          699,
          700,
          701,
          702,
          703,
          704,
          705,
          706,
          707,
          708,
          709,
          710,
          711,
          712,
          713,
          714,
          715,
          716,
          717,
          718,
          719,
          720,
          721,
          722,
          723,
          724,
          725,
          726,
          727,
          728,
          729,
          730
         ],
         "xaxis": "x",
         "y": [
          -34145,
          -33970,
          -34200,
          -34225,
          -3010,
          -1595,
          -1445,
          -1800,
          -1845,
          -1635,
          -2260,
          -2535,
          -2240,
          -3040,
          -2660,
          -2510,
          -2025,
          -2955,
          -1675,
          -1420,
          -1760,
          -1495,
          -32825,
          -3475,
          -2190,
          -33650,
          -2860,
          -2140,
          -2135,
          -2265,
          -2210,
          -2135,
          -2900,
          -2550,
          -2110,
          -2040,
          -32980,
          -3165,
          -2475,
          -2055,
          -2015,
          -1715,
          -1540,
          -1925,
          -1640,
          -2530,
          -1430,
          -1770,
          -1605,
          -2005,
          -1885,
          -1905,
          -2395,
          -1665,
          -33200,
          -28360,
          -2890,
          -2355,
          -2225,
          -2440,
          -33195,
          -2890,
          -2180,
          -2025,
          -33270,
          -3055,
          -1650,
          -1445,
          -1850,
          -2085,
          -1540,
          -2175,
          -2050,
          -2035,
          -2270,
          -2000,
          -2055,
          -2515,
          -2370,
          -2840,
          -2745,
          -2475,
          -2890,
          -1915,
          -33425,
          -2985,
          -2870,
          -1905,
          -2380,
          -1650,
          -1400,
          -2060,
          -1855,
          -32900,
          -3205,
          -2670,
          -2395,
          -2760,
          -2385,
          -2125,
          -2030,
          -1835,
          -2430,
          -2045,
          -2515,
          -1685,
          -2435,
          -2180,
          -33030,
          -2930,
          -2725,
          -2445,
          -2830,
          -2540,
          -2380,
          -2710,
          -2490,
          -1735,
          -2220,
          -1610,
          -1970,
          -1950,
          -1715,
          -2340,
          -1970,
          -33840,
          -2760,
          -2090,
          -2220,
          -2340,
          -1895,
          -2135,
          -2595,
          -2115,
          -2815,
          -2605,
          -2580,
          -2060,
          -1375,
          -1710,
          -1040,
          -2055,
          -1945,
          -2090,
          -2215,
          -2280,
          -2700,
          -33350,
          -2520,
          -2260,
          -2420,
          -2000,
          -27790,
          -33925,
          -3010,
          -2650,
          -2400,
          -33800,
          -2830,
          -34230,
          -2655,
          -2670,
          -2395,
          -2785,
          -33470,
          -2835,
          -2735,
          -33095,
          -2865,
          -1615,
          -1355,
          -1700,
          -1575,
          -1965,
          -33845,
          -2770,
          -2905,
          -2055,
          -1350,
          -1755,
          -43640,
          -2560,
          -2585,
          -2420,
          -2790,
          -2565,
          -3080,
          -1790,
          -875,
          -1770,
          -1770,
          -1995,
          -1795,
          -1605,
          -2020,
          -1825,
          -2435,
          -33135,
          -34020,
          -2655,
          -1525,
          -26365,
          -2600,
          -2445,
          -2135,
          -2850,
          -2160,
          -2485,
          -2520,
          -2565,
          -2535,
          -1635,
          -2745,
          -34140,
          -2585,
          -2415,
          -2035,
          -2315,
          -1965,
          -2910,
          -2415,
          -1635,
          -1575,
          -1815,
          -1620,
          -985,
          -2230,
          -33390,
          -2910,
          -2415,
          -1645,
          -32605,
          -2595,
          -2290,
          -2595,
          -2405,
          -1675,
          -2590,
          -33430,
          -2895,
          -2085,
          -2040,
          -2180,
          -2060,
          -2675,
          -1530,
          -1840,
          -1370,
          -32755,
          -2910,
          -2390,
          -1625,
          -32955,
          -27635,
          -2945,
          -1545,
          -1760,
          -1925,
          -41980,
          -2635,
          -2405,
          -2150,
          -2550,
          -2400,
          -1785,
          -1465,
          -1855,
          -1670,
          -1975,
          -1515,
          -1935,
          -1800,
          -1200,
          -2300,
          -2500,
          -1580,
          -2800,
          -1505,
          -2075,
          -1370,
          -2300,
          -32435,
          -33570,
          -2630,
          -2410,
          -2315,
          -2510,
          -2530,
          -2910,
          -2475,
          -2300,
          -1990,
          -2475,
          -33160,
          -2610,
          -2745,
          -2085,
          -2530,
          -2285,
          -2775,
          -2400,
          -1710,
          -1695,
          -1550,
          -1805,
          -1600,
          -1405,
          -1775,
          -1615,
          -1765,
          -1985,
          -2195,
          -1690,
          -2360,
          -2400,
          -2550,
          -2760,
          -2490,
          -2770,
          -1860,
          -32510,
          -2620,
          -2420,
          -33920,
          -2655,
          -2400,
          -2305,
          -2565,
          -1445,
          -2065,
          -33285,
          -2670,
          -2355,
          -2175,
          -2295,
          -2505,
          -2620,
          -2450,
          -2420,
          -1690,
          -32460,
          -2905,
          -1585,
          -905,
          -1915,
          -1710,
          -2230,
          -2315,
          -1700,
          -2110,
          -2040,
          -1405,
          -2390,
          -2025,
          -2685,
          -2590,
          -26315,
          -2605,
          -2190,
          -2105,
          -1705,
          -850,
          -1780,
          -1635,
          -1505,
          -1195,
          -1510,
          -1905,
          -1675,
          -2150,
          -2330,
          -2430,
          -2290,
          -33640,
          -2625,
          -2760,
          -1605,
          -2460,
          -2240,
          -2820,
          -2400,
          -33205,
          -3015,
          -1855,
          -2120,
          -2460,
          -2405,
          -2625,
          -2495,
          -42930,
          -2485,
          -2130,
          -1495,
          -2465,
          -2345,
          -2540,
          -1855,
          -33320,
          -2630,
          -2445,
          -2175,
          -2570,
          -2540,
          -1860,
          -1640,
          -1760,
          -1925,
          -1155,
          -32660,
          -2600,
          -2405,
          -2285,
          -1705,
          -2595,
          -2730,
          -1320,
          -2210,
          -2045,
          -1790,
          -2225,
          -1630,
          -2590,
          -2390,
          -2205,
          -2775,
          -2295,
          -34120,
          -2940,
          -1940,
          -2165,
          -2550,
          -2325,
          -2595,
          -2040,
          -1550,
          -1985,
          -1790,
          -2285,
          -2110,
          -2470,
          -1855,
          -2340,
          -1590,
          -840,
          -1770,
          -1715,
          -960,
          -1980,
          -2045,
          -1560,
          -2255,
          -1925,
          -2510,
          -2505,
          -1940,
          -2490,
          -2295,
          -2620,
          -33200,
          -2630,
          -2435,
          -2475,
          -2565,
          -1765,
          -2640,
          -2605,
          -2510,
          -1785,
          -1835,
          -1765,
          -1545,
          -32760,
          -2735,
          -2445,
          -2450,
          -2795,
          -2600,
          -2630,
          -2420,
          -1990,
          -2490,
          -2615,
          -2640,
          -1835,
          -2185,
          -2550,
          -2305,
          -2630,
          -2425,
          -2395,
          -1535,
          -1200,
          -2675,
          -1690,
          -1545,
          -1975,
          -1825,
          -2415,
          -2300,
          -1925,
          -2565,
          -2395,
          -2290,
          -2670,
          -2260,
          -2580,
          -2395,
          -1680,
          -2625,
          -2445,
          -1650,
          -2610,
          -2445,
          -2150,
          -2550,
          -2315,
          -2630,
          -2660,
          -2205,
          -2525,
          -2045,
          -34055,
          -2785,
          -2425,
          -2175,
          -2835,
          -1710,
          -1815,
          -1695,
          -1795,
          -2245,
          -750,
          -2070,
          -26815,
          -2090,
          -1710,
          -2015,
          -2400,
          -1360,
          -2215,
          -2015,
          -1540,
          -2045,
          -1235,
          -2000,
          -1810,
          -33610,
          -33720,
          -2030,
          -1730,
          -1600,
          -1875,
          -2600,
          -2030,
          -1795,
          -1530,
          -1860,
          -1315,
          -2305,
          -1720,
          -1255,
          -1735,
          -1395,
          -1710,
          -1540,
          -815,
          -1730,
          -1505,
          -2105,
          -1840,
          -1685,
          -1895,
          -1430,
          -2030,
          -1805,
          -1460,
          -1870,
          -1380,
          -1795,
          -1050,
          -2015,
          -2505,
          -840,
          -1820,
          -1645,
          -1520,
          -2025,
          -1870,
          -2700,
          -1555,
          -1250,
          -33390,
          -2010,
          -2180,
          -1690,
          -2000,
          -1260,
          -1990,
          -1825,
          -1040,
          -1990,
          -33080,
          -2090,
          -1765,
          -1110,
          -1955,
          -1570,
          -1935,
          -1680,
          -2910,
          -1780,
          -1510,
          -26650,
          -2050,
          -43610,
          -2060,
          -1865,
          -1585,
          -1935,
          -1625,
          -33970,
          -2030,
          -1835,
          -1595,
          -1960,
          -1715,
          -2040,
          -1845,
          -1595,
          -1970,
          -1950,
          -2020,
          -1805,
          -1570,
          -2105,
          -1665,
          -2040,
          -1975,
          -33005,
          -2105,
          -1745,
          -1630,
          -2115,
          -1730,
          -2890,
          -1855,
          -2265,
          -2355,
          -1465,
          -2030,
          -33060,
          -2010,
          -1835,
          -1840,
          -1950,
          -1915,
          -2030,
          -1835,
          -33135,
          -1670,
          -1860,
          -1510,
          -1990,
          -1680,
          -2045,
          -1550,
          -1455,
          -33690,
          -2040,
          -1875,
          -2080,
          -2630,
          -1410,
          -1790,
          -2265,
          -1325,
          -33285,
          -26975,
          -2305,
          -1475,
          -1430,
          -1615,
          -1590,
          -1635,
          -1625,
          -1395,
          -1770,
          -1555,
          -2035,
          -1840,
          -27225,
          -2535,
          -1875,
          -1015,
          -1920,
          -1870,
          -2020,
          -33705,
          -2060,
          -1865,
          -1605,
          -1960,
          -1735,
          -2050,
          -2060,
          -1575,
          -2815,
          -1695,
          -2050,
          -2015,
          -1840,
          -1950,
          -1745,
          -2040,
          -1905,
          -1840,
          -1960,
          -1980,
          -2040,
          -1905,
          -2470,
          -1755,
          -1325,
          -1660,
          -1780,
          -1540,
          -1615,
          -1445,
          -1925,
          -1650,
          -1445
         ],
         "yaxis": "y"
        },
        {
         "hovertemplate": "variable=wide_variable_1<br>x=%{x}<br>value=%{y}<extra></extra>",
         "legendgroup": "wide_variable_1",
         "line": {
          "color": "#EF553B",
          "dash": "solid"
         },
         "mode": "lines",
         "name": "wide_variable_1",
         "showlegend": true,
         "type": "scattergl",
         "x": [
          0,
          1,
          2,
          3,
          4,
          5,
          6,
          7,
          8,
          9,
          10,
          11,
          12,
          13,
          14,
          15,
          16,
          17,
          18,
          19,
          20,
          21,
          22,
          23,
          24,
          25,
          26,
          27,
          28,
          29,
          30,
          31,
          32,
          33,
          34,
          35,
          36,
          37,
          38,
          39,
          40,
          41,
          42,
          43,
          44,
          45,
          46,
          47,
          48,
          49,
          50,
          51,
          52,
          53,
          54,
          55,
          56,
          57,
          58,
          59,
          60,
          61,
          62,
          63,
          64,
          65,
          66,
          67,
          68,
          69,
          70,
          71,
          72,
          73,
          74,
          75,
          76,
          77,
          78,
          79,
          80,
          81,
          82,
          83,
          84,
          85,
          86,
          87,
          88,
          89,
          90,
          91,
          92,
          93,
          94,
          95,
          96,
          97,
          98,
          99,
          100,
          101,
          102,
          103,
          104,
          105,
          106,
          107,
          108,
          109,
          110,
          111,
          112,
          113,
          114,
          115,
          116,
          117,
          118,
          119,
          120,
          121,
          122,
          123,
          124,
          125,
          126,
          127,
          128,
          129,
          130,
          131,
          132,
          133,
          134,
          135,
          136,
          137,
          138,
          139,
          140,
          141,
          142,
          143,
          144,
          145,
          146,
          147,
          148,
          149,
          150,
          151,
          152,
          153,
          154,
          155,
          156,
          157,
          158,
          159,
          160,
          161,
          162,
          163,
          164,
          165,
          166,
          167,
          168,
          169,
          170,
          171,
          172,
          173,
          174,
          175,
          176,
          177,
          178,
          179,
          180,
          181,
          182,
          183,
          184,
          185,
          186,
          187,
          188,
          189,
          190,
          191,
          192,
          193,
          194,
          195,
          196,
          197,
          198,
          199,
          200,
          201,
          202,
          203,
          204,
          205,
          206,
          207,
          208,
          209,
          210,
          211,
          212,
          213,
          214,
          215,
          216,
          217,
          218,
          219,
          220,
          221,
          222,
          223,
          224,
          225,
          226,
          227,
          228,
          229,
          230,
          231,
          232,
          233,
          234,
          235,
          236,
          237,
          238,
          239,
          240,
          241,
          242,
          243,
          244,
          245,
          246,
          247,
          248,
          249,
          250,
          251,
          252,
          253,
          254,
          255,
          256,
          257,
          258,
          259,
          260,
          261,
          262,
          263,
          264,
          265,
          266,
          267,
          268,
          269,
          270,
          271,
          272,
          273,
          274,
          275,
          276,
          277,
          278,
          279,
          280,
          281,
          282,
          283,
          284,
          285,
          286,
          287,
          288,
          289,
          290,
          291,
          292,
          293,
          294,
          295,
          296,
          297,
          298,
          299,
          300,
          301,
          302,
          303,
          304,
          305,
          306,
          307,
          308,
          309,
          310,
          311,
          312,
          313,
          314,
          315,
          316,
          317,
          318,
          319,
          320,
          321,
          322,
          323,
          324,
          325,
          326,
          327,
          328,
          329,
          330,
          331,
          332,
          333,
          334,
          335,
          336,
          337,
          338,
          339,
          340,
          341,
          342,
          343,
          344,
          345,
          346,
          347,
          348,
          349,
          350,
          351,
          352,
          353,
          354,
          355,
          356,
          357,
          358,
          359,
          360,
          361,
          362,
          363,
          364,
          365,
          366,
          367,
          368,
          369,
          370,
          371,
          372,
          373,
          374,
          375,
          376,
          377,
          378,
          379,
          380,
          381,
          382,
          383,
          384,
          385,
          386,
          387,
          388,
          389,
          390,
          391,
          392,
          393,
          394,
          395,
          396,
          397,
          398,
          399,
          400,
          401,
          402,
          403,
          404,
          405,
          406,
          407,
          408,
          409,
          410,
          411,
          412,
          413,
          414,
          415,
          416,
          417,
          418,
          419,
          420,
          421,
          422,
          423,
          424,
          425,
          426,
          427,
          428,
          429,
          430,
          431,
          432,
          433,
          434,
          435,
          436,
          437,
          438,
          439,
          440,
          441,
          442,
          443,
          444,
          445,
          446,
          447,
          448,
          449,
          450,
          451,
          452,
          453,
          454,
          455,
          456,
          457,
          458,
          459,
          460,
          461,
          462,
          463,
          464,
          465,
          466,
          467,
          468,
          469,
          470,
          471,
          472,
          473,
          474,
          475,
          476,
          477,
          478,
          479,
          480,
          481,
          482,
          483,
          484,
          485,
          486,
          487,
          488,
          489,
          490,
          491,
          492,
          493,
          494,
          495,
          496,
          497,
          498,
          499,
          500,
          501,
          502,
          503,
          504,
          505,
          506,
          507,
          508,
          509,
          510,
          511,
          512,
          513,
          514,
          515,
          516,
          517,
          518,
          519,
          520,
          521,
          522,
          523,
          524,
          525,
          526,
          527,
          528,
          529,
          530,
          531,
          532,
          533,
          534,
          535,
          536,
          537,
          538,
          539,
          540,
          541,
          542,
          543,
          544,
          545,
          546,
          547,
          548,
          549,
          550,
          551,
          552,
          553,
          554,
          555,
          556,
          557,
          558,
          559,
          560,
          561,
          562,
          563,
          564,
          565,
          566,
          567,
          568,
          569,
          570,
          571,
          572,
          573,
          574,
          575,
          576,
          577,
          578,
          579,
          580,
          581,
          582,
          583,
          584,
          585,
          586,
          587,
          588,
          589,
          590,
          591,
          592,
          593,
          594,
          595,
          596,
          597,
          598,
          599,
          600,
          601,
          602,
          603,
          604,
          605,
          606,
          607,
          608,
          609,
          610,
          611,
          612,
          613,
          614,
          615,
          616,
          617,
          618,
          619,
          620,
          621,
          622,
          623,
          624,
          625,
          626,
          627,
          628,
          629,
          630,
          631,
          632,
          633,
          634,
          635,
          636,
          637,
          638,
          639,
          640,
          641,
          642,
          643,
          644,
          645,
          646,
          647,
          648,
          649,
          650,
          651,
          652,
          653,
          654,
          655,
          656,
          657,
          658,
          659,
          660,
          661,
          662,
          663,
          664,
          665,
          666,
          667,
          668,
          669,
          670,
          671,
          672,
          673,
          674,
          675,
          676,
          677,
          678,
          679,
          680,
          681,
          682,
          683,
          684,
          685,
          686,
          687,
          688,
          689,
          690,
          691,
          692,
          693,
          694,
          695,
          696,
          697,
          698,
          699,
          700,
          701,
          702,
          703,
          704,
          705,
          706,
          707,
          708,
          709,
          710,
          711,
          712,
          713,
          714,
          715,
          716,
          717,
          718,
          719,
          720,
          721,
          722,
          723,
          724,
          725,
          726,
          727,
          728,
          729,
          730
         ],
         "xaxis": "x",
         "y": [
          -34145,
          -34138,
          -34140.479999999996,
          -34143.860799999995,
          -32898.506367999995,
          -31646.366113279993,
          -30438.31146874879,
          -29292.779009998838,
          -28194.867849598882,
          -27132.473135614928,
          -26137.57421019033,
          -25193.471241782718,
          -24275.332392111406,
          -23425.919096426947,
          -22595.28233256987,
          -21791.871039267076,
          -21001.196197696394,
          -20279.34834978854,
          -19535.174415796995,
          -18810.567439165116,
          -18128.54474159851,
          -17463.20295193457,
          -18077.67483385719,
          -17493.5678405029,
          -16881.425126882783,
          -17552.168121807474,
          -16964.481396935174,
          -16371.502141057766,
          -15802.042055415455,
          -15260.560373198838,
          -14738.537958270883,
          -14234.396439940047,
          -13781.020582342444,
          -13331.779759048746,
          -12882.908568686795,
          -12449.192225939323,
          -13270.42453690175,
          -12866.207555425679,
          -12450.559253208652,
          -12034.736883080306,
          -11633.947407757094,
          -11237.18951144681,
          -10849.301930988937,
          -10492.32985374938,
          -10138.236659599404,
          -9833.90719321543,
          -9497.750905486813,
          -9188.64086926734,
          -8885.295234496647,
          -8610.083425116782,
          -8341.08008811211,
          -8083.636884587626,
          -7856.091409204121,
          -7608.447752835957,
          -8632.109842722519,
          -9421.225449013618,
          -9159.976431053074,
          -8887.777373810952,
          -8621.266278858513,
          -8374.015627704173,
          -9366.855002596007,
          -9107.780802492167,
          -8830.669570392482,
          -8558.442787576781,
          -9546.905076073712,
          -9287.228873030765,
          -8981.739718109533,
          -8680.270129385151,
          -8407.059324209746,
          -8154.176951241355,
          -7889.609873191701,
          -7661.025478264032,
          -7436.584459133471,
          -7220.5210807681315,
          -7022.500237537406,
          -6821.60022803591,
          -6630.936218914473,
          -6466.298770157894,
          -6302.446819351579,
          -6163.948946577516,
          -6027.190988714416,
          -5885.103349165839,
          -5765.299215199206,
          -5611.287246591238,
          -6723.835756727589,
          -6574.282326458486,
          -6426.111033400146,
          -6245.266592064139,
          -6090.655928381573,
          -5913.02969124631,
          -5732.508503596458,
          -5585.608163452599,
          -5436.383836914495,
          -6534.928483437916,
          -6401.731344100399,
          -6252.462090336383,
          -6098.163606722927,
          -5964.63706245401,
          -5821.45157995585,
          -5673.593516757616,
          -5527.8497760873115,
          -5380.135785043819,
          -5262.1303536420655,
          -5133.445139496383,
          -5028.707333916527,
          -4894.959040559866,
          -4796.560678937471,
          -4691.898251779971,
          -5825.422321708773,
          -5709.605428840421,
          -5590.221211686804,
          -5464.412363219332,
          -5359.035868690558,
          -5246.274433942936,
          -5131.623456585218,
          -5034.758518321809,
          -4932.968177588937,
          -4805.049450485379,
          -4701.647472465964,
          -4577.981573567325,
          -4473.662310624632,
          -4372.7158181996465,
          -4266.407185471661,
          -4189.350898052795,
          -4100.576862130683,
          -5290.153787645457,
          -5188.947636139639,
          -5064.989730694054,
          -4951.190141466292,
          -4846.74253580764,
          -4728.672834375334,
          -4624.92592100032,
          -4543.728884160308,
          -4446.579728793896,
          -4381.31653964214,
          -4310.263878056454,
          -4241.053322934195,
          -4153.811190016827,
          -4042.6587424161535,
          -3949.3523927195074,
          -3832.9782970107267,
          -3761.8591651302977,
          -3689.1847985250856,
          -3625.217406584082,
          -3568.808710320718,
          -3517.2563619078896,
          -3484.566107431574,
          -4679.183463134312,
          -4592.816124608939,
          -4499.503479624581,
          -4416.323340439598,
          -4319.670406822013,
          -5258.483590549134,
          -6405.144246927169,
          -6269.3384770500825,
          -6124.564937968079,
          -5975.582340449356,
          -7088.559046831382,
          -6918.216684958126,
          -8010.688017559802,
          -7796.460496857409,
          -7591.402076983113,
          -7383.545993903788,
          -7199.604154147637,
          -8250.419987981732,
          -8033.8031884624625,
          -7821.851060923964,
          -8832.777018487006,
          -8594.065937747526,
          -8314.903300237625,
          -8036.50716822812,
          -7783.0468814989945,
          -7534.725006239034,
          -7311.9360059894725,
          -8373.258565749895,
          -8149.128223119899,
          -7939.363094195103,
          -7703.988570427298,
          -7449.829027610206,
          -7222.0358665057975,
          -8678.754431845568,
          -8434.004254571744,
          -8200.044084388874,
          -7968.842321013319,
          -7761.688628172786,
          -7553.821083045875,
          -7374.868239724039,
          -7151.473510135078,
          -6900.414569729674,
          -6695.197986940488,
          -6498.190067462868,
          -6318.062464764353,
          -6137.139966173779,
          -5955.854367526827,
          -5798.420192825754,
          -5639.483385112724,
          -5511.304049708215,
          -6616.251887719887,
          -7712.401812211093,
          -7510.105739722649,
          -7270.701510133743,
          -8034.473449728394,
          -7817.094511739258,
          -7602.210731269688,
          -7383.5223020189,
          -7202.181409938144,
          -7000.494153540617,
          -6819.8743873989915,
          -6647.879411903032,
          -6484.56423542691,
          -6326.5816660098335,
          -6138.91839936944,
          -6003.161663394662,
          -7128.635196858877,
          -6946.889788984521,
          -6765.61419742514,
          -6576.389629528134,
          -6405.934044347008,
          -6228.296682573128,
          -6095.564815270203,
          -5948.342222659396,
          -5775.808533753019,
          -5607.776192402898,
          -5456.065144706782,
          -5302.622538918511,
          -5129.91763736177,
          -5013.920931867299,
          -6148.9640945926085,
          -6019.405530808905,
          -5875.229309576549,
          -5706.020137193487,
          -6781.979331705748,
          -6614.500158437519,
          -6441.520152100018,
          -6287.6593460160175,
          -6132.352972175377,
          -5954.058853288361,
          -5819.496499156827,
          -6923.916639190555,
          -6762.759973622932,
          -6575.649574678015,
          -6394.223591690894,
          -6225.654648023258,
          -6059.0284621023275,
          -5923.667323618234,
          -5747.920630673504,
          -5591.603805446564,
          -5422.739653228702,
          -6516.030067099555,
          -6371.788864415573,
          -6212.51730983895,
          -6029.016617445392,
          -7106.055952747576,
          -7927.213714637674,
          -7727.925166052167,
          -7480.60815941008,
          -7251.783833033676,
          -7038.712479712329,
          -8436.363980523836,
          -8204.309421302883,
          -7972.337044450767,
          -7739.443562672736,
          -7531.865820165826,
          -7326.591187359193,
          -7104.927539864825,
          -6879.330438270233,
          -6678.357220739423,
          -6478.022931909845,
          -6297.9020146334515,
          -6106.585934048114,
          -5939.722496686189,
          -5774.13359681874,
          -5591.16825294599,
          -5459.52152282815,
          -5341.140661915024,
          -5190.695035438423,
          -5095.067234020886,
          -4951.46454466005,
          -4836.405962873648,
          -4697.749724358702,
          -4601.839735384354,
          -5715.166145968981,
          -6829.359500130223,
          -6661.385120125014,
          -6491.329715320013,
          -6324.276526707213,
          -6171.705465638925,
          -6026.037247013367,
          -5901.395757132833,
          -5764.33992684752,
          -5625.766329773619,
          -5480.335676582675,
          -5360.122249519368,
          -6472.117359538594,
          -6317.632665157051,
          -6174.727358550768,
          -6011.138264208737,
          -5871.892733640388,
          -5728.417024294771,
          -5610.28034332298,
          -5481.869129590061,
          -5330.994364406458,
          -5185.5545898302,
          -5040.132406236991,
          -4910.7271099875115,
          -4778.298025588011,
          -4643.36610456449,
          -4528.631460381911,
          -4412.086201966635,
          -4306.202753887969,
          -4213.35464373245,
          -4132.620457983152,
          -4034.9156396638255,
          -3967.9190140772725,
          -3905.2022535141814,
          -3850.994163373614,
          -3807.3543968386693,
          -3754.6602209651223,
          -3715.2738121265174,
          -3641.0628596414567,
          -4795.820345255799,
          -4708.787531445567,
          -4617.236030187744,
          -5789.3465889802355,
          -5663.972725421026,
          -5533.413816404184,
          -5404.277263748017,
          -5290.706173198096,
          -5136.877926270172,
          -5014.002809219365,
          -6144.842696850592,
          -6005.848988976568,
          -5859.815029417505,
          -5712.422428240804,
          -5575.725531111172,
          -5452.896509866725,
          -5339.580649472056,
          -5223.997423493174,
          -5111.837526553447,
          -4974.964025491309,
          -6074.365464471658,
          -5947.590845892792,
          -5773.087212057079,
          -5578.363723574796,
          -5431.829174631804,
          -5282.956007646531,
          -5160.837767340669,
          -5047.004256647043,
          -4913.124086381161,
          -4800.999122925914,
          -4690.559158008878,
          -4559.136791688522,
          -4472.371320020981,
          -4374.476467220142,
          -4306.897408531337,
          -4238.221512190084,
          -5121.292651702481,
          -5020.640945634381,
          -4907.415307809006,
          -4795.318695496645,
          -4671.705947676779,
          -4518.8377097697075,
          -4409.284201378919,
          -4298.312833323761,
          -4186.5803199908105,
          -4066.9171071911783,
          -3964.640422903531,
          -3882.25480598739,
          -3793.964613747894,
          -3728.2060291979783,
          -3672.277788030059,
          -3622.5866765088567,
          -3569.283209448502,
          -4772.111881070563,
          -4686.22740582774,
          -4609.17830959463,
          -4489.011177210845,
          -4407.850730122411,
          -4321.136700917515,
          -4261.0912328808145,
          -4186.647583565582,
          -5347.381680222959,
          -5254.086413014041,
          -5118.122956493478,
          -4998.198038233739,
          -4896.670116704388,
          -4797.003312036212,
          -4710.123179554764,
          -4621.518252372573,
          -6153.857522277672,
          -6007.103221386566,
          -5852.019092531103,
          -5677.738328829859,
          -5549.228795676665,
          -5421.059643849599,
          -5305.817258095615,
          -5167.7845677717905,
          -6293.87318506092,
          -6147.318257658483,
          -5999.225527352144,
          -5846.256506258058,
          -5715.206246007736,
          -5588.197996167427,
          -5439.07007632073,
          -5287.1072732679,
          -5146.022982337184,
          -5017.182063043696,
          -4862.694780521948,
          -5974.586989301071,
          -5839.603509729028,
          -5702.219369339867,
          -5565.530594566271,
          -5411.10937078362,
          -5298.464995952275,
          -5195.726396114183,
          -5040.697340269616,
          -4927.469446658831,
          -4812.170668792478,
          -4691.283842040779,
          -4592.632488359148,
          -4474.127188824782,
          -4398.762101271791,
          -4318.41161722092,
          -4233.875152532082,
          -4175.520146430799,
          -4100.299340573567,
          -5301.087366950625,
          -5206.643872272601,
          -5075.978117381696,
          -4959.538992686429,
          -4863.157432978972,
          -4761.631135659813,
          -4674.96589023342,
          -4569.567254624084,
          -4448.78456443912,
          -4350.233181861555,
          -4247.823854587093,
          -4169.310900403609,
          -4086.938464387464,
          -4022.2609258119655,
          -3935.570488779487,
          -3871.747669228307,
          -3780.4777624591748,
          -3662.8586519608075,
          -3587.144305882375,
          -3512.25853364708,
          -3410.168192301197,
          -3352.961464609149,
          -3300.643006024783,
          -3231.0172857837915,
          -3191.97659435244,
          -3141.297530578342,
          -3116.0456293552083,
          -3091.603804181,
          -3045.53965201376,
          -3023.3180659332097,
          -2994.1853432958815,
          -2979.2179295640462,
          -4188.049212381486,
          -4125.7272438862265,
          -4058.0981541307774,
          -3994.7742279655463,
          -3937.5832588469243,
          -3850.679928493047,
          -3802.252731353325,
          -3754.3626220991923,
          -3704.5881172152244,
          -3627.8045925266156,
          -3556.092408825551,
          -3484.4487124725288,
          -3406.8707639736276,
          -4580.995933414683,
          -4507.156096078095,
          -4424.669852234972,
          -4345.683058145572,
          -4283.65573581975,
          -4216.30950638696,
          -4152.857126131481,
          -4083.542841086222,
          -3999.8011274427727,
          -3939.4090823450615,
          -3886.432719051259,
          -3836.5754102892083,
          -3756.51239387764,
          -3693.6518981225345,
          -3647.905822197633,
          -3594.1895893097276,
          -3555.6220057373384,
          -3510.397125507845,
          -3465.7812404875312,
          -3388.54999086803,
          -3301.0079912333085,
          -3275.967671583976,
          -3212.528964720617,
          -3145.8278061317924,
          -3098.9946938865205,
          -3048.0349061310594,
          -3022.7135098858166,
          -2993.804969490384,
          -2951.0527707107685,
          -2935.6106598823376,
          -2913.986233487044,
          -2889.026784147562,
          -2880.2657127816597,
          -2855.4550842703934,
          -2844.436880899578,
          -2826.4594056635947,
          -2780.6010294370512,
          -2774.3769882595693,
          -2761.2019087291865,
          -2716.753832380019,
          -2712.4836790848185,
          -2701.7843319214257,
          -2679.7129586445685,
          -2674.5244402987855,
          -2660.143462686834,
          -2658.937724179361,
          -2658.9802152121865,
          -2640.821006603699,
          -2636.188166339551,
          -2612.5406396859694,
          -3870.2390140985317,
          -3826.8294535345904,
          -3770.7562753932066,
          -3706.9260243774784,
          -3672.0489834023792,
          -3593.567024066284,
          -3522.4243431036325,
          -3449.327369379487,
          -3383.154274604308,
          -3337.628103620136,
          -3234.1229794753303,
          -3187.5580602963173,
          -4132.655737884465,
          -4050.9495083690867,
          -3957.311528034323,
          -3879.61906691295,
          -3820.434304236432,
          -3722.0169320669747,
          -3661.7362547842954,
          -3595.8668045929235,
          -3513.6321324092064,
          -3454.886847112838,
          -3366.0913732283243,
          -3311.4477182991914,
          -3251.389809567224,
          -4465.734217184536,
          -5635.904848497155,
          -5491.668654557268,
          -5341.201908374977,
          -5191.553832039978,
          -5058.891678758379,
          -4960.536011608044,
          -4843.314571143722,
          -4721.381988297973,
          -4593.726708766054,
          -4484.377640415411,
          -4357.602534798795,
          -4275.498433406843,
          -4173.278496070569,
          -4056.5473562277466,
          -3963.685461978637,
          -3860.9380434994914,
          -3774.900521759512,
          -3685.504500889131,
          -3570.6843208535656,
          -3497.056948019423,
          -3417.374670098646,
          -3364.8796832947005,
          -3303.8844959629123,
          -3239.1291161243958,
          -3185.36395147942,
          -3115.149393420243,
          -3071.7434176834336,
          -3021.0736809760965,
          -2958.6307337370527,
          -2915.085504387571,
          -2853.682084212068,
          -2811.334800843585,
          -2740.8814088098416,
          -2711.8461524574477,
          -2703.57230635915,
          -2629.029414104784,
          -2596.6682375405926,
          -2558.601508038969,
          -2517.05744771741,
          -2497.3751498087136,
          -2472.280143816365,
          -2481.3889380637106,
          -2444.3333805411626,
          -2396.560045319516,
          -3636.2976435067367,
          -3571.2457377664673,
          -3515.595908255809,
          -3442.5720719255764,
          -3384.8691890485534,
          -3299.874421486611,
          -3247.479444627146,
          -3190.58026684206,
          -3104.5570561683776,
          -3059.9747739216423,
          -4260.775782964778,
          -4173.944751646187,
          -4077.586961580339,
          -3958.8834831171253,
          -3878.7281437924403,
          -3786.3790180407427,
          -3712.323857319113,
          -3631.0309030263484,
          -3602.1896669052944,
          -3529.302080229083,
          -3448.52999701992,
          -4376.588797139124,
          -4283.525245253559,
          -5856.584235443418,
          -5704.720866025681,
          -5551.132031384654,
          -5392.4867501292665,
          -5254.187280124095,
          -5109.019788919131,
          -6263.458997362367,
          -6094.120637467872,
          -5923.755811969157,
          -5750.6055794903905,
          -5598.981356310775,
          -5443.622102058343,
          -5307.47721797601,
          -5168.97812925697,
          -5026.019004086691,
          -4903.778243923223,
          -4785.627114166294,
          -4675.002029599642,
          -4560.201948415656,
          -4440.59387047903,
          -4347.170115659868,
          -4239.883311033474,
          -4151.8879785921345,
          -4064.812459448449,
          -5222.419961070512,
          -5097.723162627691,
          -4963.614236122583,
          -4830.269666677679,
          -4721.658880010572,
          -4601.992524810149,
          -4533.512823817743,
          -4426.372310865033,
          -4339.917418430432,
          -4260.520721693214,
          -4148.699892825485,
          -4063.9518971124658,
          -5223.793821227968,
          -5095.242068378849,
          -4964.832385643695,
          -4839.839090217947,
          -4724.245526609229,
          -4611.8757055448605,
          -4508.600677323066,
          -4401.656650230142,
          -5550.990384220938,
          -5395.7507688521,
          -5254.320738098016,
          -5104.547908574094,
          -4979.965992231131,
          -4847.967352541886,
          -4735.84865844021,
          -4608.414712102602,
          -4482.278123618497,
          -5650.586998673759,
          -5506.163518726808,
          -5360.916977977736,
          -5229.680298858626,
          -5125.693086904281,
          -4977.065363428109,
          -4849.5827488909845,
          -4746.199438935345,
          -4609.351461377931,
          -5756.377402922814,
          -6605.122306805903,
          -6433.117414533666,
          -6234.792717952319,
          -6042.601009234227,
          -5865.496968864858,
          -5694.477090110264,
          -5532.098006505853,
          -5375.8140862456185,
          -5216.581522795794,
          -5078.7182618839615,
          -4937.769531408603,
          -4821.658750152258,
          -4702.392400146168,
          -5603.296704140323,
          -5480.56483597471,
          -5336.342242535721,
          -5163.488552834293,
          -5033.749010720921,
          -4907.199050292084,
          -4791.711088280401,
          -5948.242644749185,
          -5792.712938959217,
          -5635.604421400849,
          -5474.380244544815,
          -5333.8050347630215,
          -5189.8528333725,
          -5064.258720037599,
          -4944.088371236095,
          -4809.3248363866505,
          -4729.551842931185,
          -4608.169769213938,
          -4505.84297844538,
          -4406.209259307565,
          -4303.5608889352625,
          -4209.418453377852,
          -4110.841715242737,
          -4028.008046633028,
          -3943.0877247677067,
          -3858.964215776998,
          -3783.005647145918,
          -3710.8854212600813,
          -3644.050004409678,
          -3574.488004233291,
          -3530.3084840639594,
          -3459.2961447014013,
          -3373.924298913345,
          -3305.367326956811,
          -3244.352633878539,
          -3176.1785285233973,
          -3113.731387382461,
          -3046.9821318871627,
          -3002.102846611676,
          -2948.0187327472086,
          -2887.8979834373204
         ],
         "yaxis": "y"
        }
       ],
       "layout": {
        "legend": {
         "title": {
          "text": "variable"
         },
         "tracegroupgap": 0
        },
        "template": {
         "data": {
          "bar": [
           {
            "error_x": {
             "color": "#2a3f5f"
            },
            "error_y": {
             "color": "#2a3f5f"
            },
            "marker": {
             "line": {
              "color": "#E5ECF6",
              "width": 0.5
             }
            },
            "type": "bar"
           }
          ],
          "barpolar": [
           {
            "marker": {
             "line": {
              "color": "#E5ECF6",
              "width": 0.5
             }
            },
            "type": "barpolar"
           }
          ],
          "carpet": [
           {
            "aaxis": {
             "endlinecolor": "#2a3f5f",
             "gridcolor": "white",
             "linecolor": "white",
             "minorgridcolor": "white",
             "startlinecolor": "#2a3f5f"
            },
            "baxis": {
             "endlinecolor": "#2a3f5f",
             "gridcolor": "white",
             "linecolor": "white",
             "minorgridcolor": "white",
             "startlinecolor": "#2a3f5f"
            },
            "type": "carpet"
           }
          ],
          "choropleth": [
           {
            "colorbar": {
             "outlinewidth": 0,
             "ticks": ""
            },
            "type": "choropleth"
           }
          ],
          "contour": [
           {
            "colorbar": {
             "outlinewidth": 0,
             "ticks": ""
            },
            "colorscale": [
             [
              0,
              "#0d0887"
             ],
             [
              0.1111111111111111,
              "#46039f"
             ],
             [
              0.2222222222222222,
              "#7201a8"
             ],
             [
              0.3333333333333333,
              "#9c179e"
             ],
             [
              0.4444444444444444,
              "#bd3786"
             ],
             [
              0.5555555555555556,
              "#d8576b"
             ],
             [
              0.6666666666666666,
              "#ed7953"
             ],
             [
              0.7777777777777778,
              "#fb9f3a"
             ],
             [
              0.8888888888888888,
              "#fdca26"
             ],
             [
              1,
              "#f0f921"
             ]
            ],
            "type": "contour"
           }
          ],
          "contourcarpet": [
           {
            "colorbar": {
             "outlinewidth": 0,
             "ticks": ""
            },
            "type": "contourcarpet"
           }
          ],
          "heatmap": [
           {
            "colorbar": {
             "outlinewidth": 0,
             "ticks": ""
            },
            "colorscale": [
             [
              0,
              "#0d0887"
             ],
             [
              0.1111111111111111,
              "#46039f"
             ],
             [
              0.2222222222222222,
              "#7201a8"
             ],
             [
              0.3333333333333333,
              "#9c179e"
             ],
             [
              0.4444444444444444,
              "#bd3786"
             ],
             [
              0.5555555555555556,
              "#d8576b"
             ],
             [
              0.6666666666666666,
              "#ed7953"
             ],
             [
              0.7777777777777778,
              "#fb9f3a"
             ],
             [
              0.8888888888888888,
              "#fdca26"
             ],
             [
              1,
              "#f0f921"
             ]
            ],
            "type": "heatmap"
           }
          ],
          "heatmapgl": [
           {
            "colorbar": {
             "outlinewidth": 0,
             "ticks": ""
            },
            "colorscale": [
             [
              0,
              "#0d0887"
             ],
             [
              0.1111111111111111,
              "#46039f"
             ],
             [
              0.2222222222222222,
              "#7201a8"
             ],
             [
              0.3333333333333333,
              "#9c179e"
             ],
             [
              0.4444444444444444,
              "#bd3786"
             ],
             [
              0.5555555555555556,
              "#d8576b"
             ],
             [
              0.6666666666666666,
              "#ed7953"
             ],
             [
              0.7777777777777778,
              "#fb9f3a"
             ],
             [
              0.8888888888888888,
              "#fdca26"
             ],
             [
              1,
              "#f0f921"
             ]
            ],
            "type": "heatmapgl"
           }
          ],
          "histogram": [
           {
            "marker": {
             "colorbar": {
              "outlinewidth": 0,
              "ticks": ""
             }
            },
            "type": "histogram"
           }
          ],
          "histogram2d": [
           {
            "colorbar": {
             "outlinewidth": 0,
             "ticks": ""
            },
            "colorscale": [
             [
              0,
              "#0d0887"
             ],
             [
              0.1111111111111111,
              "#46039f"
             ],
             [
              0.2222222222222222,
              "#7201a8"
             ],
             [
              0.3333333333333333,
              "#9c179e"
             ],
             [
              0.4444444444444444,
              "#bd3786"
             ],
             [
              0.5555555555555556,
              "#d8576b"
             ],
             [
              0.6666666666666666,
              "#ed7953"
             ],
             [
              0.7777777777777778,
              "#fb9f3a"
             ],
             [
              0.8888888888888888,
              "#fdca26"
             ],
             [
              1,
              "#f0f921"
             ]
            ],
            "type": "histogram2d"
           }
          ],
          "histogram2dcontour": [
           {
            "colorbar": {
             "outlinewidth": 0,
             "ticks": ""
            },
            "colorscale": [
             [
              0,
              "#0d0887"
             ],
             [
              0.1111111111111111,
              "#46039f"
             ],
             [
              0.2222222222222222,
              "#7201a8"
             ],
             [
              0.3333333333333333,
              "#9c179e"
             ],
             [
              0.4444444444444444,
              "#bd3786"
             ],
             [
              0.5555555555555556,
              "#d8576b"
             ],
             [
              0.6666666666666666,
              "#ed7953"
             ],
             [
              0.7777777777777778,
              "#fb9f3a"
             ],
             [
              0.8888888888888888,
              "#fdca26"
             ],
             [
              1,
              "#f0f921"
             ]
            ],
            "type": "histogram2dcontour"
           }
          ],
          "mesh3d": [
           {
            "colorbar": {
             "outlinewidth": 0,
             "ticks": ""
            },
            "type": "mesh3d"
           }
          ],
          "parcoords": [
           {
            "line": {
             "colorbar": {
              "outlinewidth": 0,
              "ticks": ""
             }
            },
            "type": "parcoords"
           }
          ],
          "pie": [
           {
            "automargin": true,
            "type": "pie"
           }
          ],
          "scatter": [
           {
            "marker": {
             "colorbar": {
              "outlinewidth": 0,
              "ticks": ""
             }
            },
            "type": "scatter"
           }
          ],
          "scatter3d": [
           {
            "line": {
             "colorbar": {
              "outlinewidth": 0,
              "ticks": ""
             }
            },
            "marker": {
             "colorbar": {
              "outlinewidth": 0,
              "ticks": ""
             }
            },
            "type": "scatter3d"
           }
          ],
          "scattercarpet": [
           {
            "marker": {
             "colorbar": {
              "outlinewidth": 0,
              "ticks": ""
             }
            },
            "type": "scattercarpet"
           }
          ],
          "scattergeo": [
           {
            "marker": {
             "colorbar": {
              "outlinewidth": 0,
              "ticks": ""
             }
            },
            "type": "scattergeo"
           }
          ],
          "scattergl": [
           {
            "marker": {
             "colorbar": {
              "outlinewidth": 0,
              "ticks": ""
             }
            },
            "type": "scattergl"
           }
          ],
          "scattermapbox": [
           {
            "marker": {
             "colorbar": {
              "outlinewidth": 0,
              "ticks": ""
             }
            },
            "type": "scattermapbox"
           }
          ],
          "scatterpolar": [
           {
            "marker": {
             "colorbar": {
              "outlinewidth": 0,
              "ticks": ""
             }
            },
            "type": "scatterpolar"
           }
          ],
          "scatterpolargl": [
           {
            "marker": {
             "colorbar": {
              "outlinewidth": 0,
              "ticks": ""
             }
            },
            "type": "scatterpolargl"
           }
          ],
          "scatterternary": [
           {
            "marker": {
             "colorbar": {
              "outlinewidth": 0,
              "ticks": ""
             }
            },
            "type": "scatterternary"
           }
          ],
          "surface": [
           {
            "colorbar": {
             "outlinewidth": 0,
             "ticks": ""
            },
            "colorscale": [
             [
              0,
              "#0d0887"
             ],
             [
              0.1111111111111111,
              "#46039f"
             ],
             [
              0.2222222222222222,
              "#7201a8"
             ],
             [
              0.3333333333333333,
              "#9c179e"
             ],
             [
              0.4444444444444444,
              "#bd3786"
             ],
             [
              0.5555555555555556,
              "#d8576b"
             ],
             [
              0.6666666666666666,
              "#ed7953"
             ],
             [
              0.7777777777777778,
              "#fb9f3a"
             ],
             [
              0.8888888888888888,
              "#fdca26"
             ],
             [
              1,
              "#f0f921"
             ]
            ],
            "type": "surface"
           }
          ],
          "table": [
           {
            "cells": {
             "fill": {
              "color": "#EBF0F8"
             },
             "line": {
              "color": "white"
             }
            },
            "header": {
             "fill": {
              "color": "#C8D4E3"
             },
             "line": {
              "color": "white"
             }
            },
            "type": "table"
           }
          ]
         },
         "layout": {
          "annotationdefaults": {
           "arrowcolor": "#2a3f5f",
           "arrowhead": 0,
           "arrowwidth": 1
          },
          "coloraxis": {
           "colorbar": {
            "outlinewidth": 0,
            "ticks": ""
           }
          },
          "colorscale": {
           "diverging": [
            [
             0,
             "#8e0152"
            ],
            [
             0.1,
             "#c51b7d"
            ],
            [
             0.2,
             "#de77ae"
            ],
            [
             0.3,
             "#f1b6da"
            ],
            [
             0.4,
             "#fde0ef"
            ],
            [
             0.5,
             "#f7f7f7"
            ],
            [
             0.6,
             "#e6f5d0"
            ],
            [
             0.7,
             "#b8e186"
            ],
            [
             0.8,
             "#7fbc41"
            ],
            [
             0.9,
             "#4d9221"
            ],
            [
             1,
             "#276419"
            ]
           ],
           "sequential": [
            [
             0,
             "#0d0887"
            ],
            [
             0.1111111111111111,
             "#46039f"
            ],
            [
             0.2222222222222222,
             "#7201a8"
            ],
            [
             0.3333333333333333,
             "#9c179e"
            ],
            [
             0.4444444444444444,
             "#bd3786"
            ],
            [
             0.5555555555555556,
             "#d8576b"
            ],
            [
             0.6666666666666666,
             "#ed7953"
            ],
            [
             0.7777777777777778,
             "#fb9f3a"
            ],
            [
             0.8888888888888888,
             "#fdca26"
            ],
            [
             1,
             "#f0f921"
            ]
           ],
           "sequentialminus": [
            [
             0,
             "#0d0887"
            ],
            [
             0.1111111111111111,
             "#46039f"
            ],
            [
             0.2222222222222222,
             "#7201a8"
            ],
            [
             0.3333333333333333,
             "#9c179e"
            ],
            [
             0.4444444444444444,
             "#bd3786"
            ],
            [
             0.5555555555555556,
             "#d8576b"
            ],
            [
             0.6666666666666666,
             "#ed7953"
            ],
            [
             0.7777777777777778,
             "#fb9f3a"
            ],
            [
             0.8888888888888888,
             "#fdca26"
            ],
            [
             1,
             "#f0f921"
            ]
           ]
          },
          "colorway": [
           "#636efa",
           "#EF553B",
           "#00cc96",
           "#ab63fa",
           "#FFA15A",
           "#19d3f3",
           "#FF6692",
           "#B6E880",
           "#FF97FF",
           "#FECB52"
          ],
          "font": {
           "color": "#2a3f5f"
          },
          "geo": {
           "bgcolor": "white",
           "lakecolor": "white",
           "landcolor": "#E5ECF6",
           "showlakes": true,
           "showland": true,
           "subunitcolor": "white"
          },
          "hoverlabel": {
           "align": "left"
          },
          "hovermode": "closest",
          "mapbox": {
           "style": "light"
          },
          "paper_bgcolor": "white",
          "plot_bgcolor": "#E5ECF6",
          "polar": {
           "angularaxis": {
            "gridcolor": "white",
            "linecolor": "white",
            "ticks": ""
           },
           "bgcolor": "#E5ECF6",
           "radialaxis": {
            "gridcolor": "white",
            "linecolor": "white",
            "ticks": ""
           }
          },
          "scene": {
           "xaxis": {
            "backgroundcolor": "#E5ECF6",
            "gridcolor": "white",
            "gridwidth": 2,
            "linecolor": "white",
            "showbackground": true,
            "ticks": "",
            "zerolinecolor": "white"
           },
           "yaxis": {
            "backgroundcolor": "#E5ECF6",
            "gridcolor": "white",
            "gridwidth": 2,
            "linecolor": "white",
            "showbackground": true,
            "ticks": "",
            "zerolinecolor": "white"
           },
           "zaxis": {
            "backgroundcolor": "#E5ECF6",
            "gridcolor": "white",
            "gridwidth": 2,
            "linecolor": "white",
            "showbackground": true,
            "ticks": "",
            "zerolinecolor": "white"
           }
          },
          "shapedefaults": {
           "line": {
            "color": "#2a3f5f"
           }
          },
          "ternary": {
           "aaxis": {
            "gridcolor": "white",
            "linecolor": "white",
            "ticks": ""
           },
           "baxis": {
            "gridcolor": "white",
            "linecolor": "white",
            "ticks": ""
           },
           "bgcolor": "#E5ECF6",
           "caxis": {
            "gridcolor": "white",
            "linecolor": "white",
            "ticks": ""
           }
          },
          "title": {
           "x": 0.05
          },
          "xaxis": {
           "automargin": true,
           "gridcolor": "white",
           "linecolor": "white",
           "ticks": "",
           "title": {
            "standoff": 15
           },
           "zerolinecolor": "white",
           "zerolinewidth": 2
          },
          "yaxis": {
           "automargin": true,
           "gridcolor": "white",
           "linecolor": "white",
           "ticks": "",
           "title": {
            "standoff": 15
           },
           "zerolinecolor": "white",
           "zerolinewidth": 2
          }
         }
        },
        "title": {
         "text": "Reward"
        },
        "xaxis": {
         "anchor": "y",
         "domain": [
          0,
          1
         ],
         "title": {
          "text": "x"
         }
        },
        "yaxis": {
         "anchor": "x",
         "domain": [
          0,
          1
         ],
         "title": {
          "text": "value"
         }
        }
       }
      },
      "text/html": [
       "<div>                            <div id=\"02fe384b-23d7-4b73-baba-00ec2b9af005\" class=\"plotly-graph-div\" style=\"height:525px; width:100%;\"></div>            <script type=\"text/javascript\">                require([\"plotly\"], function(Plotly) {                    window.PLOTLYENV=window.PLOTLYENV || {};                                    if (document.getElementById(\"02fe384b-23d7-4b73-baba-00ec2b9af005\")) {                    Plotly.newPlot(                        \"02fe384b-23d7-4b73-baba-00ec2b9af005\",                        [{\"hovertemplate\": \"variable=wide_variable_0<br>x=%{x}<br>value=%{y}<extra></extra>\", \"legendgroup\": \"wide_variable_0\", \"line\": {\"color\": \"#636efa\", \"dash\": \"solid\"}, \"mode\": \"lines\", \"name\": \"wide_variable_0\", \"showlegend\": true, \"type\": \"scattergl\", \"x\": [0, 1, 2, 3, 4, 5, 6, 7, 8, 9, 10, 11, 12, 13, 14, 15, 16, 17, 18, 19, 20, 21, 22, 23, 24, 25, 26, 27, 28, 29, 30, 31, 32, 33, 34, 35, 36, 37, 38, 39, 40, 41, 42, 43, 44, 45, 46, 47, 48, 49, 50, 51, 52, 53, 54, 55, 56, 57, 58, 59, 60, 61, 62, 63, 64, 65, 66, 67, 68, 69, 70, 71, 72, 73, 74, 75, 76, 77, 78, 79, 80, 81, 82, 83, 84, 85, 86, 87, 88, 89, 90, 91, 92, 93, 94, 95, 96, 97, 98, 99, 100, 101, 102, 103, 104, 105, 106, 107, 108, 109, 110, 111, 112, 113, 114, 115, 116, 117, 118, 119, 120, 121, 122, 123, 124, 125, 126, 127, 128, 129, 130, 131, 132, 133, 134, 135, 136, 137, 138, 139, 140, 141, 142, 143, 144, 145, 146, 147, 148, 149, 150, 151, 152, 153, 154, 155, 156, 157, 158, 159, 160, 161, 162, 163, 164, 165, 166, 167, 168, 169, 170, 171, 172, 173, 174, 175, 176, 177, 178, 179, 180, 181, 182, 183, 184, 185, 186, 187, 188, 189, 190, 191, 192, 193, 194, 195, 196, 197, 198, 199, 200, 201, 202, 203, 204, 205, 206, 207, 208, 209, 210, 211, 212, 213, 214, 215, 216, 217, 218, 219, 220, 221, 222, 223, 224, 225, 226, 227, 228, 229, 230, 231, 232, 233, 234, 235, 236, 237, 238, 239, 240, 241, 242, 243, 244, 245, 246, 247, 248, 249, 250, 251, 252, 253, 254, 255, 256, 257, 258, 259, 260, 261, 262, 263, 264, 265, 266, 267, 268, 269, 270, 271, 272, 273, 274, 275, 276, 277, 278, 279, 280, 281, 282, 283, 284, 285, 286, 287, 288, 289, 290, 291, 292, 293, 294, 295, 296, 297, 298, 299, 300, 301, 302, 303, 304, 305, 306, 307, 308, 309, 310, 311, 312, 313, 314, 315, 316, 317, 318, 319, 320, 321, 322, 323, 324, 325, 326, 327, 328, 329, 330, 331, 332, 333, 334, 335, 336, 337, 338, 339, 340, 341, 342, 343, 344, 345, 346, 347, 348, 349, 350, 351, 352, 353, 354, 355, 356, 357, 358, 359, 360, 361, 362, 363, 364, 365, 366, 367, 368, 369, 370, 371, 372, 373, 374, 375, 376, 377, 378, 379, 380, 381, 382, 383, 384, 385, 386, 387, 388, 389, 390, 391, 392, 393, 394, 395, 396, 397, 398, 399, 400, 401, 402, 403, 404, 405, 406, 407, 408, 409, 410, 411, 412, 413, 414, 415, 416, 417, 418, 419, 420, 421, 422, 423, 424, 425, 426, 427, 428, 429, 430, 431, 432, 433, 434, 435, 436, 437, 438, 439, 440, 441, 442, 443, 444, 445, 446, 447, 448, 449, 450, 451, 452, 453, 454, 455, 456, 457, 458, 459, 460, 461, 462, 463, 464, 465, 466, 467, 468, 469, 470, 471, 472, 473, 474, 475, 476, 477, 478, 479, 480, 481, 482, 483, 484, 485, 486, 487, 488, 489, 490, 491, 492, 493, 494, 495, 496, 497, 498, 499, 500, 501, 502, 503, 504, 505, 506, 507, 508, 509, 510, 511, 512, 513, 514, 515, 516, 517, 518, 519, 520, 521, 522, 523, 524, 525, 526, 527, 528, 529, 530, 531, 532, 533, 534, 535, 536, 537, 538, 539, 540, 541, 542, 543, 544, 545, 546, 547, 548, 549, 550, 551, 552, 553, 554, 555, 556, 557, 558, 559, 560, 561, 562, 563, 564, 565, 566, 567, 568, 569, 570, 571, 572, 573, 574, 575, 576, 577, 578, 579, 580, 581, 582, 583, 584, 585, 586, 587, 588, 589, 590, 591, 592, 593, 594, 595, 596, 597, 598, 599, 600, 601, 602, 603, 604, 605, 606, 607, 608, 609, 610, 611, 612, 613, 614, 615, 616, 617, 618, 619, 620, 621, 622, 623, 624, 625, 626, 627, 628, 629, 630, 631, 632, 633, 634, 635, 636, 637, 638, 639, 640, 641, 642, 643, 644, 645, 646, 647, 648, 649, 650, 651, 652, 653, 654, 655, 656, 657, 658, 659, 660, 661, 662, 663, 664, 665, 666, 667, 668, 669, 670, 671, 672, 673, 674, 675, 676, 677, 678, 679, 680, 681, 682, 683, 684, 685, 686, 687, 688, 689, 690, 691, 692, 693, 694, 695, 696, 697, 698, 699, 700, 701, 702, 703, 704, 705, 706, 707, 708, 709, 710, 711, 712, 713, 714, 715, 716, 717, 718, 719, 720, 721, 722, 723, 724, 725, 726, 727, 728, 729, 730], \"xaxis\": \"x\", \"y\": [-34145.0, -33970.0, -34200.0, -34225.0, -3010.0, -1595.0, -1445.0, -1800.0, -1845.0, -1635.0, -2260.0, -2535.0, -2240.0, -3040.0, -2660.0, -2510.0, -2025.0, -2955.0, -1675.0, -1420.0, -1760.0, -1495.0, -32825.0, -3475.0, -2190.0, -33650.0, -2860.0, -2140.0, -2135.0, -2265.0, -2210.0, -2135.0, -2900.0, -2550.0, -2110.0, -2040.0, -32980.0, -3165.0, -2475.0, -2055.0, -2015.0, -1715.0, -1540.0, -1925.0, -1640.0, -2530.0, -1430.0, -1770.0, -1605.0, -2005.0, -1885.0, -1905.0, -2395.0, -1665.0, -33200.0, -28360.0, -2890.0, -2355.0, -2225.0, -2440.0, -33195.0, -2890.0, -2180.0, -2025.0, -33270.0, -3055.0, -1650.0, -1445.0, -1850.0, -2085.0, -1540.0, -2175.0, -2050.0, -2035.0, -2270.0, -2000.0, -2055.0, -2515.0, -2370.0, -2840.0, -2745.0, -2475.0, -2890.0, -1915.0, -33425.0, -2985.0, -2870.0, -1905.0, -2380.0, -1650.0, -1400.0, -2060.0, -1855.0, -32900.0, -3205.0, -2670.0, -2395.0, -2760.0, -2385.0, -2125.0, -2030.0, -1835.0, -2430.0, -2045.0, -2515.0, -1685.0, -2435.0, -2180.0, -33030.0, -2930.0, -2725.0, -2445.0, -2830.0, -2540.0, -2380.0, -2710.0, -2490.0, -1735.0, -2220.0, -1610.0, -1970.0, -1950.0, -1715.0, -2340.0, -1970.0, -33840.0, -2760.0, -2090.0, -2220.0, -2340.0, -1895.0, -2135.0, -2595.0, -2115.0, -2815.0, -2605.0, -2580.0, -2060.0, -1375.0, -1710.0, -1040.0, -2055.0, -1945.0, -2090.0, -2215.0, -2280.0, -2700.0, -33350.0, -2520.0, -2260.0, -2420.0, -2000.0, -27790.0, -33925.0, -3010.0, -2650.0, -2400.0, -33800.0, -2830.0, -34230.0, -2655.0, -2670.0, -2395.0, -2785.0, -33470.0, -2835.0, -2735.0, -33095.0, -2865.0, -1615.0, -1355.0, -1700.0, -1575.0, -1965.0, -33845.0, -2770.0, -2905.0, -2055.0, -1350.0, -1755.0, -43640.0, -2560.0, -2585.0, -2420.0, -2790.0, -2565.0, -3080.0, -1790.0, -875.0, -1770.0, -1770.0, -1995.0, -1795.0, -1605.0, -2020.0, -1825.0, -2435.0, -33135.0, -34020.0, -2655.0, -1525.0, -26365.0, -2600.0, -2445.0, -2135.0, -2850.0, -2160.0, -2485.0, -2520.0, -2565.0, -2535.0, -1635.0, -2745.0, -34140.0, -2585.0, -2415.0, -2035.0, -2315.0, -1965.0, -2910.0, -2415.0, -1635.0, -1575.0, -1815.0, -1620.0, -985.0, -2230.0, -33390.0, -2910.0, -2415.0, -1645.0, -32605.0, -2595.0, -2290.0, -2595.0, -2405.0, -1675.0, -2590.0, -33430.0, -2895.0, -2085.0, -2040.0, -2180.0, -2060.0, -2675.0, -1530.0, -1840.0, -1370.0, -32755.0, -2910.0, -2390.0, -1625.0, -32955.0, -27635.0, -2945.0, -1545.0, -1760.0, -1925.0, -41980.0, -2635.0, -2405.0, -2150.0, -2550.0, -2400.0, -1785.0, -1465.0, -1855.0, -1670.0, -1975.0, -1515.0, -1935.0, -1800.0, -1200.0, -2300.0, -2500.0, -1580.0, -2800.0, -1505.0, -2075.0, -1370.0, -2300.0, -32435.0, -33570.0, -2630.0, -2410.0, -2315.0, -2510.0, -2530.0, -2910.0, -2475.0, -2300.0, -1990.0, -2475.0, -33160.0, -2610.0, -2745.0, -2085.0, -2530.0, -2285.0, -2775.0, -2400.0, -1710.0, -1695.0, -1550.0, -1805.0, -1600.0, -1405.0, -1775.0, -1615.0, -1765.0, -1985.0, -2195.0, -1690.0, -2360.0, -2400.0, -2550.0, -2760.0, -2490.0, -2770.0, -1860.0, -32510.0, -2620.0, -2420.0, -33920.0, -2655.0, -2400.0, -2305.0, -2565.0, -1445.0, -2065.0, -33285.0, -2670.0, -2355.0, -2175.0, -2295.0, -2505.0, -2620.0, -2450.0, -2420.0, -1690.0, -32460.0, -2905.0, -1585.0, -905.0, -1915.0, -1710.0, -2230.0, -2315.0, -1700.0, -2110.0, -2040.0, -1405.0, -2390.0, -2025.0, -2685.0, -2590.0, -26315.0, -2605.0, -2190.0, -2105.0, -1705.0, -850.0, -1780.0, -1635.0, -1505.0, -1195.0, -1510.0, -1905.0, -1675.0, -2150.0, -2330.0, -2430.0, -2290.0, -33640.0, -2625.0, -2760.0, -1605.0, -2460.0, -2240.0, -2820.0, -2400.0, -33205.0, -3015.0, -1855.0, -2120.0, -2460.0, -2405.0, -2625.0, -2495.0, -42930.0, -2485.0, -2130.0, -1495.0, -2465.0, -2345.0, -2540.0, -1855.0, -33320.0, -2630.0, -2445.0, -2175.0, -2570.0, -2540.0, -1860.0, -1640.0, -1760.0, -1925.0, -1155.0, -32660.0, -2600.0, -2405.0, -2285.0, -1705.0, -2595.0, -2730.0, -1320.0, -2210.0, -2045.0, -1790.0, -2225.0, -1630.0, -2590.0, -2390.0, -2205.0, -2775.0, -2295.0, -34120.0, -2940.0, -1940.0, -2165.0, -2550.0, -2325.0, -2595.0, -2040.0, -1550.0, -1985.0, -1790.0, -2285.0, -2110.0, -2470.0, -1855.0, -2340.0, -1590.0, -840.0, -1770.0, -1715.0, -960.0, -1980.0, -2045.0, -1560.0, -2255.0, -1925.0, -2510.0, -2505.0, -1940.0, -2490.0, -2295.0, -2620.0, -33200.0, -2630.0, -2435.0, -2475.0, -2565.0, -1765.0, -2640.0, -2605.0, -2510.0, -1785.0, -1835.0, -1765.0, -1545.0, -32760.0, -2735.0, -2445.0, -2450.0, -2795.0, -2600.0, -2630.0, -2420.0, -1990.0, -2490.0, -2615.0, -2640.0, -1835.0, -2185.0, -2550.0, -2305.0, -2630.0, -2425.0, -2395.0, -1535.0, -1200.0, -2675.0, -1690.0, -1545.0, -1975.0, -1825.0, -2415.0, -2300.0, -1925.0, -2565.0, -2395.0, -2290.0, -2670.0, -2260.0, -2580.0, -2395.0, -1680.0, -2625.0, -2445.0, -1650.0, -2610.0, -2445.0, -2150.0, -2550.0, -2315.0, -2630.0, -2660.0, -2205.0, -2525.0, -2045.0, -34055.0, -2785.0, -2425.0, -2175.0, -2835.0, -1710.0, -1815.0, -1695.0, -1795.0, -2245.0, -750.0, -2070.0, -26815.0, -2090.0, -1710.0, -2015.0, -2400.0, -1360.0, -2215.0, -2015.0, -1540.0, -2045.0, -1235.0, -2000.0, -1810.0, -33610.0, -33720.0, -2030.0, -1730.0, -1600.0, -1875.0, -2600.0, -2030.0, -1795.0, -1530.0, -1860.0, -1315.0, -2305.0, -1720.0, -1255.0, -1735.0, -1395.0, -1710.0, -1540.0, -815.0, -1730.0, -1505.0, -2105.0, -1840.0, -1685.0, -1895.0, -1430.0, -2030.0, -1805.0, -1460.0, -1870.0, -1380.0, -1795.0, -1050.0, -2015.0, -2505.0, -840.0, -1820.0, -1645.0, -1520.0, -2025.0, -1870.0, -2700.0, -1555.0, -1250.0, -33390.0, -2010.0, -2180.0, -1690.0, -2000.0, -1260.0, -1990.0, -1825.0, -1040.0, -1990.0, -33080.0, -2090.0, -1765.0, -1110.0, -1955.0, -1570.0, -1935.0, -1680.0, -2910.0, -1780.0, -1510.0, -26650.0, -2050.0, -43610.0, -2060.0, -1865.0, -1585.0, -1935.0, -1625.0, -33970.0, -2030.0, -1835.0, -1595.0, -1960.0, -1715.0, -2040.0, -1845.0, -1595.0, -1970.0, -1950.0, -2020.0, -1805.0, -1570.0, -2105.0, -1665.0, -2040.0, -1975.0, -33005.0, -2105.0, -1745.0, -1630.0, -2115.0, -1730.0, -2890.0, -1855.0, -2265.0, -2355.0, -1465.0, -2030.0, -33060.0, -2010.0, -1835.0, -1840.0, -1950.0, -1915.0, -2030.0, -1835.0, -33135.0, -1670.0, -1860.0, -1510.0, -1990.0, -1680.0, -2045.0, -1550.0, -1455.0, -33690.0, -2040.0, -1875.0, -2080.0, -2630.0, -1410.0, -1790.0, -2265.0, -1325.0, -33285.0, -26975.0, -2305.0, -1475.0, -1430.0, -1615.0, -1590.0, -1635.0, -1625.0, -1395.0, -1770.0, -1555.0, -2035.0, -1840.0, -27225.0, -2535.0, -1875.0, -1015.0, -1920.0, -1870.0, -2020.0, -33705.0, -2060.0, -1865.0, -1605.0, -1960.0, -1735.0, -2050.0, -2060.0, -1575.0, -2815.0, -1695.0, -2050.0, -2015.0, -1840.0, -1950.0, -1745.0, -2040.0, -1905.0, -1840.0, -1960.0, -1980.0, -2040.0, -1905.0, -2470.0, -1755.0, -1325.0, -1660.0, -1780.0, -1540.0, -1615.0, -1445.0, -1925.0, -1650.0, -1445.0], \"yaxis\": \"y\"}, {\"hovertemplate\": \"variable=wide_variable_1<br>x=%{x}<br>value=%{y}<extra></extra>\", \"legendgroup\": \"wide_variable_1\", \"line\": {\"color\": \"#EF553B\", \"dash\": \"solid\"}, \"mode\": \"lines\", \"name\": \"wide_variable_1\", \"showlegend\": true, \"type\": \"scattergl\", \"x\": [0, 1, 2, 3, 4, 5, 6, 7, 8, 9, 10, 11, 12, 13, 14, 15, 16, 17, 18, 19, 20, 21, 22, 23, 24, 25, 26, 27, 28, 29, 30, 31, 32, 33, 34, 35, 36, 37, 38, 39, 40, 41, 42, 43, 44, 45, 46, 47, 48, 49, 50, 51, 52, 53, 54, 55, 56, 57, 58, 59, 60, 61, 62, 63, 64, 65, 66, 67, 68, 69, 70, 71, 72, 73, 74, 75, 76, 77, 78, 79, 80, 81, 82, 83, 84, 85, 86, 87, 88, 89, 90, 91, 92, 93, 94, 95, 96, 97, 98, 99, 100, 101, 102, 103, 104, 105, 106, 107, 108, 109, 110, 111, 112, 113, 114, 115, 116, 117, 118, 119, 120, 121, 122, 123, 124, 125, 126, 127, 128, 129, 130, 131, 132, 133, 134, 135, 136, 137, 138, 139, 140, 141, 142, 143, 144, 145, 146, 147, 148, 149, 150, 151, 152, 153, 154, 155, 156, 157, 158, 159, 160, 161, 162, 163, 164, 165, 166, 167, 168, 169, 170, 171, 172, 173, 174, 175, 176, 177, 178, 179, 180, 181, 182, 183, 184, 185, 186, 187, 188, 189, 190, 191, 192, 193, 194, 195, 196, 197, 198, 199, 200, 201, 202, 203, 204, 205, 206, 207, 208, 209, 210, 211, 212, 213, 214, 215, 216, 217, 218, 219, 220, 221, 222, 223, 224, 225, 226, 227, 228, 229, 230, 231, 232, 233, 234, 235, 236, 237, 238, 239, 240, 241, 242, 243, 244, 245, 246, 247, 248, 249, 250, 251, 252, 253, 254, 255, 256, 257, 258, 259, 260, 261, 262, 263, 264, 265, 266, 267, 268, 269, 270, 271, 272, 273, 274, 275, 276, 277, 278, 279, 280, 281, 282, 283, 284, 285, 286, 287, 288, 289, 290, 291, 292, 293, 294, 295, 296, 297, 298, 299, 300, 301, 302, 303, 304, 305, 306, 307, 308, 309, 310, 311, 312, 313, 314, 315, 316, 317, 318, 319, 320, 321, 322, 323, 324, 325, 326, 327, 328, 329, 330, 331, 332, 333, 334, 335, 336, 337, 338, 339, 340, 341, 342, 343, 344, 345, 346, 347, 348, 349, 350, 351, 352, 353, 354, 355, 356, 357, 358, 359, 360, 361, 362, 363, 364, 365, 366, 367, 368, 369, 370, 371, 372, 373, 374, 375, 376, 377, 378, 379, 380, 381, 382, 383, 384, 385, 386, 387, 388, 389, 390, 391, 392, 393, 394, 395, 396, 397, 398, 399, 400, 401, 402, 403, 404, 405, 406, 407, 408, 409, 410, 411, 412, 413, 414, 415, 416, 417, 418, 419, 420, 421, 422, 423, 424, 425, 426, 427, 428, 429, 430, 431, 432, 433, 434, 435, 436, 437, 438, 439, 440, 441, 442, 443, 444, 445, 446, 447, 448, 449, 450, 451, 452, 453, 454, 455, 456, 457, 458, 459, 460, 461, 462, 463, 464, 465, 466, 467, 468, 469, 470, 471, 472, 473, 474, 475, 476, 477, 478, 479, 480, 481, 482, 483, 484, 485, 486, 487, 488, 489, 490, 491, 492, 493, 494, 495, 496, 497, 498, 499, 500, 501, 502, 503, 504, 505, 506, 507, 508, 509, 510, 511, 512, 513, 514, 515, 516, 517, 518, 519, 520, 521, 522, 523, 524, 525, 526, 527, 528, 529, 530, 531, 532, 533, 534, 535, 536, 537, 538, 539, 540, 541, 542, 543, 544, 545, 546, 547, 548, 549, 550, 551, 552, 553, 554, 555, 556, 557, 558, 559, 560, 561, 562, 563, 564, 565, 566, 567, 568, 569, 570, 571, 572, 573, 574, 575, 576, 577, 578, 579, 580, 581, 582, 583, 584, 585, 586, 587, 588, 589, 590, 591, 592, 593, 594, 595, 596, 597, 598, 599, 600, 601, 602, 603, 604, 605, 606, 607, 608, 609, 610, 611, 612, 613, 614, 615, 616, 617, 618, 619, 620, 621, 622, 623, 624, 625, 626, 627, 628, 629, 630, 631, 632, 633, 634, 635, 636, 637, 638, 639, 640, 641, 642, 643, 644, 645, 646, 647, 648, 649, 650, 651, 652, 653, 654, 655, 656, 657, 658, 659, 660, 661, 662, 663, 664, 665, 666, 667, 668, 669, 670, 671, 672, 673, 674, 675, 676, 677, 678, 679, 680, 681, 682, 683, 684, 685, 686, 687, 688, 689, 690, 691, 692, 693, 694, 695, 696, 697, 698, 699, 700, 701, 702, 703, 704, 705, 706, 707, 708, 709, 710, 711, 712, 713, 714, 715, 716, 717, 718, 719, 720, 721, 722, 723, 724, 725, 726, 727, 728, 729, 730], \"xaxis\": \"x\", \"y\": [-34145.0, -34138.0, -34140.479999999996, -34143.860799999995, -32898.506367999995, -31646.366113279993, -30438.31146874879, -29292.779009998838, -28194.867849598882, -27132.473135614928, -26137.57421019033, -25193.471241782718, -24275.332392111406, -23425.919096426947, -22595.28233256987, -21791.871039267076, -21001.196197696394, -20279.34834978854, -19535.174415796995, -18810.567439165116, -18128.54474159851, -17463.20295193457, -18077.67483385719, -17493.5678405029, -16881.425126882783, -17552.168121807474, -16964.481396935174, -16371.502141057766, -15802.042055415455, -15260.560373198838, -14738.537958270883, -14234.396439940047, -13781.020582342444, -13331.779759048746, -12882.908568686795, -12449.192225939323, -13270.42453690175, -12866.207555425679, -12450.559253208652, -12034.736883080306, -11633.947407757094, -11237.18951144681, -10849.301930988937, -10492.32985374938, -10138.236659599404, -9833.90719321543, -9497.750905486813, -9188.64086926734, -8885.295234496647, -8610.083425116782, -8341.08008811211, -8083.636884587626, -7856.091409204121, -7608.447752835957, -8632.109842722519, -9421.225449013618, -9159.976431053074, -8887.777373810952, -8621.266278858513, -8374.015627704173, -9366.855002596007, -9107.780802492167, -8830.669570392482, -8558.442787576781, -9546.905076073712, -9287.228873030765, -8981.739718109533, -8680.270129385151, -8407.059324209746, -8154.176951241355, -7889.609873191701, -7661.025478264032, -7436.584459133471, -7220.5210807681315, -7022.500237537406, -6821.60022803591, -6630.936218914473, -6466.298770157894, -6302.446819351579, -6163.948946577516, -6027.190988714416, -5885.103349165839, -5765.299215199206, -5611.287246591238, -6723.835756727589, -6574.282326458486, -6426.111033400146, -6245.266592064139, -6090.655928381573, -5913.02969124631, -5732.508503596458, -5585.608163452599, -5436.383836914495, -6534.928483437916, -6401.731344100399, -6252.462090336383, -6098.163606722927, -5964.63706245401, -5821.45157995585, -5673.593516757616, -5527.8497760873115, -5380.135785043819, -5262.1303536420655, -5133.445139496383, -5028.707333916527, -4894.959040559866, -4796.560678937471, -4691.898251779971, -5825.422321708773, -5709.605428840421, -5590.221211686804, -5464.412363219332, -5359.035868690558, -5246.274433942936, -5131.623456585218, -5034.758518321809, -4932.968177588937, -4805.049450485379, -4701.647472465964, -4577.981573567325, -4473.662310624632, -4372.7158181996465, -4266.407185471661, -4189.350898052795, -4100.576862130683, -5290.153787645457, -5188.947636139639, -5064.989730694054, -4951.190141466292, -4846.74253580764, -4728.672834375334, -4624.92592100032, -4543.728884160308, -4446.579728793896, -4381.31653964214, -4310.263878056454, -4241.053322934195, -4153.811190016827, -4042.6587424161535, -3949.3523927195074, -3832.9782970107267, -3761.8591651302977, -3689.1847985250856, -3625.217406584082, -3568.808710320718, -3517.2563619078896, -3484.566107431574, -4679.183463134312, -4592.816124608939, -4499.503479624581, -4416.323340439598, -4319.670406822013, -5258.483590549134, -6405.144246927169, -6269.3384770500825, -6124.564937968079, -5975.582340449356, -7088.559046831382, -6918.216684958126, -8010.688017559802, -7796.460496857409, -7591.402076983113, -7383.545993903788, -7199.604154147637, -8250.419987981732, -8033.8031884624625, -7821.851060923964, -8832.777018487006, -8594.065937747526, -8314.903300237625, -8036.50716822812, -7783.0468814989945, -7534.725006239034, -7311.9360059894725, -8373.258565749895, -8149.128223119899, -7939.363094195103, -7703.988570427298, -7449.829027610206, -7222.0358665057975, -8678.754431845568, -8434.004254571744, -8200.044084388874, -7968.842321013319, -7761.688628172786, -7553.821083045875, -7374.868239724039, -7151.473510135078, -6900.414569729674, -6695.197986940488, -6498.190067462868, -6318.062464764353, -6137.139966173779, -5955.854367526827, -5798.420192825754, -5639.483385112724, -5511.304049708215, -6616.251887719887, -7712.401812211093, -7510.105739722649, -7270.701510133743, -8034.473449728394, -7817.094511739258, -7602.210731269688, -7383.5223020189, -7202.181409938144, -7000.494153540617, -6819.8743873989915, -6647.879411903032, -6484.56423542691, -6326.5816660098335, -6138.91839936944, -6003.161663394662, -7128.635196858877, -6946.889788984521, -6765.61419742514, -6576.389629528134, -6405.934044347008, -6228.296682573128, -6095.564815270203, -5948.342222659396, -5775.808533753019, -5607.776192402898, -5456.065144706782, -5302.622538918511, -5129.91763736177, -5013.920931867299, -6148.9640945926085, -6019.405530808905, -5875.229309576549, -5706.020137193487, -6781.979331705748, -6614.500158437519, -6441.520152100018, -6287.6593460160175, -6132.352972175377, -5954.058853288361, -5819.496499156827, -6923.916639190555, -6762.759973622932, -6575.649574678015, -6394.223591690894, -6225.654648023258, -6059.0284621023275, -5923.667323618234, -5747.920630673504, -5591.603805446564, -5422.739653228702, -6516.030067099555, -6371.788864415573, -6212.51730983895, -6029.016617445392, -7106.055952747576, -7927.213714637674, -7727.925166052167, -7480.60815941008, -7251.783833033676, -7038.712479712329, -8436.363980523836, -8204.309421302883, -7972.337044450767, -7739.443562672736, -7531.865820165826, -7326.591187359193, -7104.927539864825, -6879.330438270233, -6678.357220739423, -6478.022931909845, -6297.9020146334515, -6106.585934048114, -5939.722496686189, -5774.13359681874, -5591.16825294599, -5459.52152282815, -5341.140661915024, -5190.695035438423, -5095.067234020886, -4951.46454466005, -4836.405962873648, -4697.749724358702, -4601.839735384354, -5715.166145968981, -6829.359500130223, -6661.385120125014, -6491.329715320013, -6324.276526707213, -6171.705465638925, -6026.037247013367, -5901.395757132833, -5764.33992684752, -5625.766329773619, -5480.335676582675, -5360.122249519368, -6472.117359538594, -6317.632665157051, -6174.727358550768, -6011.138264208737, -5871.892733640388, -5728.417024294771, -5610.28034332298, -5481.869129590061, -5330.994364406458, -5185.5545898302, -5040.132406236991, -4910.7271099875115, -4778.298025588011, -4643.36610456449, -4528.631460381911, -4412.086201966635, -4306.202753887969, -4213.35464373245, -4132.620457983152, -4034.9156396638255, -3967.9190140772725, -3905.2022535141814, -3850.994163373614, -3807.3543968386693, -3754.6602209651223, -3715.2738121265174, -3641.0628596414567, -4795.820345255799, -4708.787531445567, -4617.236030187744, -5789.3465889802355, -5663.972725421026, -5533.413816404184, -5404.277263748017, -5290.706173198096, -5136.877926270172, -5014.002809219365, -6144.842696850592, -6005.848988976568, -5859.815029417505, -5712.422428240804, -5575.725531111172, -5452.896509866725, -5339.580649472056, -5223.997423493174, -5111.837526553447, -4974.964025491309, -6074.365464471658, -5947.590845892792, -5773.087212057079, -5578.363723574796, -5431.829174631804, -5282.956007646531, -5160.837767340669, -5047.004256647043, -4913.124086381161, -4800.999122925914, -4690.559158008878, -4559.136791688522, -4472.371320020981, -4374.476467220142, -4306.897408531337, -4238.221512190084, -5121.292651702481, -5020.640945634381, -4907.415307809006, -4795.318695496645, -4671.705947676779, -4518.8377097697075, -4409.284201378919, -4298.312833323761, -4186.5803199908105, -4066.9171071911783, -3964.640422903531, -3882.25480598739, -3793.964613747894, -3728.2060291979783, -3672.277788030059, -3622.5866765088567, -3569.283209448502, -4772.111881070563, -4686.22740582774, -4609.17830959463, -4489.011177210845, -4407.850730122411, -4321.136700917515, -4261.0912328808145, -4186.647583565582, -5347.381680222959, -5254.086413014041, -5118.122956493478, -4998.198038233739, -4896.670116704388, -4797.003312036212, -4710.123179554764, -4621.518252372573, -6153.857522277672, -6007.103221386566, -5852.019092531103, -5677.738328829859, -5549.228795676665, -5421.059643849599, -5305.817258095615, -5167.7845677717905, -6293.87318506092, -6147.318257658483, -5999.225527352144, -5846.256506258058, -5715.206246007736, -5588.197996167427, -5439.07007632073, -5287.1072732679, -5146.022982337184, -5017.182063043696, -4862.694780521948, -5974.586989301071, -5839.603509729028, -5702.219369339867, -5565.530594566271, -5411.10937078362, -5298.464995952275, -5195.726396114183, -5040.697340269616, -4927.469446658831, -4812.170668792478, -4691.283842040779, -4592.632488359148, -4474.127188824782, -4398.762101271791, -4318.41161722092, -4233.875152532082, -4175.520146430799, -4100.299340573567, -5301.087366950625, -5206.643872272601, -5075.978117381696, -4959.538992686429, -4863.157432978972, -4761.631135659813, -4674.96589023342, -4569.567254624084, -4448.78456443912, -4350.233181861555, -4247.823854587093, -4169.310900403609, -4086.938464387464, -4022.2609258119655, -3935.570488779487, -3871.747669228307, -3780.4777624591748, -3662.8586519608075, -3587.144305882375, -3512.25853364708, -3410.168192301197, -3352.961464609149, -3300.643006024783, -3231.0172857837915, -3191.97659435244, -3141.297530578342, -3116.0456293552083, -3091.603804181, -3045.53965201376, -3023.3180659332097, -2994.1853432958815, -2979.2179295640462, -4188.049212381486, -4125.7272438862265, -4058.0981541307774, -3994.7742279655463, -3937.5832588469243, -3850.679928493047, -3802.252731353325, -3754.3626220991923, -3704.5881172152244, -3627.8045925266156, -3556.092408825551, -3484.4487124725288, -3406.8707639736276, -4580.995933414683, -4507.156096078095, -4424.669852234972, -4345.683058145572, -4283.65573581975, -4216.30950638696, -4152.857126131481, -4083.542841086222, -3999.8011274427727, -3939.4090823450615, -3886.432719051259, -3836.5754102892083, -3756.51239387764, -3693.6518981225345, -3647.905822197633, -3594.1895893097276, -3555.6220057373384, -3510.397125507845, -3465.7812404875312, -3388.54999086803, -3301.0079912333085, -3275.967671583976, -3212.528964720617, -3145.8278061317924, -3098.9946938865205, -3048.0349061310594, -3022.7135098858166, -2993.804969490384, -2951.0527707107685, -2935.6106598823376, -2913.986233487044, -2889.026784147562, -2880.2657127816597, -2855.4550842703934, -2844.436880899578, -2826.4594056635947, -2780.6010294370512, -2774.3769882595693, -2761.2019087291865, -2716.753832380019, -2712.4836790848185, -2701.7843319214257, -2679.7129586445685, -2674.5244402987855, -2660.143462686834, -2658.937724179361, -2658.9802152121865, -2640.821006603699, -2636.188166339551, -2612.5406396859694, -3870.2390140985317, -3826.8294535345904, -3770.7562753932066, -3706.9260243774784, -3672.0489834023792, -3593.567024066284, -3522.4243431036325, -3449.327369379487, -3383.154274604308, -3337.628103620136, -3234.1229794753303, -3187.5580602963173, -4132.655737884465, -4050.9495083690867, -3957.311528034323, -3879.61906691295, -3820.434304236432, -3722.0169320669747, -3661.7362547842954, -3595.8668045929235, -3513.6321324092064, -3454.886847112838, -3366.0913732283243, -3311.4477182991914, -3251.389809567224, -4465.734217184536, -5635.904848497155, -5491.668654557268, -5341.201908374977, -5191.553832039978, -5058.891678758379, -4960.536011608044, -4843.314571143722, -4721.381988297973, -4593.726708766054, -4484.377640415411, -4357.602534798795, -4275.498433406843, -4173.278496070569, -4056.5473562277466, -3963.685461978637, -3860.9380434994914, -3774.900521759512, -3685.504500889131, -3570.6843208535656, -3497.056948019423, -3417.374670098646, -3364.8796832947005, -3303.8844959629123, -3239.1291161243958, -3185.36395147942, -3115.149393420243, -3071.7434176834336, -3021.0736809760965, -2958.6307337370527, -2915.085504387571, -2853.682084212068, -2811.334800843585, -2740.8814088098416, -2711.8461524574477, -2703.57230635915, -2629.029414104784, -2596.6682375405926, -2558.601508038969, -2517.05744771741, -2497.3751498087136, -2472.280143816365, -2481.3889380637106, -2444.3333805411626, -2396.560045319516, -3636.2976435067367, -3571.2457377664673, -3515.595908255809, -3442.5720719255764, -3384.8691890485534, -3299.874421486611, -3247.479444627146, -3190.58026684206, -3104.5570561683776, -3059.9747739216423, -4260.775782964778, -4173.944751646187, -4077.586961580339, -3958.8834831171253, -3878.7281437924403, -3786.3790180407427, -3712.323857319113, -3631.0309030263484, -3602.1896669052944, -3529.302080229083, -3448.52999701992, -4376.588797139124, -4283.525245253559, -5856.584235443418, -5704.720866025681, -5551.132031384654, -5392.4867501292665, -5254.187280124095, -5109.019788919131, -6263.458997362367, -6094.120637467872, -5923.755811969157, -5750.6055794903905, -5598.981356310775, -5443.622102058343, -5307.47721797601, -5168.97812925697, -5026.019004086691, -4903.778243923223, -4785.627114166294, -4675.002029599642, -4560.201948415656, -4440.59387047903, -4347.170115659868, -4239.883311033474, -4151.8879785921345, -4064.812459448449, -5222.419961070512, -5097.723162627691, -4963.614236122583, -4830.269666677679, -4721.658880010572, -4601.992524810149, -4533.512823817743, -4426.372310865033, -4339.917418430432, -4260.520721693214, -4148.699892825485, -4063.9518971124658, -5223.793821227968, -5095.242068378849, -4964.832385643695, -4839.839090217947, -4724.245526609229, -4611.8757055448605, -4508.600677323066, -4401.656650230142, -5550.990384220938, -5395.7507688521, -5254.320738098016, -5104.547908574094, -4979.965992231131, -4847.967352541886, -4735.84865844021, -4608.414712102602, -4482.278123618497, -5650.586998673759, -5506.163518726808, -5360.916977977736, -5229.680298858626, -5125.693086904281, -4977.065363428109, -4849.5827488909845, -4746.199438935345, -4609.351461377931, -5756.377402922814, -6605.122306805903, -6433.117414533666, -6234.792717952319, -6042.601009234227, -5865.496968864858, -5694.477090110264, -5532.098006505853, -5375.8140862456185, -5216.581522795794, -5078.7182618839615, -4937.769531408603, -4821.658750152258, -4702.392400146168, -5603.296704140323, -5480.56483597471, -5336.342242535721, -5163.488552834293, -5033.749010720921, -4907.199050292084, -4791.711088280401, -5948.242644749185, -5792.712938959217, -5635.604421400849, -5474.380244544815, -5333.8050347630215, -5189.8528333725, -5064.258720037599, -4944.088371236095, -4809.3248363866505, -4729.551842931185, -4608.169769213938, -4505.84297844538, -4406.209259307565, -4303.5608889352625, -4209.418453377852, -4110.841715242737, -4028.008046633028, -3943.0877247677067, -3858.964215776998, -3783.005647145918, -3710.8854212600813, -3644.050004409678, -3574.488004233291, -3530.3084840639594, -3459.2961447014013, -3373.924298913345, -3305.367326956811, -3244.352633878539, -3176.1785285233973, -3113.731387382461, -3046.9821318871627, -3002.102846611676, -2948.0187327472086, -2887.8979834373204], \"yaxis\": \"y\"}],                        {\"legend\": {\"title\": {\"text\": \"variable\"}, \"tracegroupgap\": 0}, \"template\": {\"data\": {\"bar\": [{\"error_x\": {\"color\": \"#2a3f5f\"}, \"error_y\": {\"color\": \"#2a3f5f\"}, \"marker\": {\"line\": {\"color\": \"#E5ECF6\", \"width\": 0.5}}, \"type\": \"bar\"}], \"barpolar\": [{\"marker\": {\"line\": {\"color\": \"#E5ECF6\", \"width\": 0.5}}, \"type\": \"barpolar\"}], \"carpet\": [{\"aaxis\": {\"endlinecolor\": \"#2a3f5f\", \"gridcolor\": \"white\", \"linecolor\": \"white\", \"minorgridcolor\": \"white\", \"startlinecolor\": \"#2a3f5f\"}, \"baxis\": {\"endlinecolor\": \"#2a3f5f\", \"gridcolor\": \"white\", \"linecolor\": \"white\", \"minorgridcolor\": \"white\", \"startlinecolor\": \"#2a3f5f\"}, \"type\": \"carpet\"}], \"choropleth\": [{\"colorbar\": {\"outlinewidth\": 0, \"ticks\": \"\"}, \"type\": \"choropleth\"}], \"contour\": [{\"colorbar\": {\"outlinewidth\": 0, \"ticks\": \"\"}, \"colorscale\": [[0.0, \"#0d0887\"], [0.1111111111111111, \"#46039f\"], [0.2222222222222222, \"#7201a8\"], [0.3333333333333333, \"#9c179e\"], [0.4444444444444444, \"#bd3786\"], [0.5555555555555556, \"#d8576b\"], [0.6666666666666666, \"#ed7953\"], [0.7777777777777778, \"#fb9f3a\"], [0.8888888888888888, \"#fdca26\"], [1.0, \"#f0f921\"]], \"type\": \"contour\"}], \"contourcarpet\": [{\"colorbar\": {\"outlinewidth\": 0, \"ticks\": \"\"}, \"type\": \"contourcarpet\"}], \"heatmap\": [{\"colorbar\": {\"outlinewidth\": 0, \"ticks\": \"\"}, \"colorscale\": [[0.0, \"#0d0887\"], [0.1111111111111111, \"#46039f\"], [0.2222222222222222, \"#7201a8\"], [0.3333333333333333, \"#9c179e\"], [0.4444444444444444, \"#bd3786\"], [0.5555555555555556, \"#d8576b\"], [0.6666666666666666, \"#ed7953\"], [0.7777777777777778, \"#fb9f3a\"], [0.8888888888888888, \"#fdca26\"], [1.0, \"#f0f921\"]], \"type\": \"heatmap\"}], \"heatmapgl\": [{\"colorbar\": {\"outlinewidth\": 0, \"ticks\": \"\"}, \"colorscale\": [[0.0, \"#0d0887\"], [0.1111111111111111, \"#46039f\"], [0.2222222222222222, \"#7201a8\"], [0.3333333333333333, \"#9c179e\"], [0.4444444444444444, \"#bd3786\"], [0.5555555555555556, \"#d8576b\"], [0.6666666666666666, \"#ed7953\"], [0.7777777777777778, \"#fb9f3a\"], [0.8888888888888888, \"#fdca26\"], [1.0, \"#f0f921\"]], \"type\": \"heatmapgl\"}], \"histogram\": [{\"marker\": {\"colorbar\": {\"outlinewidth\": 0, \"ticks\": \"\"}}, \"type\": \"histogram\"}], \"histogram2d\": [{\"colorbar\": {\"outlinewidth\": 0, \"ticks\": \"\"}, \"colorscale\": [[0.0, \"#0d0887\"], [0.1111111111111111, \"#46039f\"], [0.2222222222222222, \"#7201a8\"], [0.3333333333333333, \"#9c179e\"], [0.4444444444444444, \"#bd3786\"], [0.5555555555555556, \"#d8576b\"], [0.6666666666666666, \"#ed7953\"], [0.7777777777777778, \"#fb9f3a\"], [0.8888888888888888, \"#fdca26\"], [1.0, \"#f0f921\"]], \"type\": \"histogram2d\"}], \"histogram2dcontour\": [{\"colorbar\": {\"outlinewidth\": 0, \"ticks\": \"\"}, \"colorscale\": [[0.0, \"#0d0887\"], [0.1111111111111111, \"#46039f\"], [0.2222222222222222, \"#7201a8\"], [0.3333333333333333, \"#9c179e\"], [0.4444444444444444, \"#bd3786\"], [0.5555555555555556, \"#d8576b\"], [0.6666666666666666, \"#ed7953\"], [0.7777777777777778, \"#fb9f3a\"], [0.8888888888888888, \"#fdca26\"], [1.0, \"#f0f921\"]], \"type\": \"histogram2dcontour\"}], \"mesh3d\": [{\"colorbar\": {\"outlinewidth\": 0, \"ticks\": \"\"}, \"type\": \"mesh3d\"}], \"parcoords\": [{\"line\": {\"colorbar\": {\"outlinewidth\": 0, \"ticks\": \"\"}}, \"type\": \"parcoords\"}], \"pie\": [{\"automargin\": true, \"type\": \"pie\"}], \"scatter\": [{\"marker\": {\"colorbar\": {\"outlinewidth\": 0, \"ticks\": \"\"}}, \"type\": \"scatter\"}], \"scatter3d\": [{\"line\": {\"colorbar\": {\"outlinewidth\": 0, \"ticks\": \"\"}}, \"marker\": {\"colorbar\": {\"outlinewidth\": 0, \"ticks\": \"\"}}, \"type\": \"scatter3d\"}], \"scattercarpet\": [{\"marker\": {\"colorbar\": {\"outlinewidth\": 0, \"ticks\": \"\"}}, \"type\": \"scattercarpet\"}], \"scattergeo\": [{\"marker\": {\"colorbar\": {\"outlinewidth\": 0, \"ticks\": \"\"}}, \"type\": \"scattergeo\"}], \"scattergl\": [{\"marker\": {\"colorbar\": {\"outlinewidth\": 0, \"ticks\": \"\"}}, \"type\": \"scattergl\"}], \"scattermapbox\": [{\"marker\": {\"colorbar\": {\"outlinewidth\": 0, \"ticks\": \"\"}}, \"type\": \"scattermapbox\"}], \"scatterpolar\": [{\"marker\": {\"colorbar\": {\"outlinewidth\": 0, \"ticks\": \"\"}}, \"type\": \"scatterpolar\"}], \"scatterpolargl\": [{\"marker\": {\"colorbar\": {\"outlinewidth\": 0, \"ticks\": \"\"}}, \"type\": \"scatterpolargl\"}], \"scatterternary\": [{\"marker\": {\"colorbar\": {\"outlinewidth\": 0, \"ticks\": \"\"}}, \"type\": \"scatterternary\"}], \"surface\": [{\"colorbar\": {\"outlinewidth\": 0, \"ticks\": \"\"}, \"colorscale\": [[0.0, \"#0d0887\"], [0.1111111111111111, \"#46039f\"], [0.2222222222222222, \"#7201a8\"], [0.3333333333333333, \"#9c179e\"], [0.4444444444444444, \"#bd3786\"], [0.5555555555555556, \"#d8576b\"], [0.6666666666666666, \"#ed7953\"], [0.7777777777777778, \"#fb9f3a\"], [0.8888888888888888, \"#fdca26\"], [1.0, \"#f0f921\"]], \"type\": \"surface\"}], \"table\": [{\"cells\": {\"fill\": {\"color\": \"#EBF0F8\"}, \"line\": {\"color\": \"white\"}}, \"header\": {\"fill\": {\"color\": \"#C8D4E3\"}, \"line\": {\"color\": \"white\"}}, \"type\": \"table\"}]}, \"layout\": {\"annotationdefaults\": {\"arrowcolor\": \"#2a3f5f\", \"arrowhead\": 0, \"arrowwidth\": 1}, \"coloraxis\": {\"colorbar\": {\"outlinewidth\": 0, \"ticks\": \"\"}}, \"colorscale\": {\"diverging\": [[0, \"#8e0152\"], [0.1, \"#c51b7d\"], [0.2, \"#de77ae\"], [0.3, \"#f1b6da\"], [0.4, \"#fde0ef\"], [0.5, \"#f7f7f7\"], [0.6, \"#e6f5d0\"], [0.7, \"#b8e186\"], [0.8, \"#7fbc41\"], [0.9, \"#4d9221\"], [1, \"#276419\"]], \"sequential\": [[0.0, \"#0d0887\"], [0.1111111111111111, \"#46039f\"], [0.2222222222222222, \"#7201a8\"], [0.3333333333333333, \"#9c179e\"], [0.4444444444444444, \"#bd3786\"], [0.5555555555555556, \"#d8576b\"], [0.6666666666666666, \"#ed7953\"], [0.7777777777777778, \"#fb9f3a\"], [0.8888888888888888, \"#fdca26\"], [1.0, \"#f0f921\"]], \"sequentialminus\": [[0.0, \"#0d0887\"], [0.1111111111111111, \"#46039f\"], [0.2222222222222222, \"#7201a8\"], [0.3333333333333333, \"#9c179e\"], [0.4444444444444444, \"#bd3786\"], [0.5555555555555556, \"#d8576b\"], [0.6666666666666666, \"#ed7953\"], [0.7777777777777778, \"#fb9f3a\"], [0.8888888888888888, \"#fdca26\"], [1.0, \"#f0f921\"]]}, \"colorway\": [\"#636efa\", \"#EF553B\", \"#00cc96\", \"#ab63fa\", \"#FFA15A\", \"#19d3f3\", \"#FF6692\", \"#B6E880\", \"#FF97FF\", \"#FECB52\"], \"font\": {\"color\": \"#2a3f5f\"}, \"geo\": {\"bgcolor\": \"white\", \"lakecolor\": \"white\", \"landcolor\": \"#E5ECF6\", \"showlakes\": true, \"showland\": true, \"subunitcolor\": \"white\"}, \"hoverlabel\": {\"align\": \"left\"}, \"hovermode\": \"closest\", \"mapbox\": {\"style\": \"light\"}, \"paper_bgcolor\": \"white\", \"plot_bgcolor\": \"#E5ECF6\", \"polar\": {\"angularaxis\": {\"gridcolor\": \"white\", \"linecolor\": \"white\", \"ticks\": \"\"}, \"bgcolor\": \"#E5ECF6\", \"radialaxis\": {\"gridcolor\": \"white\", \"linecolor\": \"white\", \"ticks\": \"\"}}, \"scene\": {\"xaxis\": {\"backgroundcolor\": \"#E5ECF6\", \"gridcolor\": \"white\", \"gridwidth\": 2, \"linecolor\": \"white\", \"showbackground\": true, \"ticks\": \"\", \"zerolinecolor\": \"white\"}, \"yaxis\": {\"backgroundcolor\": \"#E5ECF6\", \"gridcolor\": \"white\", \"gridwidth\": 2, \"linecolor\": \"white\", \"showbackground\": true, \"ticks\": \"\", \"zerolinecolor\": \"white\"}, \"zaxis\": {\"backgroundcolor\": \"#E5ECF6\", \"gridcolor\": \"white\", \"gridwidth\": 2, \"linecolor\": \"white\", \"showbackground\": true, \"ticks\": \"\", \"zerolinecolor\": \"white\"}}, \"shapedefaults\": {\"line\": {\"color\": \"#2a3f5f\"}}, \"ternary\": {\"aaxis\": {\"gridcolor\": \"white\", \"linecolor\": \"white\", \"ticks\": \"\"}, \"baxis\": {\"gridcolor\": \"white\", \"linecolor\": \"white\", \"ticks\": \"\"}, \"bgcolor\": \"#E5ECF6\", \"caxis\": {\"gridcolor\": \"white\", \"linecolor\": \"white\", \"ticks\": \"\"}}, \"title\": {\"x\": 0.05}, \"xaxis\": {\"automargin\": true, \"gridcolor\": \"white\", \"linecolor\": \"white\", \"ticks\": \"\", \"title\": {\"standoff\": 15}, \"zerolinecolor\": \"white\", \"zerolinewidth\": 2}, \"yaxis\": {\"automargin\": true, \"gridcolor\": \"white\", \"linecolor\": \"white\", \"ticks\": \"\", \"title\": {\"standoff\": 15}, \"zerolinecolor\": \"white\", \"zerolinewidth\": 2}}}, \"title\": {\"text\": \"Reward\"}, \"xaxis\": {\"anchor\": \"y\", \"domain\": [0.0, 1.0], \"title\": {\"text\": \"x\"}}, \"yaxis\": {\"anchor\": \"x\", \"domain\": [0.0, 1.0], \"title\": {\"text\": \"value\"}}},                        {\"responsive\": true}                    ).then(function(){\n",
       "                            \n",
       "var gd = document.getElementById('02fe384b-23d7-4b73-baba-00ec2b9af005');\n",
       "var x = new MutationObserver(function (mutations, observer) {{\n",
       "        var display = window.getComputedStyle(gd).display;\n",
       "        if (!display || display === 'none') {{\n",
       "            console.log([gd, 'removed!']);\n",
       "            Plotly.purge(gd);\n",
       "            observer.disconnect();\n",
       "        }}\n",
       "}});\n",
       "\n",
       "// Listen for the removal of the full notebook cells\n",
       "var notebookContainer = gd.closest('#notebook-container');\n",
       "if (notebookContainer) {{\n",
       "    x.observe(notebookContainer, {childList: true});\n",
       "}}\n",
       "\n",
       "// Listen for the clearing of the current output cell\n",
       "var outputEl = gd.closest('.output');\n",
       "if (outputEl) {{\n",
       "    x.observe(outputEl, {childList: true});\n",
       "}}\n",
       "\n",
       "                        })                };                });            </script>        </div>"
      ]
     },
     "metadata": {},
     "output_type": "display_data"
    }
   ],
   "source": [
    "# plot a figure with the reward over time\n",
    "smooth_fit = smooth(training_data, 0.96)\n",
    "fig = px.line(x=[i for i in range(len(fitness))], y=[training_data, smooth_fit], title='Reward')\n",
    "fig.show()"
   ]
  },
  {
   "cell_type": "code",
   "execution_count": 19,
   "metadata": {},
   "outputs": [
    {
     "data": {
      "image/png": "[encoded data removed]",
      "text/plain": [
       "<Figure size 1080x360 with 1 Axes>"
      ]
     },
     "metadata": {},
     "output_type": "display_data"
    }
   ],
   "source": [
    "matplot_data(training_data, fitness, smoothing=0.96)"
   ]
  },
  {
   "cell_type": "code",
   "execution_count": 22,
   "metadata": {},
   "outputs": [
    {
     "name": "stdout",
     "output_type": "stream",
     "text": [
      "Ep:   734, steps: 344, R: -10.000\r",
      "Terminate on empty queue demand\r",
      "Terminate on empty queue demand\r",
      "Terminate on empty queue demand\r",
      "Terminate on empty queue demand\r"
     ]
    }
   ],
   "source": [
    "# To record info about this session\n",
    "env.reset()\n",
    "info = []\n",
    "for item in order_list:\n",
    "    _, _,_, inf = env.step(item)\n",
    "    info.append(inf)\n",
    "while not env.terminate:\n",
    "    _, _,_, inf = env.step(0)\n",
    "    info.append(inf)"
   ]
  },
  {
   "cell_type": "code",
   "execution_count": 23,
   "metadata": {},
   "outputs": [
    {
     "data": {
      "text/plain": [
       "{'items_processed': 18, 'cycle count': 15}"
      ]
     },
     "execution_count": 23,
     "metadata": {},
     "output_type": "execute_result"
    }
   ],
   "source": [
    "info[-1]"
   ]
  },
  {
   "cell_type": "code",
   "execution_count": 14,
   "metadata": {},
   "outputs": [
    {
     "data": {
      "text/plain": [
       "0.8333333333333334"
      ]
     },
     "execution_count": 14,
     "metadata": {},
     "output_type": "execute_result"
    }
   ],
   "source": [
    "15/18"
   ]
  },
  {
   "cell_type": "code",
   "execution_count": 79,
   "metadata": {},
   "outputs": [
    {
     "name": "stdout",
     "output_type": "stream",
     "text": [
      "Ep:   631, steps: 1004, R: -5.000\r"
     ]
    },
    {
     "ename": "KeyboardInterrupt",
     "evalue": "",
     "output_type": "error",
     "traceback": [
      "\u001b[1;31m---------------------------------------------------------------------------\u001b[0m",
      "\u001b[1;31mOSError\u001b[0m                                   Traceback (most recent call last)",
      "\u001b[1;32md:\\drive\\git\\rl\\venv\\th\\lib\\site-packages\\PIL\\ImageFont.py\u001b[0m in \u001b[0;36mtruetype\u001b[1;34m(font, size, index, encoding, layout_engine)\u001b[0m\n\u001b[0;32m    654\u001b[0m     \u001b[1;32mtry\u001b[0m\u001b[1;33m:\u001b[0m\u001b[1;33m\u001b[0m\u001b[1;33m\u001b[0m\u001b[0m\n\u001b[1;32m--> 655\u001b[1;33m         \u001b[1;32mreturn\u001b[0m \u001b[0mfreetype\u001b[0m\u001b[1;33m(\u001b[0m\u001b[0mfont\u001b[0m\u001b[1;33m)\u001b[0m\u001b[1;33m\u001b[0m\u001b[1;33m\u001b[0m\u001b[0m\n\u001b[0m\u001b[0;32m    656\u001b[0m     \u001b[1;32mexcept\u001b[0m \u001b[0mOSError\u001b[0m\u001b[1;33m:\u001b[0m\u001b[1;33m\u001b[0m\u001b[1;33m\u001b[0m\u001b[0m\n",
      "\u001b[1;32md:\\drive\\git\\rl\\venv\\th\\lib\\site-packages\\PIL\\ImageFont.py\u001b[0m in \u001b[0;36mfreetype\u001b[1;34m(font)\u001b[0m\n\u001b[0;32m    651\u001b[0m     \u001b[1;32mdef\u001b[0m \u001b[0mfreetype\u001b[0m\u001b[1;33m(\u001b[0m\u001b[0mfont\u001b[0m\u001b[1;33m)\u001b[0m\u001b[1;33m:\u001b[0m\u001b[1;33m\u001b[0m\u001b[1;33m\u001b[0m\u001b[0m\n\u001b[1;32m--> 652\u001b[1;33m         \u001b[1;32mreturn\u001b[0m \u001b[0mFreeTypeFont\u001b[0m\u001b[1;33m(\u001b[0m\u001b[0mfont\u001b[0m\u001b[1;33m,\u001b[0m \u001b[0msize\u001b[0m\u001b[1;33m,\u001b[0m \u001b[0mindex\u001b[0m\u001b[1;33m,\u001b[0m \u001b[0mencoding\u001b[0m\u001b[1;33m,\u001b[0m \u001b[0mlayout_engine\u001b[0m\u001b[1;33m)\u001b[0m\u001b[1;33m\u001b[0m\u001b[1;33m\u001b[0m\u001b[0m\n\u001b[0m\u001b[0;32m    653\u001b[0m \u001b[1;33m\u001b[0m\u001b[0m\n",
      "\u001b[1;32md:\\drive\\git\\rl\\venv\\th\\lib\\site-packages\\PIL\\ImageFont.py\u001b[0m in \u001b[0;36m__init__\u001b[1;34m(self, font, size, index, encoding, layout_engine)\u001b[0m\n\u001b[0;32m    193\u001b[0m             self.font = core.getfont(\n\u001b[1;32m--> 194\u001b[1;33m                 \u001b[0mfont\u001b[0m\u001b[1;33m,\u001b[0m \u001b[0msize\u001b[0m\u001b[1;33m,\u001b[0m \u001b[0mindex\u001b[0m\u001b[1;33m,\u001b[0m \u001b[0mencoding\u001b[0m\u001b[1;33m,\u001b[0m \u001b[0mlayout_engine\u001b[0m\u001b[1;33m=\u001b[0m\u001b[0mlayout_engine\u001b[0m\u001b[1;33m\u001b[0m\u001b[1;33m\u001b[0m\u001b[0m\n\u001b[0m\u001b[0;32m    195\u001b[0m             )\n",
      "\u001b[1;31mOSError\u001b[0m: cannot open resource",
      "\nDuring handling of the above exception, another exception occurred:\n",
      "\u001b[1;31mKeyboardInterrupt\u001b[0m                         Traceback (most recent call last)",
      "\u001b[1;32m<ipython-input-79-52018f574fa9>\u001b[0m in \u001b[0;36m<module>\u001b[1;34m\u001b[0m\n\u001b[0;32m      6\u001b[0m \u001b[1;32mwhile\u001b[0m \u001b[0menv\u001b[0m\u001b[1;33m.\u001b[0m\u001b[0mterminate\u001b[0m\u001b[1;33m:\u001b[0m\u001b[1;33m\u001b[0m\u001b[1;33m\u001b[0m\u001b[0m\n\u001b[0;32m      7\u001b[0m     \u001b[0menv\u001b[0m\u001b[1;33m.\u001b[0m\u001b[0mstep\u001b[0m\u001b[1;33m(\u001b[0m\u001b[1;36m0\u001b[0m\u001b[1;33m)\u001b[0m\u001b[1;33m\u001b[0m\u001b[1;33m\u001b[0m\u001b[0m\n\u001b[1;32m----> 8\u001b[1;33m     \u001b[0menv\u001b[0m\u001b[1;33m.\u001b[0m\u001b[0mrender\u001b[0m\u001b[1;33m(\u001b[0m\u001b[1;33m)\u001b[0m\u001b[1;33m\u001b[0m\u001b[1;33m\u001b[0m\u001b[0m\n\u001b[0m",
      "\u001b[1;32mD:\\Drive\\git\\RL\\rl\\environments\\NewConveyor1GA.py\u001b[0m in \u001b[0;36mrender\u001b[1;34m(self, mode)\u001b[0m\n\u001b[0;32m    837\u001b[0m             \u001b[0mdraw\u001b[0m\u001b[1;33m.\u001b[0m\u001b[0mellipse\u001b[0m\u001b[1;33m(\u001b[0m\u001b[1;33m[\u001b[0m\u001b[0mx4\u001b[0m\u001b[1;33m,\u001b[0m \u001b[0my4\u001b[0m\u001b[1;33m,\u001b[0m \u001b[0mx5\u001b[0m\u001b[1;33m,\u001b[0m \u001b[0my5\u001b[0m\u001b[1;33m]\u001b[0m\u001b[1;33m,\u001b[0m \u001b[0mfill\u001b[0m\u001b[1;33m=\u001b[0m\u001b[0mcolor2\u001b[0m\u001b[1;33m,\u001b[0m \u001b[0moutline\u001b[0m\u001b[1;33m=\u001b[0m\u001b[1;32mNone\u001b[0m\u001b[1;33m)\u001b[0m\u001b[1;33m\u001b[0m\u001b[1;33m\u001b[0m\u001b[0m\n\u001b[0;32m    838\u001b[0m \u001b[1;33m\u001b[0m\u001b[0m\n\u001b[1;32m--> 839\u001b[1;33m             \u001b[1;31m# init queues on top\u001b[0m\u001b[1;33m\u001b[0m\u001b[1;33m\u001b[0m\u001b[1;33m\u001b[0m\u001b[0m\n\u001b[0m\u001b[0;32m    840\u001b[0m             \u001b[0mx6\u001b[0m\u001b[1;33m,\u001b[0m \u001b[0my6\u001b[0m \u001b[1;33m=\u001b[0m \u001b[0mitem\u001b[0m\u001b[1;33m[\u001b[0m\u001b[1;36m0\u001b[0m\u001b[1;33m]\u001b[0m \u001b[1;33m*\u001b[0m \u001b[0mresize_factor\u001b[0m \u001b[1;33m-\u001b[0m \u001b[1;36m30\u001b[0m\u001b[1;33m,\u001b[0m \u001b[0mitem\u001b[0m\u001b[1;33m[\u001b[0m\u001b[1;36m1\u001b[0m\u001b[1;33m]\u001b[0m \u001b[1;33m*\u001b[0m \u001b[0mresize_factor\u001b[0m \u001b[1;33m-\u001b[0m \u001b[1;36m30\u001b[0m\u001b[1;33m\u001b[0m\u001b[1;33m\u001b[0m\u001b[0m\n\u001b[0;32m    841\u001b[0m             draw.text((x6 + 10, y6 + 5), '{}'.format(self.init_queues[self.diverter_locations.index(item)][:5]),\n",
      "\u001b[1;32md:\\drive\\git\\rl\\venv\\th\\lib\\site-packages\\PIL\\ImageFont.py\u001b[0m in \u001b[0;36mtruetype\u001b[1;34m(font, size, index, encoding, layout_engine)\u001b[0m\n\u001b[0;32m    684\u001b[0m         \u001b[0mfirst_font_with_a_different_extension\u001b[0m \u001b[1;33m=\u001b[0m \u001b[1;32mNone\u001b[0m\u001b[1;33m\u001b[0m\u001b[1;33m\u001b[0m\u001b[0m\n\u001b[0;32m    685\u001b[0m         \u001b[1;32mfor\u001b[0m \u001b[0mdirectory\u001b[0m \u001b[1;32min\u001b[0m \u001b[0mdirs\u001b[0m\u001b[1;33m:\u001b[0m\u001b[1;33m\u001b[0m\u001b[1;33m\u001b[0m\u001b[0m\n\u001b[1;32m--> 686\u001b[1;33m             \u001b[1;32mfor\u001b[0m \u001b[0mwalkroot\u001b[0m\u001b[1;33m,\u001b[0m \u001b[0mwalkdir\u001b[0m\u001b[1;33m,\u001b[0m \u001b[0mwalkfilenames\u001b[0m \u001b[1;32min\u001b[0m \u001b[0mos\u001b[0m\u001b[1;33m.\u001b[0m\u001b[0mwalk\u001b[0m\u001b[1;33m(\u001b[0m\u001b[0mdirectory\u001b[0m\u001b[1;33m)\u001b[0m\u001b[1;33m:\u001b[0m\u001b[1;33m\u001b[0m\u001b[1;33m\u001b[0m\u001b[0m\n\u001b[0m\u001b[0;32m    687\u001b[0m                 \u001b[1;32mfor\u001b[0m \u001b[0mwalkfilename\u001b[0m \u001b[1;32min\u001b[0m \u001b[0mwalkfilenames\u001b[0m\u001b[1;33m:\u001b[0m\u001b[1;33m\u001b[0m\u001b[1;33m\u001b[0m\u001b[0m\n\u001b[0;32m    688\u001b[0m                     \u001b[1;32mif\u001b[0m \u001b[0mext\u001b[0m \u001b[1;32mand\u001b[0m \u001b[0mwalkfilename\u001b[0m \u001b[1;33m==\u001b[0m \u001b[0mttf_filename\u001b[0m\u001b[1;33m:\u001b[0m\u001b[1;33m\u001b[0m\u001b[1;33m\u001b[0m\u001b[0m\n",
      "\u001b[1;32m~\\AppData\\Local\\Programs\\Python\\Python36\\lib\\os.py\u001b[0m in \u001b[0;36mwalk\u001b[1;34m(top, topdown, onerror, followlinks)\u001b[0m\n\u001b[0;32m    346\u001b[0m         \u001b[1;31m# Note that scandir is global in this module due\u001b[0m\u001b[1;33m\u001b[0m\u001b[1;33m\u001b[0m\u001b[1;33m\u001b[0m\u001b[0m\n\u001b[0;32m    347\u001b[0m         \u001b[1;31m# to earlier import-*.\u001b[0m\u001b[1;33m\u001b[0m\u001b[1;33m\u001b[0m\u001b[1;33m\u001b[0m\u001b[0m\n\u001b[1;32m--> 348\u001b[1;33m         \u001b[0mscandir_it\u001b[0m \u001b[1;33m=\u001b[0m \u001b[0mscandir\u001b[0m\u001b[1;33m(\u001b[0m\u001b[0mtop\u001b[0m\u001b[1;33m)\u001b[0m\u001b[1;33m\u001b[0m\u001b[1;33m\u001b[0m\u001b[0m\n\u001b[0m\u001b[0;32m    349\u001b[0m     \u001b[1;32mexcept\u001b[0m \u001b[0mOSError\u001b[0m \u001b[1;32mas\u001b[0m \u001b[0merror\u001b[0m\u001b[1;33m:\u001b[0m\u001b[1;33m\u001b[0m\u001b[1;33m\u001b[0m\u001b[0m\n\u001b[0;32m    350\u001b[0m         \u001b[1;32mif\u001b[0m \u001b[0monerror\u001b[0m \u001b[1;32mis\u001b[0m \u001b[1;32mnot\u001b[0m \u001b[1;32mNone\u001b[0m\u001b[1;33m:\u001b[0m\u001b[1;33m\u001b[0m\u001b[1;33m\u001b[0m\u001b[0m\n",
      "\u001b[1;31mKeyboardInterrupt\u001b[0m: "
     ]
    }
   ],
   "source": [
    "# and show the best one\n",
    "env.reset()\n",
    "for item in order_list:\n",
    "    env.step(item)\n",
    "    env.render()\n",
    "while env.terminate:\n",
    "    env.step(0)\n",
    "    env.render()"
   ]
  },
  {
   "cell_type": "markdown",
   "metadata": {},
   "source": [
    "## With Random shuffle"
   ]
  },
  {
   "cell_type": "code",
   "execution_count": 4,
   "metadata": {},
   "outputs": [
    {
     "name": "stdout",
     "output_type": "stream",
     "text": [
      "Running time: 1.3242611010869345 minutes\n",
      "Best reward: 466 \n",
      " Resulting sequence of actions: \n",
      " [0, 2, 0, 0, 0, 0, 0, 2, 0, 0, 2, 0, 0, 0, 0, 0, 0, 3, 3, 0, 0, 0, 0, 0, 0, 2, 0, 0, 0, 0, 0, 0, 0, 0, 0, 0, 3, 0, 0, 0, 0, 0, 0, 0, 0, 0, 0, 0, 0, 1, 0, 2, 0, 0, 0, 0, 0, 2, 2, 1, 0, 0, 0, 0, 2, 2, 3, 0, 0, 0, 0, 2, 0, 0, 3, 0, 3, 0, 0, 0, 0, 0, 2, 0, 0, 0, 3, 0, 0, 0, 0, 0, 0, 0, 0, 0, 3, 3, 0, 1, 2, 0, 0, 2, 3, 0, 0, 2, 0, 0, 0, 2, 0, 0, 0, 3, 0, 0, 0, 3]\n"
     ]
    }
   ],
   "source": [
    "import random\n",
    "\n",
    "#queues = [random.choices(np.arange(1,config['environment']['amount_gtp']+1), [config['environment']['percentage_small_carriers'], config['environment']['percentage_medium_carriers'], config['environment']['percentage_large_carriers']], k=config['environment']['gtp_buffer_size']) for item in range(config['environment']['amount_gtp'])] # generate random queues\n",
    "queues = [[2, 3, 2, 1, 3, 2, 3, 3, 3, 2], [3, 2, 3, 2, 2, 3, 1, 2, 2, 3], [2, 2, 1, 2, 2, 3, 2, 3, 2, 3]]\n",
    "env = simple_conveyor_2(config, queues)\n",
    "\n",
    "\n",
    "#### build order list\n",
    "order_list = [item for sublist in queues for item in sublist]\n",
    "order_list = order_list + 3*len(order_list) * [0]\n",
    "random.shuffle(order_list)\n",
    "\n",
    "\n",
    "#### Calculate best sequence\n",
    "fitness = []\n",
    "t = 0\n",
    "best_run = return_fitness(order_list)\n",
    "fitness.append(best_run)\n",
    "start = time.time()\n",
    "for i in range(100):\n",
    "    t+=1\n",
    "    new_order_list = single_point_crossover(order_list)\n",
    "    this_run = return_fitness(new_order_list)\n",
    "    if this_run > best_run:\n",
    "        order_list = new_order_list\n",
    "        best_run = this_run\n",
    "        print('Order list updated, best reward: {}'.format(best_run), end = '\\r')\n",
    "    fitness.append(best_run)\n",
    "    \n",
    "while sts.mean(fitness[-100:]) != max(fitness):\n",
    "    t+=1\n",
    "    new_order_list = single_point_crossover(order_list)\n",
    "    this_run = return_fitness(new_order_list)\n",
    "    if this_run > best_run:\n",
    "        order_list = new_order_list\n",
    "        best_run = this_run\n",
    "        print('Order list updated, best reward: {}'.format(best_run), end = '\\r')\n",
    "    fitness.append(best_run)\n",
    "delta = time.time() - start\n",
    "print('Running time: {} minutes'.format(delta/60))\n",
    "print('Best reward: {} \\n Resulting sequence of actions: \\n {}'.format(best_run, order_list))"
   ]
  },
  {
   "cell_type": "code",
   "execution_count": 5,
   "metadata": {},
   "outputs": [
    {
     "data": {
      "application/vnd.plotly.v1+json": {
       "config": {
        "plotlyServerURL": "https://plot.ly"
       },
       "data": [
        {
         "hovertemplate": "x=%{x}<br>y=%{y}<extra></extra>",
         "legendgroup": "",
         "line": {
          "color": "#636efa",
          "dash": "solid"
         },
         "mode": "lines",
         "name": "",
         "orientation": "v",
         "showlegend": false,
         "type": "scatter",
         "x": [
          0,
          1,
          2,
          3,
          4,
          5,
          6,
          7,
          8,
          9,
          10,
          11,
          12,
          13,
          14,
          15,
          16,
          17,
          18,
          19,
          20,
          21,
          22,
          23,
          24,
          25,
          26,
          27,
          28,
          29,
          30,
          31,
          32,
          33,
          34,
          35,
          36,
          37,
          38,
          39,
          40,
          41,
          42,
          43,
          44,
          45,
          46,
          47,
          48,
          49,
          50,
          51,
          52,
          53,
          54,
          55,
          56,
          57,
          58,
          59,
          60,
          61,
          62,
          63,
          64,
          65,
          66,
          67,
          68,
          69,
          70,
          71,
          72,
          73,
          74,
          75,
          76,
          77,
          78,
          79,
          80,
          81,
          82,
          83,
          84,
          85,
          86,
          87,
          88,
          89,
          90,
          91,
          92,
          93,
          94,
          95,
          96,
          97,
          98,
          99,
          100,
          101,
          102,
          103,
          104,
          105,
          106,
          107,
          108,
          109,
          110,
          111,
          112,
          113,
          114,
          115,
          116,
          117,
          118,
          119,
          120,
          121,
          122,
          123,
          124,
          125,
          126,
          127,
          128,
          129,
          130,
          131,
          132,
          133,
          134,
          135,
          136,
          137,
          138,
          139,
          140,
          141,
          142,
          143,
          144,
          145,
          146,
          147,
          148,
          149,
          150,
          151,
          152,
          153,
          154,
          155,
          156,
          157,
          158,
          159,
          160,
          161,
          162,
          163,
          164,
          165,
          166,
          167,
          168,
          169,
          170,
          171,
          172,
          173,
          174,
          175,
          176,
          177,
          178,
          179,
          180,
          181,
          182,
          183,
          184,
          185,
          186,
          187,
          188,
          189,
          190,
          191,
          192,
          193,
          194,
          195,
          196,
          197,
          198,
          199,
          200,
          201,
          202,
          203,
          204,
          205,
          206,
          207,
          208,
          209,
          210,
          211,
          212,
          213,
          214,
          215,
          216,
          217,
          218,
          219,
          220,
          221,
          222,
          223,
          224,
          225,
          226,
          227,
          228,
          229,
          230,
          231,
          232,
          233,
          234,
          235,
          236,
          237,
          238,
          239,
          240,
          241,
          242,
          243,
          244,
          245,
          246,
          247,
          248,
          249,
          250
         ],
         "xaxis": "x",
         "y": [
          115,
          115,
          115,
          115,
          115,
          115,
          115,
          115,
          115,
          135,
          135,
          135,
          135,
          135,
          135,
          135,
          135,
          135,
          135,
          175,
          299,
          299,
          299,
          299,
          299,
          299,
          299,
          299,
          299,
          299,
          299,
          319,
          339,
          339,
          339,
          339,
          339,
          366,
          366,
          366,
          366,
          366,
          366,
          366,
          366,
          366,
          366,
          366,
          366,
          366,
          366,
          366,
          366,
          366,
          366,
          366,
          366,
          366,
          366,
          366,
          366,
          366,
          366,
          366,
          366,
          366,
          366,
          366,
          386,
          386,
          386,
          386,
          386,
          386,
          386,
          406,
          406,
          406,
          406,
          406,
          406,
          406,
          406,
          406,
          406,
          406,
          406,
          406,
          406,
          406,
          406,
          406,
          406,
          406,
          406,
          406,
          406,
          406,
          406,
          406,
          406,
          406,
          406,
          406,
          406,
          406,
          406,
          406,
          406,
          406,
          406,
          406,
          406,
          406,
          406,
          406,
          406,
          406,
          406,
          406,
          406,
          406,
          406,
          406,
          406,
          406,
          406,
          406,
          406,
          406,
          406,
          406,
          406,
          406,
          426,
          426,
          426,
          446,
          446,
          446,
          446,
          446,
          446,
          446,
          446,
          446,
          446,
          446,
          446,
          446,
          446,
          466,
          466,
          466,
          466,
          466,
          466,
          466,
          466,
          466,
          466,
          466,
          466,
          466,
          466,
          466,
          466,
          466,
          466,
          466,
          466,
          466,
          466,
          466,
          466,
          466,
          466,
          466,
          466,
          466,
          466,
          466,
          466,
          466,
          466,
          466,
          466,
          466,
          466,
          466,
          466,
          466,
          466,
          466,
          466,
          466,
          466,
          466,
          466,
          466,
          466,
          466,
          466,
          466,
          466,
          466,
          466,
          466,
          466,
          466,
          466,
          466,
          466,
          466,
          466,
          466,
          466,
          466,
          466,
          466,
          466,
          466,
          466,
          466,
          466,
          466,
          466,
          466,
          466,
          466,
          466,
          466,
          466,
          466,
          466,
          466,
          466,
          466,
          466,
          466,
          466,
          466,
          466,
          466,
          466,
          466,
          466,
          466,
          466,
          466,
          466
         ],
         "yaxis": "y"
        }
       ],
       "layout": {
        "legend": {
         "tracegroupgap": 0
        },
        "template": {
         "data": {
          "bar": [
           {
            "error_x": {
             "color": "#2a3f5f"
            },
            "error_y": {
             "color": "#2a3f5f"
            },
            "marker": {
             "line": {
              "color": "#E5ECF6",
              "width": 0.5
             }
            },
            "type": "bar"
           }
          ],
          "barpolar": [
           {
            "marker": {
             "line": {
              "color": "#E5ECF6",
              "width": 0.5
             }
            },
            "type": "barpolar"
           }
          ],
          "carpet": [
           {
            "aaxis": {
             "endlinecolor": "#2a3f5f",
             "gridcolor": "white",
             "linecolor": "white",
             "minorgridcolor": "white",
             "startlinecolor": "#2a3f5f"
            },
            "baxis": {
             "endlinecolor": "#2a3f5f",
             "gridcolor": "white",
             "linecolor": "white",
             "minorgridcolor": "white",
             "startlinecolor": "#2a3f5f"
            },
            "type": "carpet"
           }
          ],
          "choropleth": [
           {
            "colorbar": {
             "outlinewidth": 0,
             "ticks": ""
            },
            "type": "choropleth"
           }
          ],
          "contour": [
           {
            "colorbar": {
             "outlinewidth": 0,
             "ticks": ""
            },
            "colorscale": [
             [
              0,
              "#0d0887"
             ],
             [
              0.1111111111111111,
              "#46039f"
             ],
             [
              0.2222222222222222,
              "#7201a8"
             ],
             [
              0.3333333333333333,
              "#9c179e"
             ],
             [
              0.4444444444444444,
              "#bd3786"
             ],
             [
              0.5555555555555556,
              "#d8576b"
             ],
             [
              0.6666666666666666,
              "#ed7953"
             ],
             [
              0.7777777777777778,
              "#fb9f3a"
             ],
             [
              0.8888888888888888,
              "#fdca26"
             ],
             [
              1,
              "#f0f921"
             ]
            ],
            "type": "contour"
           }
          ],
          "contourcarpet": [
           {
            "colorbar": {
             "outlinewidth": 0,
             "ticks": ""
            },
            "type": "contourcarpet"
           }
          ],
          "heatmap": [
           {
            "colorbar": {
             "outlinewidth": 0,
             "ticks": ""
            },
            "colorscale": [
             [
              0,
              "#0d0887"
             ],
             [
              0.1111111111111111,
              "#46039f"
             ],
             [
              0.2222222222222222,
              "#7201a8"
             ],
             [
              0.3333333333333333,
              "#9c179e"
             ],
             [
              0.4444444444444444,
              "#bd3786"
             ],
             [
              0.5555555555555556,
              "#d8576b"
             ],
             [
              0.6666666666666666,
              "#ed7953"
             ],
             [
              0.7777777777777778,
              "#fb9f3a"
             ],
             [
              0.8888888888888888,
              "#fdca26"
             ],
             [
              1,
              "#f0f921"
             ]
            ],
            "type": "heatmap"
           }
          ],
          "heatmapgl": [
           {
            "colorbar": {
             "outlinewidth": 0,
             "ticks": ""
            },
            "colorscale": [
             [
              0,
              "#0d0887"
             ],
             [
              0.1111111111111111,
              "#46039f"
             ],
             [
              0.2222222222222222,
              "#7201a8"
             ],
             [
              0.3333333333333333,
              "#9c179e"
             ],
             [
              0.4444444444444444,
              "#bd3786"
             ],
             [
              0.5555555555555556,
              "#d8576b"
             ],
             [
              0.6666666666666666,
              "#ed7953"
             ],
             [
              0.7777777777777778,
              "#fb9f3a"
             ],
             [
              0.8888888888888888,
              "#fdca26"
             ],
             [
              1,
              "#f0f921"
             ]
            ],
            "type": "heatmapgl"
           }
          ],
          "histogram": [
           {
            "marker": {
             "colorbar": {
              "outlinewidth": 0,
              "ticks": ""
             }
            },
            "type": "histogram"
           }
          ],
          "histogram2d": [
           {
            "colorbar": {
             "outlinewidth": 0,
             "ticks": ""
            },
            "colorscale": [
             [
              0,
              "#0d0887"
             ],
             [
              0.1111111111111111,
              "#46039f"
             ],
             [
              0.2222222222222222,
              "#7201a8"
             ],
             [
              0.3333333333333333,
              "#9c179e"
             ],
             [
              0.4444444444444444,
              "#bd3786"
             ],
             [
              0.5555555555555556,
              "#d8576b"
             ],
             [
              0.6666666666666666,
              "#ed7953"
             ],
             [
              0.7777777777777778,
              "#fb9f3a"
             ],
             [
              0.8888888888888888,
              "#fdca26"
             ],
             [
              1,
              "#f0f921"
             ]
            ],
            "type": "histogram2d"
           }
          ],
          "histogram2dcontour": [
           {
            "colorbar": {
             "outlinewidth": 0,
             "ticks": ""
            },
            "colorscale": [
             [
              0,
              "#0d0887"
             ],
             [
              0.1111111111111111,
              "#46039f"
             ],
             [
              0.2222222222222222,
              "#7201a8"
             ],
             [
              0.3333333333333333,
              "#9c179e"
             ],
             [
              0.4444444444444444,
              "#bd3786"
             ],
             [
              0.5555555555555556,
              "#d8576b"
             ],
             [
              0.6666666666666666,
              "#ed7953"
             ],
             [
              0.7777777777777778,
              "#fb9f3a"
             ],
             [
              0.8888888888888888,
              "#fdca26"
             ],
             [
              1,
              "#f0f921"
             ]
            ],
            "type": "histogram2dcontour"
           }
          ],
          "mesh3d": [
           {
            "colorbar": {
             "outlinewidth": 0,
             "ticks": ""
            },
            "type": "mesh3d"
           }
          ],
          "parcoords": [
           {
            "line": {
             "colorbar": {
              "outlinewidth": 0,
              "ticks": ""
             }
            },
            "type": "parcoords"
           }
          ],
          "pie": [
           {
            "automargin": true,
            "type": "pie"
           }
          ],
          "scatter": [
           {
            "marker": {
             "colorbar": {
              "outlinewidth": 0,
              "ticks": ""
             }
            },
            "type": "scatter"
           }
          ],
          "scatter3d": [
           {
            "line": {
             "colorbar": {
              "outlinewidth": 0,
              "ticks": ""
             }
            },
            "marker": {
             "colorbar": {
              "outlinewidth": 0,
              "ticks": ""
             }
            },
            "type": "scatter3d"
           }
          ],
          "scattercarpet": [
           {
            "marker": {
             "colorbar": {
              "outlinewidth": 0,
              "ticks": ""
             }
            },
            "type": "scattercarpet"
           }
          ],
          "scattergeo": [
           {
            "marker": {
             "colorbar": {
              "outlinewidth": 0,
              "ticks": ""
             }
            },
            "type": "scattergeo"
           }
          ],
          "scattergl": [
           {
            "marker": {
             "colorbar": {
              "outlinewidth": 0,
              "ticks": ""
             }
            },
            "type": "scattergl"
           }
          ],
          "scattermapbox": [
           {
            "marker": {
             "colorbar": {
              "outlinewidth": 0,
              "ticks": ""
             }
            },
            "type": "scattermapbox"
           }
          ],
          "scatterpolar": [
           {
            "marker": {
             "colorbar": {
              "outlinewidth": 0,
              "ticks": ""
             }
            },
            "type": "scatterpolar"
           }
          ],
          "scatterpolargl": [
           {
            "marker": {
             "colorbar": {
              "outlinewidth": 0,
              "ticks": ""
             }
            },
            "type": "scatterpolargl"
           }
          ],
          "scatterternary": [
           {
            "marker": {
             "colorbar": {
              "outlinewidth": 0,
              "ticks": ""
             }
            },
            "type": "scatterternary"
           }
          ],
          "surface": [
           {
            "colorbar": {
             "outlinewidth": 0,
             "ticks": ""
            },
            "colorscale": [
             [
              0,
              "#0d0887"
             ],
             [
              0.1111111111111111,
              "#46039f"
             ],
             [
              0.2222222222222222,
              "#7201a8"
             ],
             [
              0.3333333333333333,
              "#9c179e"
             ],
             [
              0.4444444444444444,
              "#bd3786"
             ],
             [
              0.5555555555555556,
              "#d8576b"
             ],
             [
              0.6666666666666666,
              "#ed7953"
             ],
             [
              0.7777777777777778,
              "#fb9f3a"
             ],
             [
              0.8888888888888888,
              "#fdca26"
             ],
             [
              1,
              "#f0f921"
             ]
            ],
            "type": "surface"
           }
          ],
          "table": [
           {
            "cells": {
             "fill": {
              "color": "#EBF0F8"
             },
             "line": {
              "color": "white"
             }
            },
            "header": {
             "fill": {
              "color": "#C8D4E3"
             },
             "line": {
              "color": "white"
             }
            },
            "type": "table"
           }
          ]
         },
         "layout": {
          "annotationdefaults": {
           "arrowcolor": "#2a3f5f",
           "arrowhead": 0,
           "arrowwidth": 1
          },
          "coloraxis": {
           "colorbar": {
            "outlinewidth": 0,
            "ticks": ""
           }
          },
          "colorscale": {
           "diverging": [
            [
             0,
             "#8e0152"
            ],
            [
             0.1,
             "#c51b7d"
            ],
            [
             0.2,
             "#de77ae"
            ],
            [
             0.3,
             "#f1b6da"
            ],
            [
             0.4,
             "#fde0ef"
            ],
            [
             0.5,
             "#f7f7f7"
            ],
            [
             0.6,
             "#e6f5d0"
            ],
            [
             0.7,
             "#b8e186"
            ],
            [
             0.8,
             "#7fbc41"
            ],
            [
             0.9,
             "#4d9221"
            ],
            [
             1,
             "#276419"
            ]
           ],
           "sequential": [
            [
             0,
             "#0d0887"
            ],
            [
             0.1111111111111111,
             "#46039f"
            ],
            [
             0.2222222222222222,
             "#7201a8"
            ],
            [
             0.3333333333333333,
             "#9c179e"
            ],
            [
             0.4444444444444444,
             "#bd3786"
            ],
            [
             0.5555555555555556,
             "#d8576b"
            ],
            [
             0.6666666666666666,
             "#ed7953"
            ],
            [
             0.7777777777777778,
             "#fb9f3a"
            ],
            [
             0.8888888888888888,
             "#fdca26"
            ],
            [
             1,
             "#f0f921"
            ]
           ],
           "sequentialminus": [
            [
             0,
             "#0d0887"
            ],
            [
             0.1111111111111111,
             "#46039f"
            ],
            [
             0.2222222222222222,
             "#7201a8"
            ],
            [
             0.3333333333333333,
             "#9c179e"
            ],
            [
             0.4444444444444444,
             "#bd3786"
            ],
            [
             0.5555555555555556,
             "#d8576b"
            ],
            [
             0.6666666666666666,
             "#ed7953"
            ],
            [
             0.7777777777777778,
             "#fb9f3a"
            ],
            [
             0.8888888888888888,
             "#fdca26"
            ],
            [
             1,
             "#f0f921"
            ]
           ]
          },
          "colorway": [
           "#636efa",
           "#EF553B",
           "#00cc96",
           "#ab63fa",
           "#FFA15A",
           "#19d3f3",
           "#FF6692",
           "#B6E880",
           "#FF97FF",
           "#FECB52"
          ],
          "font": {
           "color": "#2a3f5f"
          },
          "geo": {
           "bgcolor": "white",
           "lakecolor": "white",
           "landcolor": "#E5ECF6",
           "showlakes": true,
           "showland": true,
           "subunitcolor": "white"
          },
          "hoverlabel": {
           "align": "left"
          },
          "hovermode": "closest",
          "mapbox": {
           "style": "light"
          },
          "paper_bgcolor": "white",
          "plot_bgcolor": "#E5ECF6",
          "polar": {
           "angularaxis": {
            "gridcolor": "white",
            "linecolor": "white",
            "ticks": ""
           },
           "bgcolor": "#E5ECF6",
           "radialaxis": {
            "gridcolor": "white",
            "linecolor": "white",
            "ticks": ""
           }
          },
          "scene": {
           "xaxis": {
            "backgroundcolor": "#E5ECF6",
            "gridcolor": "white",
            "gridwidth": 2,
            "linecolor": "white",
            "showbackground": true,
            "ticks": "",
            "zerolinecolor": "white"
           },
           "yaxis": {
            "backgroundcolor": "#E5ECF6",
            "gridcolor": "white",
            "gridwidth": 2,
            "linecolor": "white",
            "showbackground": true,
            "ticks": "",
            "zerolinecolor": "white"
           },
           "zaxis": {
            "backgroundcolor": "#E5ECF6",
            "gridcolor": "white",
            "gridwidth": 2,
            "linecolor": "white",
            "showbackground": true,
            "ticks": "",
            "zerolinecolor": "white"
           }
          },
          "shapedefaults": {
           "line": {
            "color": "#2a3f5f"
           }
          },
          "ternary": {
           "aaxis": {
            "gridcolor": "white",
            "linecolor": "white",
            "ticks": ""
           },
           "baxis": {
            "gridcolor": "white",
            "linecolor": "white",
            "ticks": ""
           },
           "bgcolor": "#E5ECF6",
           "caxis": {
            "gridcolor": "white",
            "linecolor": "white",
            "ticks": ""
           }
          },
          "title": {
           "x": 0.05
          },
          "xaxis": {
           "automargin": true,
           "gridcolor": "white",
           "linecolor": "white",
           "ticks": "",
           "title": {
            "standoff": 15
           },
           "zerolinecolor": "white",
           "zerolinewidth": 2
          },
          "yaxis": {
           "automargin": true,
           "gridcolor": "white",
           "linecolor": "white",
           "ticks": "",
           "title": {
            "standoff": 15
           },
           "zerolinecolor": "white",
           "zerolinewidth": 2
          }
         }
        },
        "title": {
         "text": "Reward"
        },
        "xaxis": {
         "anchor": "y",
         "domain": [
          0,
          1
         ],
         "title": {
          "text": "x"
         }
        },
        "yaxis": {
         "anchor": "x",
         "domain": [
          0,
          1
         ],
         "title": {
          "text": "y"
         }
        }
       }
      },
      "text/html": [
       "<div>                            <div id=\"956ff338-62fc-4e99-85a0-1344568f50b5\" class=\"plotly-graph-div\" style=\"height:525px; width:100%;\"></div>            <script type=\"text/javascript\">                require([\"plotly\"], function(Plotly) {                    window.PLOTLYENV=window.PLOTLYENV || {};                                    if (document.getElementById(\"956ff338-62fc-4e99-85a0-1344568f50b5\")) {                    Plotly.newPlot(                        \"956ff338-62fc-4e99-85a0-1344568f50b5\",                        [{\"hovertemplate\": \"x=%{x}<br>y=%{y}<extra></extra>\", \"legendgroup\": \"\", \"line\": {\"color\": \"#636efa\", \"dash\": \"solid\"}, \"mode\": \"lines\", \"name\": \"\", \"orientation\": \"v\", \"showlegend\": false, \"type\": \"scatter\", \"x\": [0, 1, 2, 3, 4, 5, 6, 7, 8, 9, 10, 11, 12, 13, 14, 15, 16, 17, 18, 19, 20, 21, 22, 23, 24, 25, 26, 27, 28, 29, 30, 31, 32, 33, 34, 35, 36, 37, 38, 39, 40, 41, 42, 43, 44, 45, 46, 47, 48, 49, 50, 51, 52, 53, 54, 55, 56, 57, 58, 59, 60, 61, 62, 63, 64, 65, 66, 67, 68, 69, 70, 71, 72, 73, 74, 75, 76, 77, 78, 79, 80, 81, 82, 83, 84, 85, 86, 87, 88, 89, 90, 91, 92, 93, 94, 95, 96, 97, 98, 99, 100, 101, 102, 103, 104, 105, 106, 107, 108, 109, 110, 111, 112, 113, 114, 115, 116, 117, 118, 119, 120, 121, 122, 123, 124, 125, 126, 127, 128, 129, 130, 131, 132, 133, 134, 135, 136, 137, 138, 139, 140, 141, 142, 143, 144, 145, 146, 147, 148, 149, 150, 151, 152, 153, 154, 155, 156, 157, 158, 159, 160, 161, 162, 163, 164, 165, 166, 167, 168, 169, 170, 171, 172, 173, 174, 175, 176, 177, 178, 179, 180, 181, 182, 183, 184, 185, 186, 187, 188, 189, 190, 191, 192, 193, 194, 195, 196, 197, 198, 199, 200, 201, 202, 203, 204, 205, 206, 207, 208, 209, 210, 211, 212, 213, 214, 215, 216, 217, 218, 219, 220, 221, 222, 223, 224, 225, 226, 227, 228, 229, 230, 231, 232, 233, 234, 235, 236, 237, 238, 239, 240, 241, 242, 243, 244, 245, 246, 247, 248, 249, 250], \"xaxis\": \"x\", \"y\": [115, 115, 115, 115, 115, 115, 115, 115, 115, 135, 135, 135, 135, 135, 135, 135, 135, 135, 135, 175, 299, 299, 299, 299, 299, 299, 299, 299, 299, 299, 299, 319, 339, 339, 339, 339, 339, 366, 366, 366, 366, 366, 366, 366, 366, 366, 366, 366, 366, 366, 366, 366, 366, 366, 366, 366, 366, 366, 366, 366, 366, 366, 366, 366, 366, 366, 366, 366, 386, 386, 386, 386, 386, 386, 386, 406, 406, 406, 406, 406, 406, 406, 406, 406, 406, 406, 406, 406, 406, 406, 406, 406, 406, 406, 406, 406, 406, 406, 406, 406, 406, 406, 406, 406, 406, 406, 406, 406, 406, 406, 406, 406, 406, 406, 406, 406, 406, 406, 406, 406, 406, 406, 406, 406, 406, 406, 406, 406, 406, 406, 406, 406, 406, 406, 426, 426, 426, 446, 446, 446, 446, 446, 446, 446, 446, 446, 446, 446, 446, 446, 446, 466, 466, 466, 466, 466, 466, 466, 466, 466, 466, 466, 466, 466, 466, 466, 466, 466, 466, 466, 466, 466, 466, 466, 466, 466, 466, 466, 466, 466, 466, 466, 466, 466, 466, 466, 466, 466, 466, 466, 466, 466, 466, 466, 466, 466, 466, 466, 466, 466, 466, 466, 466, 466, 466, 466, 466, 466, 466, 466, 466, 466, 466, 466, 466, 466, 466, 466, 466, 466, 466, 466, 466, 466, 466, 466, 466, 466, 466, 466, 466, 466, 466, 466, 466, 466, 466, 466, 466, 466, 466, 466, 466, 466, 466, 466, 466, 466, 466, 466, 466], \"yaxis\": \"y\"}],                        {\"legend\": {\"tracegroupgap\": 0}, \"template\": {\"data\": {\"bar\": [{\"error_x\": {\"color\": \"#2a3f5f\"}, \"error_y\": {\"color\": \"#2a3f5f\"}, \"marker\": {\"line\": {\"color\": \"#E5ECF6\", \"width\": 0.5}}, \"type\": \"bar\"}], \"barpolar\": [{\"marker\": {\"line\": {\"color\": \"#E5ECF6\", \"width\": 0.5}}, \"type\": \"barpolar\"}], \"carpet\": [{\"aaxis\": {\"endlinecolor\": \"#2a3f5f\", \"gridcolor\": \"white\", \"linecolor\": \"white\", \"minorgridcolor\": \"white\", \"startlinecolor\": \"#2a3f5f\"}, \"baxis\": {\"endlinecolor\": \"#2a3f5f\", \"gridcolor\": \"white\", \"linecolor\": \"white\", \"minorgridcolor\": \"white\", \"startlinecolor\": \"#2a3f5f\"}, \"type\": \"carpet\"}], \"choropleth\": [{\"colorbar\": {\"outlinewidth\": 0, \"ticks\": \"\"}, \"type\": \"choropleth\"}], \"contour\": [{\"colorbar\": {\"outlinewidth\": 0, \"ticks\": \"\"}, \"colorscale\": [[0.0, \"#0d0887\"], [0.1111111111111111, \"#46039f\"], [0.2222222222222222, \"#7201a8\"], [0.3333333333333333, \"#9c179e\"], [0.4444444444444444, \"#bd3786\"], [0.5555555555555556, \"#d8576b\"], [0.6666666666666666, \"#ed7953\"], [0.7777777777777778, \"#fb9f3a\"], [0.8888888888888888, \"#fdca26\"], [1.0, \"#f0f921\"]], \"type\": \"contour\"}], \"contourcarpet\": [{\"colorbar\": {\"outlinewidth\": 0, \"ticks\": \"\"}, \"type\": \"contourcarpet\"}], \"heatmap\": [{\"colorbar\": {\"outlinewidth\": 0, \"ticks\": \"\"}, \"colorscale\": [[0.0, \"#0d0887\"], [0.1111111111111111, \"#46039f\"], [0.2222222222222222, \"#7201a8\"], [0.3333333333333333, \"#9c179e\"], [0.4444444444444444, \"#bd3786\"], [0.5555555555555556, \"#d8576b\"], [0.6666666666666666, \"#ed7953\"], [0.7777777777777778, \"#fb9f3a\"], [0.8888888888888888, \"#fdca26\"], [1.0, \"#f0f921\"]], \"type\": \"heatmap\"}], \"heatmapgl\": [{\"colorbar\": {\"outlinewidth\": 0, \"ticks\": \"\"}, \"colorscale\": [[0.0, \"#0d0887\"], [0.1111111111111111, \"#46039f\"], [0.2222222222222222, \"#7201a8\"], [0.3333333333333333, \"#9c179e\"], [0.4444444444444444, \"#bd3786\"], [0.5555555555555556, \"#d8576b\"], [0.6666666666666666, \"#ed7953\"], [0.7777777777777778, \"#fb9f3a\"], [0.8888888888888888, \"#fdca26\"], [1.0, \"#f0f921\"]], \"type\": \"heatmapgl\"}], \"histogram\": [{\"marker\": {\"colorbar\": {\"outlinewidth\": 0, \"ticks\": \"\"}}, \"type\": \"histogram\"}], \"histogram2d\": [{\"colorbar\": {\"outlinewidth\": 0, \"ticks\": \"\"}, \"colorscale\": [[0.0, \"#0d0887\"], [0.1111111111111111, \"#46039f\"], [0.2222222222222222, \"#7201a8\"], [0.3333333333333333, \"#9c179e\"], [0.4444444444444444, \"#bd3786\"], [0.5555555555555556, \"#d8576b\"], [0.6666666666666666, \"#ed7953\"], [0.7777777777777778, \"#fb9f3a\"], [0.8888888888888888, \"#fdca26\"], [1.0, \"#f0f921\"]], \"type\": \"histogram2d\"}], \"histogram2dcontour\": [{\"colorbar\": {\"outlinewidth\": 0, \"ticks\": \"\"}, \"colorscale\": [[0.0, \"#0d0887\"], [0.1111111111111111, \"#46039f\"], [0.2222222222222222, \"#7201a8\"], [0.3333333333333333, \"#9c179e\"], [0.4444444444444444, \"#bd3786\"], [0.5555555555555556, \"#d8576b\"], [0.6666666666666666, \"#ed7953\"], [0.7777777777777778, \"#fb9f3a\"], [0.8888888888888888, \"#fdca26\"], [1.0, \"#f0f921\"]], \"type\": \"histogram2dcontour\"}], \"mesh3d\": [{\"colorbar\": {\"outlinewidth\": 0, \"ticks\": \"\"}, \"type\": \"mesh3d\"}], \"parcoords\": [{\"line\": {\"colorbar\": {\"outlinewidth\": 0, \"ticks\": \"\"}}, \"type\": \"parcoords\"}], \"pie\": [{\"automargin\": true, \"type\": \"pie\"}], \"scatter\": [{\"marker\": {\"colorbar\": {\"outlinewidth\": 0, \"ticks\": \"\"}}, \"type\": \"scatter\"}], \"scatter3d\": [{\"line\": {\"colorbar\": {\"outlinewidth\": 0, \"ticks\": \"\"}}, \"marker\": {\"colorbar\": {\"outlinewidth\": 0, \"ticks\": \"\"}}, \"type\": \"scatter3d\"}], \"scattercarpet\": [{\"marker\": {\"colorbar\": {\"outlinewidth\": 0, \"ticks\": \"\"}}, \"type\": \"scattercarpet\"}], \"scattergeo\": [{\"marker\": {\"colorbar\": {\"outlinewidth\": 0, \"ticks\": \"\"}}, \"type\": \"scattergeo\"}], \"scattergl\": [{\"marker\": {\"colorbar\": {\"outlinewidth\": 0, \"ticks\": \"\"}}, \"type\": \"scattergl\"}], \"scattermapbox\": [{\"marker\": {\"colorbar\": {\"outlinewidth\": 0, \"ticks\": \"\"}}, \"type\": \"scattermapbox\"}], \"scatterpolar\": [{\"marker\": {\"colorbar\": {\"outlinewidth\": 0, \"ticks\": \"\"}}, \"type\": \"scatterpolar\"}], \"scatterpolargl\": [{\"marker\": {\"colorbar\": {\"outlinewidth\": 0, \"ticks\": \"\"}}, \"type\": \"scatterpolargl\"}], \"scatterternary\": [{\"marker\": {\"colorbar\": {\"outlinewidth\": 0, \"ticks\": \"\"}}, \"type\": \"scatterternary\"}], \"surface\": [{\"colorbar\": {\"outlinewidth\": 0, \"ticks\": \"\"}, \"colorscale\": [[0.0, \"#0d0887\"], [0.1111111111111111, \"#46039f\"], [0.2222222222222222, \"#7201a8\"], [0.3333333333333333, \"#9c179e\"], [0.4444444444444444, \"#bd3786\"], [0.5555555555555556, \"#d8576b\"], [0.6666666666666666, \"#ed7953\"], [0.7777777777777778, \"#fb9f3a\"], [0.8888888888888888, \"#fdca26\"], [1.0, \"#f0f921\"]], \"type\": \"surface\"}], \"table\": [{\"cells\": {\"fill\": {\"color\": \"#EBF0F8\"}, \"line\": {\"color\": \"white\"}}, \"header\": {\"fill\": {\"color\": \"#C8D4E3\"}, \"line\": {\"color\": \"white\"}}, \"type\": \"table\"}]}, \"layout\": {\"annotationdefaults\": {\"arrowcolor\": \"#2a3f5f\", \"arrowhead\": 0, \"arrowwidth\": 1}, \"coloraxis\": {\"colorbar\": {\"outlinewidth\": 0, \"ticks\": \"\"}}, \"colorscale\": {\"diverging\": [[0, \"#8e0152\"], [0.1, \"#c51b7d\"], [0.2, \"#de77ae\"], [0.3, \"#f1b6da\"], [0.4, \"#fde0ef\"], [0.5, \"#f7f7f7\"], [0.6, \"#e6f5d0\"], [0.7, \"#b8e186\"], [0.8, \"#7fbc41\"], [0.9, \"#4d9221\"], [1, \"#276419\"]], \"sequential\": [[0.0, \"#0d0887\"], [0.1111111111111111, \"#46039f\"], [0.2222222222222222, \"#7201a8\"], [0.3333333333333333, \"#9c179e\"], [0.4444444444444444, \"#bd3786\"], [0.5555555555555556, \"#d8576b\"], [0.6666666666666666, \"#ed7953\"], [0.7777777777777778, \"#fb9f3a\"], [0.8888888888888888, \"#fdca26\"], [1.0, \"#f0f921\"]], \"sequentialminus\": [[0.0, \"#0d0887\"], [0.1111111111111111, \"#46039f\"], [0.2222222222222222, \"#7201a8\"], [0.3333333333333333, \"#9c179e\"], [0.4444444444444444, \"#bd3786\"], [0.5555555555555556, \"#d8576b\"], [0.6666666666666666, \"#ed7953\"], [0.7777777777777778, \"#fb9f3a\"], [0.8888888888888888, \"#fdca26\"], [1.0, \"#f0f921\"]]}, \"colorway\": [\"#636efa\", \"#EF553B\", \"#00cc96\", \"#ab63fa\", \"#FFA15A\", \"#19d3f3\", \"#FF6692\", \"#B6E880\", \"#FF97FF\", \"#FECB52\"], \"font\": {\"color\": \"#2a3f5f\"}, \"geo\": {\"bgcolor\": \"white\", \"lakecolor\": \"white\", \"landcolor\": \"#E5ECF6\", \"showlakes\": true, \"showland\": true, \"subunitcolor\": \"white\"}, \"hoverlabel\": {\"align\": \"left\"}, \"hovermode\": \"closest\", \"mapbox\": {\"style\": \"light\"}, \"paper_bgcolor\": \"white\", \"plot_bgcolor\": \"#E5ECF6\", \"polar\": {\"angularaxis\": {\"gridcolor\": \"white\", \"linecolor\": \"white\", \"ticks\": \"\"}, \"bgcolor\": \"#E5ECF6\", \"radialaxis\": {\"gridcolor\": \"white\", \"linecolor\": \"white\", \"ticks\": \"\"}}, \"scene\": {\"xaxis\": {\"backgroundcolor\": \"#E5ECF6\", \"gridcolor\": \"white\", \"gridwidth\": 2, \"linecolor\": \"white\", \"showbackground\": true, \"ticks\": \"\", \"zerolinecolor\": \"white\"}, \"yaxis\": {\"backgroundcolor\": \"#E5ECF6\", \"gridcolor\": \"white\", \"gridwidth\": 2, \"linecolor\": \"white\", \"showbackground\": true, \"ticks\": \"\", \"zerolinecolor\": \"white\"}, \"zaxis\": {\"backgroundcolor\": \"#E5ECF6\", \"gridcolor\": \"white\", \"gridwidth\": 2, \"linecolor\": \"white\", \"showbackground\": true, \"ticks\": \"\", \"zerolinecolor\": \"white\"}}, \"shapedefaults\": {\"line\": {\"color\": \"#2a3f5f\"}}, \"ternary\": {\"aaxis\": {\"gridcolor\": \"white\", \"linecolor\": \"white\", \"ticks\": \"\"}, \"baxis\": {\"gridcolor\": \"white\", \"linecolor\": \"white\", \"ticks\": \"\"}, \"bgcolor\": \"#E5ECF6\", \"caxis\": {\"gridcolor\": \"white\", \"linecolor\": \"white\", \"ticks\": \"\"}}, \"title\": {\"x\": 0.05}, \"xaxis\": {\"automargin\": true, \"gridcolor\": \"white\", \"linecolor\": \"white\", \"ticks\": \"\", \"title\": {\"standoff\": 15}, \"zerolinecolor\": \"white\", \"zerolinewidth\": 2}, \"yaxis\": {\"automargin\": true, \"gridcolor\": \"white\", \"linecolor\": \"white\", \"ticks\": \"\", \"title\": {\"standoff\": 15}, \"zerolinecolor\": \"white\", \"zerolinewidth\": 2}}}, \"title\": {\"text\": \"Reward\"}, \"xaxis\": {\"anchor\": \"y\", \"domain\": [0.0, 1.0], \"title\": {\"text\": \"x\"}}, \"yaxis\": {\"anchor\": \"x\", \"domain\": [0.0, 1.0], \"title\": {\"text\": \"y\"}}},                        {\"responsive\": true}                    ).then(function(){\n",
       "                            \n",
       "var gd = document.getElementById('956ff338-62fc-4e99-85a0-1344568f50b5');\n",
       "var x = new MutationObserver(function (mutations, observer) {{\n",
       "        var display = window.getComputedStyle(gd).display;\n",
       "        if (!display || display === 'none') {{\n",
       "            console.log([gd, 'removed!']);\n",
       "            Plotly.purge(gd);\n",
       "            observer.disconnect();\n",
       "        }}\n",
       "}});\n",
       "\n",
       "// Listen for the removal of the full notebook cells\n",
       "var notebookContainer = gd.closest('#notebook-container');\n",
       "if (notebookContainer) {{\n",
       "    x.observe(notebookContainer, {childList: true});\n",
       "}}\n",
       "\n",
       "// Listen for the clearing of the current output cell\n",
       "var outputEl = gd.closest('.output');\n",
       "if (outputEl) {{\n",
       "    x.observe(outputEl, {childList: true});\n",
       "}}\n",
       "\n",
       "                        })                };                });            </script>        </div>"
      ]
     },
     "metadata": {},
     "output_type": "display_data"
    }
   ],
   "source": [
    "# plot a figure with the reward over time\n",
    "fig = px.line(x=[i for i in range(len(fitness))], y=fitness, title='Reward')\n",
    "fig.show()"
   ]
  },
  {
   "cell_type": "code",
   "execution_count": 6,
   "metadata": {},
   "outputs": [
    {
     "name": "stdout",
     "output_type": "stream",
     "text": [
      "Ep:   252, steps: 479, R: 448.000\r"
     ]
    }
   ],
   "source": [
    "# and show the best one\n",
    "env.reset()\n",
    "for item in order_list:\n",
    "    env.step(item)\n",
    "    env.render()\n",
    "while env.demand_queues != [[] * i for i in range(env.amount_of_gtps)]:\n",
    "    env.step(0) \n",
    "    env.render()"
   ]
  },
  {
   "cell_type": "markdown",
   "metadata": {},
   "source": [
    "# Random restart + Hill climbing"
   ]
  },
  {
   "cell_type": "code",
   "execution_count": null,
   "metadata": {},
   "outputs": [],
   "source": []
  },
  {
   "cell_type": "markdown",
   "metadata": {},
   "source": [
    "# Tabu Search: hill climbing by local search"
   ]
  },
  {
   "cell_type": "code",
   "execution_count": null,
   "metadata": {},
   "outputs": [],
   "source": []
  },
  {
   "cell_type": "code",
   "execution_count": null,
   "metadata": {},
   "outputs": [],
   "source": []
  },
  {
   "cell_type": "markdown",
   "metadata": {},
   "source": [
    "# Other"
   ]
  },
  {
   "cell_type": "code",
   "execution_count": 12,
   "metadata": {},
   "outputs": [],
   "source": [
    "order_list = []\n",
    "for index in range(len(queues[0])):\n",
    "    order_list.append([item[index] for item in env.queues])\n",
    "\n",
    "#flat_list = [item for sublist in l for item in sublist]\n",
    "order_list = [item for sublist in order_list for item in sublist]\n",
    "#print(order_list)\n",
    "order_list = order_list + 2*len(order_list) * [0]\n",
    "#print(order_list)"
   ]
  },
  {
   "cell_type": "code",
   "execution_count": 13,
   "metadata": {},
   "outputs": [
    {
     "name": "stdout",
     "output_type": "stream",
     "text": [
      "Running time: 7.839385946591695 minutes\n",
      "Best reward: 468 \n",
      " Resulting sequence of actions: \n",
      " [2, 2, 2, 3, 3, 2, 0, 3, 0, 3, 1, 2, 0, 2, 3, 0, 2, 2, 2, 0, 0, 1, 2, 2, 2, 0, 3, 2, 3, 2, 0, 0, 0, 0, 0, 0, 0, 0, 1, 0, 0, 0, 0, 0, 3, 0, 0, 0, 0, 0, 0, 0, 0, 0, 0, 0, 0, 0, 0, 0, 0, 0, 2, 0, 0, 0, 0, 0, 0, 0, 0, 0, 0, 0, 0, 0, 3, 0, 0, 0, 0, 3, 0, 0, 0, 0, 2, 0, 0, 2]\n"
     ]
    }
   ],
   "source": [
    "import time\n",
    "fitness = []\n",
    "t = 0\n",
    "best_run = return_fitness(order_list)\n",
    "start = time.time()\n",
    "for i in range(1000):\n",
    "    t+=1\n",
    "    new_order_list = single_point_crossover(order_list)\n",
    "    this_run = return_fitness(new_order_list)\n",
    "    if this_run > best_run:\n",
    "        order_list = new_order_list\n",
    "        best_run = this_run\n",
    "        print('Order list updated, best reward: {}'.format(best_run), end = '\\r')\n",
    "        fitness.append([t, best_run])\n",
    "delta = time.time() - start\n",
    "print('Running time: {} minutes'.format(delta/60))\n",
    "print('Best reward: {} \\n Resulting sequence of actions: \\n {}'.format(best_run, order_list))"
   ]
  },
  {
   "cell_type": "code",
   "execution_count": 67,
   "metadata": {},
   "outputs": [],
   "source": [
    "import numpy as np\n",
    "from SC_v12 import simple_conveyor_2\n",
    "import yaml\n",
    "import random\n",
    "from copy import copy\n",
    "\n",
    "\n",
    "def single_point_crossover(input_list):\n",
    "    \"\"\"Changes a string with one-point cross-over to a new string\"\"\"\n",
    "    new_list = copy(input_list)\n",
    "    i1 = random.randint(1,len(new_list)-1)\n",
    "    i2 = random.randint(1,len(new_list)-1)\n",
    "    t1 = new_list[i1]\n",
    "    t2 = new_list[i2]\n",
    "    print('t1 = {} and t2 = {}'.format(t1,t2))\n",
    "    while t1 == t2:\n",
    "        print('in while loop')\n",
    "        i1 = random.randint(1,len(new_list)-1)\n",
    "        i2 = random.randint(1,len(new_list)-1)\n",
    "        t1 = new_list[i1]\n",
    "        t2 = new_list[i2]\n",
    "        print('t1 = {} and t2 = {}'.format(t1,t2))\n",
    "    new_list[i1] = t2\n",
    "    new_list[i2] = t1\n",
    "    return new_list\n",
    "\n",
    "order_list = [1, 1, 1, 0, 0, 0, 0, 0, 0, 0]"
   ]
  },
  {
   "cell_type": "code",
   "execution_count": 74,
   "metadata": {},
   "outputs": [
    {
     "name": "stdout",
     "output_type": "stream",
     "text": [
      "[1, 1, 1, 0, 0, 0, 0, 0, 0, 0]\n"
     ]
    }
   ],
   "source": [
    "print(order_list)"
   ]
  },
  {
   "cell_type": "code",
   "execution_count": 73,
   "metadata": {},
   "outputs": [
    {
     "name": "stdout",
     "output_type": "stream",
     "text": [
      "t1 = 1 and t2 = 0\n",
      "[1, 0, 1, 0, 0, 0, 0, 1, 0, 0]\n"
     ]
    }
   ],
   "source": [
    "print(single_point_crossover(order_list))"
   ]
  },
  {
   "cell_type": "code",
   "execution_count": 5,
   "metadata": {},
   "outputs": [
    {
     "name": "stderr",
     "output_type": "stream",
     "text": [
      "INFO:root:setup used: [[2, 3, 2, 1, 3, 2, 3, 3, 3, 2], [3, 2, 3, 2, 2, 3, 1, 2, 2, 3], [2, 2, 1, 2, 2, 3, 2, 3, 2, 3]]\n"
     ]
    },
    {
     "name": "stdout",
     "output_type": "stream",
     "text": [
      "Ep:     2, steps: 479, R: 297.000\r"
     ]
    },
    {
     "data": {
      "text/plain": [
       "297"
      ]
     },
     "execution_count": 5,
     "metadata": {},
     "output_type": "execute_result"
    }
   ],
   "source": [
    "def return_fitness(order_list):\n",
    "\"\"\"\"Calculates the fitness of an order set\"\"\"\"\"\n",
    "    env.reset()\n",
    "    for item in order_list:\n",
    "        env.step(item)\n",
    "    while env.demand_queues != [[] * i for i in range(env.amount_of_gtps)]:\n",
    "        env.step(0) \n",
    "    return env.reward"
   ]
  },
  {
   "cell_type": "code",
   "execution_count": 9,
   "metadata": {},
   "outputs": [
    {
     "data": {
      "text/plain": [
       "-340"
      ]
     },
     "execution_count": 9,
     "metadata": {},
     "output_type": "execute_result"
    }
   ],
   "source": [
    "env.negative_reward"
   ]
  },
  {
   "cell_type": "code",
   "execution_count": null,
   "metadata": {},
   "outputs": [
    {
     "name": "stderr",
     "output_type": "stream",
     "text": [
      "INFO:root:0\n"
     ]
    },
    {
     "name": "stdout",
     "output_type": "stream",
     "text": [
      "Ep:     1, steps:   0, R: 0.000\r"
     ]
    },
    {
     "name": "stderr",
     "output_type": "stream",
     "text": [
      "INFO:root:0\n",
      "INFO:root:0\n",
      "INFO:root:0\n",
      "INFO:root:0\n",
      "INFO:root:0\n",
      "INFO:root:0\n",
      "INFO:root:0\n",
      "INFO:root:0\n",
      "INFO:root:0\n",
      "INFO:root:0\n",
      "INFO:root:0\n",
      "INFO:root:0\n",
      "INFO:root:0\n",
      "INFO:root:0\n",
      "INFO:root:0\n",
      "INFO:root:0\n",
      "INFO:root:0\n",
      "INFO:root:0\n",
      "INFO:root:0\n",
      "INFO:root:0\n",
      "INFO:root:0\n"
     ]
    }
   ],
   "source": [
    "env.reset()\n",
    "for item in order_list:\n",
    "    env.step(item)\n",
    "    env.render()\n",
    "while env.demand_queues != [[] * i for i in range(env.amount_of_gtps)]:\n",
    "    env.step(0) \n",
    "    env.render()\n",
    "env.negative_reward"
   ]
  },
  {
   "cell_type": "code",
   "execution_count": null,
   "metadata": {},
   "outputs": [],
   "source": []
  }
 ],
 "metadata": {
  "kernelspec": {
   "display_name": "Python 3",
   "language": "python",
   "name": "python3"
  },
  "language_info": {
   "codemirror_mode": {
    "name": "ipython",
    "version": 3
   },
   "file_extension": ".py",
   "mimetype": "text/x-python",
   "name": "python",
   "nbconvert_exporter": "python",
   "pygments_lexer": "ipython3",
   "version": "3.6.8"
  }
 },
 "nbformat": 4,
 "nbformat_minor": 4
}
