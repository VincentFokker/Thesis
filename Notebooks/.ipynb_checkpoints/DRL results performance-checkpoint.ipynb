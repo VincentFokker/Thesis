{
 "cells": [
  {
   "cell_type": "code",
   "execution_count": 3,
   "metadata": {},
   "outputs": [],
   "source": [
    "import rl.environments\n",
    "from os.path import join\n",
    "from stable_baselines import PPO2\n",
    "from stable_baselines.common.vec_env import DummyVecEnv\n",
    "import yaml, pathlib\n",
    "import numpy as np\n",
    "import pandas as pd\n",
    "import matplotlib.pyplot as plt\n",
    "\n",
    "path = pathlib.Path().absolute()\n",
    "\n",
    "to_combine=[\n",
    "    ['AbstractConveyor1','20210102_1000'],       #2x1\n",
    "#   ['AbstractConveyor1', '20201229_1230']#,        #2x2\n",
    "#     ['AbstractConveyor1','20201216_1330'],         #2x3\n",
    "#     ['AbstractConveyor1','20201216_1400'],         #3x3\n",
    "#     ['AbstractConveyor1','20201217_1600_designs'], #4x3\n",
    "#     ['AbstractConveyor1','20201217_2200_designs']  #5x3\n",
    "]\n",
    "\n",
    "# to_combine=[\n",
    "#     ['AbstractConveyor1','20201217_1700'],\n",
    "#     ['AbstractConveyor1','20201217_1800'],\n",
    "#     ['AbstractConveyor1','20201217_1900'],\n",
    "#     ['AbstractConveyor1','20201217_2000'],\n",
    "#     ['AbstractConveyor1','20201217_2100'],\n",
    "#     ['AbstractConveyor1','20201217_2200'],\n",
    "#     ['AbstractConveyor1','20201217_2300'],\n",
    "#     ['AbstractConveyor1','20201217_2400'],\n",
    "#     ['AbstractConveyor1','20201217_2500']\n",
    "    \n",
    "# ]"
   ]
  },
  {
   "cell_type": "code",
   "execution_count": 5,
   "metadata": {},
   "outputs": [
    {
     "name": "stderr",
     "output_type": "stream",
     "text": [
      "c:\\users\\_vinc\\appdata\\local\\programs\\python\\python37\\lib\\site-packages\\ipykernel_launcher.py:13: YAMLLoadWarning: calling yaml.load() without Loader=... is deprecated, as the default Loader is unsafe. Please read https://msg.pyyaml.org/load for full details.\n",
      "  del sys.path[0]\n"
     ]
    },
    {
     "name": "stdout",
     "output_type": "stream",
     "text": [
      "\n",
      "Loaded config file from: D:\\Drive\\git\\RL\\rl\\trained_models\\AbstractConveyor1\\20210102_1000\\config.yml\n",
      "\n",
      "Custom MLP architecture [64, 64, {'pi': [], 'vf': []}, {'pi': [], 'vf': []}, {'pi': [], 'vf': []}]\n",
      "Custom MLP architecture [64, 64, {'pi': [], 'vf': []}, {'pi': [], 'vf': []}, {'pi': [], 'vf': []}, {'pi': [], 'vf': []}]\n",
      "Ep:   100, steps: 1004, R: 642.00000\r"
     ]
    }
   ],
   "source": [
    "env1, subdir = to_combine[0]\n",
    "episodes = 100\n",
    "combinations = ['1x2', '2x2', '2x3', '3x3', '4x3', '5x3']\n",
    "#combinations = ['buffersize_{}'.format(i+1) for i in range(11)]\n",
    "#combinations = ['pipeline_{}'.format(i+1) for i in range(10,55,5)]\n",
    "\n",
    "results = {}\n",
    "for idx, combination in enumerate(to_combine):\n",
    "    env1, subdir = combination\n",
    "    # load config and variables needed\n",
    "    location_path= join(path, 'rl', 'trained_models', env1, subdir)\n",
    "    with open(join(location_path, 'config.yml'), 'r') as c:\n",
    "        config = yaml.load(c)\n",
    "        print('\\nLoaded config file from: {}\\n'.format(join(location_path, 'config.yml')))\n",
    "    model_config = config['models']['PPO2']\n",
    "\n",
    "    #initialize env with the config file\n",
    "    env_obj = getattr(rl.environments, env1)\n",
    "    env = env_obj(config)\n",
    " \n",
    "\n",
    "    # load best model from path\n",
    "    model = PPO2.load(join(location_path, 'best_model.zip'), env=DummyVecEnv([lambda: env]))\n",
    "\n",
    "\n",
    "    results[combinations[idx]] = {}\n",
    "    results[combinations[idx]]['idle_time'] = 0\n",
    "    results[combinations[idx]]['cycle_count'] = 0\n",
    "    results[combinations[idx]]['steps'] = 0\n",
    "\n",
    "    for episode in range(episodes):\n",
    "        # Run an episode\n",
    "        state = env.reset()\n",
    "        done = False\n",
    "        while not done:\n",
    "            action, _ = model.predict(state, deterministic=True)\n",
    "            state, reward, done, tc = env.step(action)\n",
    "        results[combinations[idx]]['idle_time'] += sum(env.idle_times_operator.values())\n",
    "        results[combinations[idx]]['cycle_count'] += env.cycle_count\n",
    "        results[combinations[idx]]['steps'] += env.steps\n",
    "    results[combinations[idx]]['idle_time'] = results[combinations[idx]]['idle_time'] / episodes\n",
    "    results[combinations[idx]]['cycle_count'] = results[combinations[idx]]['cycle_count'] /episodes\n",
    "    results[combinations[idx]]['steps'] = results[combinations[idx]]['steps'] /episodes"
   ]
  },
  {
   "cell_type": "code",
   "execution_count": 6,
   "metadata": {},
   "outputs": [
    {
     "data": {
      "text/html": [
       "<div>\n",
       "<style scoped>\n",
       "    .dataframe tbody tr th:only-of-type {\n",
       "        vertical-align: middle;\n",
       "    }\n",
       "\n",
       "    .dataframe tbody tr th {\n",
       "        vertical-align: top;\n",
       "    }\n",
       "\n",
       "    .dataframe thead th {\n",
       "        text-align: right;\n",
       "    }\n",
       "</style>\n",
       "<table border=\"1\" class=\"dataframe\">\n",
       "  <thead>\n",
       "    <tr style=\"text-align: right;\">\n",
       "      <th></th>\n",
       "      <th>cycle_count</th>\n",
       "      <th>idle_time</th>\n",
       "      <th>steps</th>\n",
       "      <th>idle_percent</th>\n",
       "    </tr>\n",
       "  </thead>\n",
       "  <tbody>\n",
       "    <tr>\n",
       "      <td>1x2</td>\n",
       "      <td>32.55</td>\n",
       "      <td>442.24</td>\n",
       "      <td>1081.37</td>\n",
       "      <td>40.89627</td>\n",
       "    </tr>\n",
       "  </tbody>\n",
       "</table>\n",
       "</div>"
      ],
      "text/plain": [
       "     cycle_count  idle_time    steps  idle_percent\n",
       "1x2        32.55     442.24  1081.37      40.89627"
      ]
     },
     "execution_count": 6,
     "metadata": {},
     "output_type": "execute_result"
    }
   ],
   "source": [
    "resultcsv = pd.DataFrame.from_dict(results).T\n",
    "#resultcsv.to_csv('results_DRL.csv')\n",
    "resultcsv['idle_percent'] = resultcsv.idle_time/resultcsv.steps * 100\n",
    "#resultcsv['orders_processed'] = [50, 150, 150,250,350, 450]\n",
    "#resultcsv['cycle_percent'] = resultcsv.cycle_count/resultcsv.orders_processed * 100\n",
    "resultcsv"
   ]
  },
  {
   "cell_type": "markdown",
   "metadata": {},
   "source": [
    "# queue occupation"
   ]
  },
  {
   "cell_type": "code",
   "execution_count": 22,
   "metadata": {
    "scrolled": false
   },
   "outputs": [
    {
     "name": "stdout",
     "output_type": "stream",
     "text": [
      "\n",
      "Loaded config file from: D:\\Drive\\git\\RL\\rl\\trained_models\\AbstractConveyor2\\20201217_1400\\config.yml\n",
      "\n"
     ]
    },
    {
     "name": "stderr",
     "output_type": "stream",
     "text": [
      "c:\\users\\_vinc\\appdata\\local\\programs\\python\\python37\\lib\\site-packages\\ipykernel_launcher.py:25: YAMLLoadWarning: calling yaml.load() without Loader=... is deprecated, as the default Loader is unsafe. Please read https://msg.pyyaml.org/load for full details.\n"
     ]
    },
    {
     "ename": "AttributeError",
     "evalue": "module 'rl.environments' has no attribute 'AbstractConveyor2'",
     "output_type": "error",
     "traceback": [
      "\u001b[1;31m---------------------------------------------------------------------------\u001b[0m",
      "\u001b[1;31mAttributeError\u001b[0m                            Traceback (most recent call last)",
      "\u001b[1;32m<ipython-input-22-cec927e0c9e1>\u001b[0m in \u001b[0;36m<module>\u001b[1;34m\u001b[0m\n\u001b[0;32m     28\u001b[0m \u001b[1;33m\u001b[0m\u001b[0m\n\u001b[0;32m     29\u001b[0m     \u001b[1;31m#initialize env with the config file\u001b[0m\u001b[1;33m\u001b[0m\u001b[1;33m\u001b[0m\u001b[1;33m\u001b[0m\u001b[0m\n\u001b[1;32m---> 30\u001b[1;33m     \u001b[0menv_obj\u001b[0m \u001b[1;33m=\u001b[0m \u001b[0mgetattr\u001b[0m\u001b[1;33m(\u001b[0m\u001b[0mrl\u001b[0m\u001b[1;33m.\u001b[0m\u001b[0menvironments\u001b[0m\u001b[1;33m,\u001b[0m \u001b[0menv1\u001b[0m\u001b[1;33m)\u001b[0m\u001b[1;33m\u001b[0m\u001b[1;33m\u001b[0m\u001b[0m\n\u001b[0m\u001b[0;32m     31\u001b[0m     \u001b[0menv\u001b[0m \u001b[1;33m=\u001b[0m \u001b[0menv_obj\u001b[0m\u001b[1;33m(\u001b[0m\u001b[0mconfig\u001b[0m\u001b[1;33m)\u001b[0m\u001b[1;33m\u001b[0m\u001b[1;33m\u001b[0m\u001b[0m\n\u001b[0;32m     32\u001b[0m \u001b[1;33m\u001b[0m\u001b[0m\n",
      "\u001b[1;31mAttributeError\u001b[0m: module 'rl.environments' has no attribute 'AbstractConveyor2'"
     ]
    }
   ],
   "source": [
    "env1, subdir = to_combine[0]\n",
    "episodes = 10\n",
    "#combinations = ['1x2', '2x2', '2x3', '3x3', '4x3', '5x3']\n",
    "\n",
    "to_combine=[\n",
    "    ['AbstractConveyor2','20201217_1400'],\n",
    "    ['AbstractConveyor2','20201217_1500'],\n",
    "    ['AbstractConveyor2','20201217_1600'],\n",
    "    ['AbstractConveyor2','20201217_1700'],\n",
    "    ['AbstractConveyor2','20201217_1800'],\n",
    "    ['AbstractConveyor2','20201217_1900'],\n",
    "    ['AbstractConveyor2','20201217_2000'],\n",
    "    ['AbstractConveyor2','20201217_2100'],\n",
    "    ['AbstractConveyor2','20201217_2200'],\n",
    "    ['AbstractConveyor2','20201217_2300']\n",
    "    \n",
    "]\n",
    "\n",
    "results = {}\n",
    "for idx, combination in enumerate(to_combine):\n",
    "    env1, subdir = combination\n",
    "    # load config and variables needed\n",
    "    location_path= join(path, 'rl', 'trained_models', env1, subdir)\n",
    "    with open(join(location_path, 'config.yml'), 'r') as c:\n",
    "        config = yaml.load(c)\n",
    "        print('\\nLoaded config file from: {}\\n'.format(join(location_path, 'config.yml')))\n",
    "    model_config = config['models']['PPO2']\n",
    "\n",
    "    #initialize env with the config file\n",
    "    env_obj = getattr(rl.environments, env1)\n",
    "    env = env_obj(config)\n",
    "\n",
    "    # load best model from path\n",
    "    model = PPO2.load(join(location_path, 'model.zip'), env=DummyVecEnv([lambda: env]))\n",
    "\n",
    "\n",
    "\n",
    "\n",
    "    log_data=[]\n",
    "    for episode in range(episodes):\n",
    "        state = env.reset()\n",
    "        done = False\n",
    "        while not done:\n",
    "            action, _ = model.predict(state, deterministic=False)\n",
    "            state, reward, done, tc = env.step(action)\n",
    "            log_data.append(env.len_queues)\n",
    "    log_dataframe = pd.DataFrame(np.array(log_data)).reset_index()\n",
    "    for i in range(env.amount_of_gtps):\n",
    "        print('mean: ', log_dataframe[i].mean(), 'std: ', log_dataframe[i].std())\n",
    "\n",
    "    labels = ['Queue 1', 'Queue 2', 'Queue 3', 'Queue 4', 'Queue 5']\n",
    "    plt.boxplot([log_dataframe[i] for i in range(env.amount_of_gtps)], notch=True, labels=[label for label in labels][:env.amount_of_gtps], showfliers=False)\n",
    "    plt.ylim(0,1)\n",
    "    plt.ylabel('Queue occupation %')\n",
    "    plt.xlabel('Queue number')\n",
    "    plt.title('Occupation of queues for a {}x{} design'.format(env.amount_of_gtps, env.amount_of_outputs))\n",
    "    plt.savefig('figures/box_rl_queues_{}x{}.png'.format(env.amount_of_gtps, env.amount_of_outputs))\n",
    "    plt.show()\n",
    "  "
   ]
  },
  {
   "cell_type": "code",
   "execution_count": 40,
   "metadata": {},
   "outputs": [
    {
     "data": {
      "text/plain": [
       "20"
      ]
     },
     "execution_count": 40,
     "metadata": {},
     "output_type": "execute_result"
    }
   ],
   "source": [
    "self.diverter_locations[workstation][0]"
   ]
  },
  {
   "cell_type": "code",
   "execution_count": 38,
   "metadata": {},
   "outputs": [
    {
     "data": {
      "image/png": "[encoded data removed]",
      "text/plain": [
       "<Figure size 432x288 with 1 Axes>"
      ]
     },
     "metadata": {
      "needs_background": "light"
     },
     "output_type": "display_data"
    }
   ],
   "source": [
    "env.render_plt()"
   ]
  }
 ],
 "metadata": {
  "kernelspec": {
   "display_name": "th_new-venv",
   "language": "python",
   "name": "th_new-venv"
  },
  "language_info": {
   "codemirror_mode": {
    "name": "ipython",
    "version": 3
   },
   "file_extension": ".py",
   "mimetype": "text/x-python",
   "name": "python",
   "nbconvert_exporter": "python",
   "pygments_lexer": "ipython3",
   "version": "3.7.5"
  }
 },
 "nbformat": 4,
 "nbformat_minor": 4
}
