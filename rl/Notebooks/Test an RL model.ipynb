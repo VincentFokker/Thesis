{
 "cells": [
  {
   "cell_type": "code",
   "execution_count": 1,
   "metadata": {},
   "outputs": [
    {
     "name": "stdout",
     "output_type": "stream",
     "text": [
      "INFO:tensorflow:TensorFlow\n"
     ]
    },
    {
     "name": "stderr",
     "output_type": "stream",
     "text": [
      "INFO:tensorflow:TensorFlow\n"
     ]
    },
    {
     "name": "stdout",
     "output_type": "stream",
     "text": [
      "Config loaded from: \n",
      "D:\\Drive\\git\\RL\\rl\\trained_models\\AbstractConveyor\\20201123_1937_B\\config.yml\n",
      "\n",
      "Model loaded from:\n",
      "D:\\Drive\\git\\RL\\rl\\trained_models\\AbstractConveyor\\20201123_1937_B\\best_model.zip\n",
      "\n",
      "Model Parameters are: \n",
      "\n",
      "\t Queue length:\t\t\t7 \n",
      " \t Pipeline length: \t\t10\n",
      "\t Amount GtP:\t\t\t2 \n",
      " \t Types of order carriers: \t2\n",
      "\t To process orders:\t\t150/200 \n",
      " \t Termination condition: \t3\n",
      "\n"
     ]
    },
    {
     "data": {
      "text/plain": [
       "<Figure size 640x480 with 1 Axes>"
      ]
     },
     "metadata": {},
     "output_type": "display_data"
    }
   ],
   "source": [
    "#from rl.environments.AbstractConveyor import AbstractConveyor\n",
    "import yaml\n",
    "from stable_baselines import PPO2\n",
    "from stable_baselines.common.vec_env import DummyVecEnv\n",
    "import matplotlib.pyplot as plt\n",
    "import rl.helpers\n",
    "import cv2\n",
    "import math\n",
    "import random\n",
    "import statistics as sts\n",
    "from plotly.subplots import make_subplots\n",
    "import plotly.graph_objects as go\n",
    "import pandas as pd\n",
    "import datetime as dt\n",
    "import rl\n",
    "import pathlib\n",
    "from os.path import join\n",
    "\n",
    "env_name = 'AbstractConveyor'\n",
    "subdir = '20201123_1937_B'\n",
    "path = pathlib.Path().absolute()\n",
    "results_path = join(path, 'rl', 'trained_models', env_name, subdir)\n",
    "modelpath = join(results_path, 'best_model.zip')\n",
    "\n",
    "config_path = join(results_path, 'config.yml')\n",
    "with open(config_path, 'r') as f:\n",
    "    config = yaml.safe_load(f)\n",
    "    print('Config loaded from: \\n{}\\n'.format(config_path))\n",
    "\n",
    "# load environment with config variables\n",
    "env_obj = getattr(rl.environments, env_name)\n",
    "env = env_obj(config)\n",
    "\n",
    "#load best model from path\n",
    "model = PPO2.load(modelpath, env=DummyVecEnv([lambda: env]))\n",
    "print('Model loaded from:\\n{}\\n'.format(modelpath))\n",
    "\n",
    "print('Model Parameters are: \\n')\n",
    "print('\\t Queue length:\\t\\t\\t{} \\n \\t Pipeline length: \\t\\t{}'.format(env.gtp_buffer_length, env.pipeline_length))\n",
    "print('\\t Amount GtP:\\t\\t\\t{} \\n \\t Types of order carriers: \\t{}'.format(env.amount_of_gtps, env.amount_of_outputs))\n",
    "print('\\t To process orders:\\t\\t{}/{} \\n \\t Termination condition: \\t{}\\n'.format(env.max_items_processed, env.amount_of_gtps*env.gtp_demand_size, env.termination_condition))\n",
    "env.render_plt()"
   ]
  },
  {
   "cell_type": "code",
   "execution_count": 2,
   "metadata": {},
   "outputs": [
    {
     "name": "stdout",
     "output_type": "stream",
     "text": [
      "Ep:   100, steps: 1413, R: 0.0000\r"
     ]
    },
    {
     "data": {
      "text/html": [
       "<div>\n",
       "<style scoped>\n",
       "    .dataframe tbody tr th:only-of-type {\n",
       "        vertical-align: middle;\n",
       "    }\n",
       "\n",
       "    .dataframe tbody tr th {\n",
       "        vertical-align: top;\n",
       "    }\n",
       "\n",
       "    .dataframe thead th {\n",
       "        text-align: right;\n",
       "    }\n",
       "</style>\n",
       "<table border=\"1\" class=\"dataframe\">\n",
       "  <thead>\n",
       "    <tr style=\"text-align: right;\">\n",
       "      <th></th>\n",
       "      <th>rl-agent</th>\n",
       "      <th>heuristic</th>\n",
       "    </tr>\n",
       "  </thead>\n",
       "  <tbody>\n",
       "    <tr>\n",
       "      <td>cycle_count</td>\n",
       "      <td>220.18</td>\n",
       "      <td>0.0</td>\n",
       "    </tr>\n",
       "    <tr>\n",
       "      <td>idle_time</td>\n",
       "      <td>34.02</td>\n",
       "      <td>0.0</td>\n",
       "    </tr>\n",
       "  </tbody>\n",
       "</table>\n",
       "</div>"
      ],
      "text/plain": [
       "             rl-agent  heuristic\n",
       "cycle_count    220.18        0.0\n",
       "idle_time       34.02        0.0"
      ]
     },
     "execution_count": 2,
     "metadata": {},
     "output_type": "execute_result"
    }
   ],
   "source": [
    "#test for number of episodes with RL agent\n",
    "n_episodes = 50\n",
    "results = {}\n",
    "results['rl-agent'] = {}\n",
    "results['rl-agent']['cycle_count'] = 0\n",
    "results['rl-agent']['idle_time'] = 0\n",
    "for episode in range(n_episodes):\n",
    "    # Run an episode\n",
    "    state = env.reset()\n",
    "    done = False\n",
    "    meta_data = []\n",
    "    while not done:\n",
    "        action, _ = model.predict(state, deterministic=False)\n",
    "        state, reward, done, _ = env.step(action)\n",
    "        if done:\n",
    "            results['rl-agent']['cycle_count'] += env.cycle_count\n",
    "            results['rl-agent']['idle_time'] += sum(env.idle_times_operator.values())\n",
    "results['rl-agent']['cycle_count'] = results['rl-agent']['cycle_count'] /n_episodes\n",
    "results['rl-agent']['idle_time'] = results['rl-agent']['idle_time'] /n_episodes\n",
    "\n",
    "#similarly for the heuristic (FIFo)\n",
    "results['heuristic'] = {}\n",
    "results['heuristic']['cycle_count'] = 0\n",
    "results['heuristic']['idle_time'] = 0\n",
    "\n",
    "for episode in range(n_episodes):\n",
    "    print('episode: {} \\t steps: \\t {}'.format(episode, env.steps), end='\\r')\n",
    "    env.reset()\n",
    "    while not env.terminate:\n",
    "        env.do_heuristic_guided_step()\n",
    "    results['heuristic']['idle_time'] += sum(env.idle_times_operator.values())\n",
    "    results['heuristic']['cycle_count'] += env.cycle_count\n",
    "results['heuristic']['cycle_count'] = results['heuristic']['cycle_count'] /n_episodes\n",
    "results['heuristic']['idle_time'] = results['heuristic']['idle_time'] /n_episodes\n",
    "\n",
    "#and show result\n",
    "pd.DataFrame.from_dict(results)"
   ]
  }
 ],
 "metadata": {
  "kernelspec": {
   "display_name": "th_new-venv",
   "language": "python",
   "name": "th_new-venv"
  },
  "language_info": {
   "codemirror_mode": {
    "name": "ipython",
    "version": 3
   },
   "file_extension": ".py",
   "mimetype": "text/x-python",
   "name": "python",
   "nbconvert_exporter": "python",
   "pygments_lexer": "ipython3",
   "version": "3.7.5"
  }
 },
 "nbformat": 4,
 "nbformat_minor": 4
}
