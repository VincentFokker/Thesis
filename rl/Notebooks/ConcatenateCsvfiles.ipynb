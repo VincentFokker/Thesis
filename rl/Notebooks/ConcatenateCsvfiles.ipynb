{
 "cells": [
  {
   "cell_type": "code",
   "execution_count": 3,
   "metadata": {},
   "outputs": [
    {
     "name": "stdout",
     "output_type": "stream",
     "text": [
      "['01run-0_PPO2_CustomMlpPolicy_3000000_10_04-30_15-03_1-tag-loss_loss.csv', '02run-0_PPO2_CustomMlpPolicy_3000000_10_04-30_15-03_2-tag-loss_loss.csv', '03run-0_PPO2_CustomMlpPolicy_3000000_10_04-30_15-03_3-tag-loss_loss.csv', '04run-0_PPO2_CustomMlpPolicy_3000000_10_04-30_15-03_4-tag-loss_loss.csv', '05run-0_PPO2_CustomMlpPolicy_3000000_10_04-30_15-03_5-tag-loss_loss.csv', '06run-0_PPO2_CustomMlpPolicy_3000000_10_04-30_15-03_6-tag-loss_loss.csv', '07run-0_PPO2_CustomMlpPolicy_3000000_10_04-30_15-03_7-tag-loss_loss.csv', '08run-0_PPO2_CustomMlpPolicy_3000000_10_04-30_15-03_8-tag-loss_loss.csv', '09run-0_PPO2_CustomMlpPolicy_3000000_10_04-30_15-03_9-tag-loss_loss.csv', '10run-0_PPO2_CustomMlpPolicy_3000000_10_04-30_15-03_10-tag-loss_loss.csv', '11run-0_PPO2_CustomMlpPolicy_3000000_10_04-30_15-03_11-tag-loss_loss.csv', '12run-0_PPO2_CustomMlpPolicy_3000000_10_04-30_15-03_12-tag-loss_loss.csv', '13run-0_PPO2_CustomMlpPolicy_3000000_10_04-30_15-03_1_1-tag-loss_loss.csv', '14run-0_PPO2_CustomMlpPolicy_3000000_10_04-30_15-03_1_2-tag-loss_loss.csv', '15run-0_PPO2_CustomMlpPolicy_3000000_10_04-30_15-03_1_3-tag-loss_loss.csv', '16run-0_PPO2_CustomMlpPolicy_3000000_10_04-30_15-03_1_4-tag-loss_loss.csv', '17run-0_PPO2_CustomMlpPolicy_3000000_10_04-30_15-03_1_5-tag-loss_loss.csv', '18run-0_PPO2_CustomMlpPolicy_3000000_10_04-30_15-03_1_6-tag-loss_loss.csv']\n"
     ]
    }
   ],
   "source": [
    "#part one, concetenate all performance csv files\n",
    "\n",
    "import glob\n",
    "import pandas as pd\n",
    "\n",
    "extension = 'csv'\n",
    "all_filenames = [i for i in glob.glob('*.{}'.format(extension))]\n",
    "all_filenames = sorted(all_filenames) # make sure that the filenames are in loaded in the right order, all csv files in dir are loaded\n",
    "print(all_filenames) \n",
    "\n",
    "\n",
    "dfs = [pd.read_csv(all_filenames[df]) for df in range(len(all_filenames))]\n",
    "\n",
    "for j in range(len(dfs)-1):\n",
    "    last_step = dfs[j].iloc[-1,1]\n",
    "    for i in range(len(dfs[j+1])):\n",
    "         dfs[j+1].iloc[i,1] = dfs[j+1].iloc[i,1] + last_step\n",
    "\n",
    "combined_csv = pd.concat([dfs[f] for f in range(len(dfs))])\n",
    "#export to csv\n",
    "combined_csv.to_csv( \"combined_csv.csv\", index=False, encoding='utf-8-sig')"
   ]
  }
 ],
 "metadata": {
  "kernelspec": {
   "display_name": "Python 3",
   "language": "python",
   "name": "python3"
  },
  "language_info": {
   "codemirror_mode": {
    "name": "ipython",
    "version": 3
   },
   "file_extension": ".py",
   "mimetype": "text/x-python",
   "name": "python",
   "nbconvert_exporter": "python",
   "pygments_lexer": "ipython3",
   "version": "3.6.8"
  }
 },
 "nbformat": 4,
 "nbformat_minor": 2
}
