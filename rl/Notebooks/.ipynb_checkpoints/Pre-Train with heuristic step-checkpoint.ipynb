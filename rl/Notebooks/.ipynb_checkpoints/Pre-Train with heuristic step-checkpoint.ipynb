{
 "cells": [
  {
   "cell_type": "code",
   "execution_count": 10,
   "metadata": {},
   "outputs": [
    {
     "ename": "FileNotFoundError",
     "evalue": "[Errno 2] No such file or directory: 'rl\\\\helpers\\\\start_states.json'",
     "output_type": "error",
     "traceback": [
      "\u001b[1;31m---------------------------------------------------------------------------\u001b[0m",
      "\u001b[1;31mFileNotFoundError\u001b[0m                         Traceback (most recent call last)",
      "\u001b[1;32m<ipython-input-10-038260b8b2a2>\u001b[0m in \u001b[0;36m<module>\u001b[1;34m\u001b[0m\n\u001b[0;32m     22\u001b[0m \u001b[1;33m\u001b[0m\u001b[0m\n\u001b[0;32m     23\u001b[0m \u001b[0menv_obj\u001b[0m \u001b[1;33m=\u001b[0m \u001b[0mgetattr\u001b[0m\u001b[1;33m(\u001b[0m\u001b[0mrl\u001b[0m\u001b[1;33m.\u001b[0m\u001b[0menvironments\u001b[0m\u001b[1;33m,\u001b[0m \u001b[0menv_name\u001b[0m\u001b[1;33m)\u001b[0m\u001b[1;33m\u001b[0m\u001b[1;33m\u001b[0m\u001b[0m\n\u001b[1;32m---> 24\u001b[1;33m \u001b[0menv\u001b[0m \u001b[1;33m=\u001b[0m \u001b[0menv_obj\u001b[0m\u001b[1;33m(\u001b[0m\u001b[0mconfig\u001b[0m\u001b[1;33m)\u001b[0m\u001b[1;33m\u001b[0m\u001b[1;33m\u001b[0m\u001b[0m\n\u001b[0m\u001b[0;32m     25\u001b[0m \u001b[1;33m\u001b[0m\u001b[0m\n\u001b[0;32m     26\u001b[0m \u001b[1;32mdef\u001b[0m \u001b[0mdecode_binary\u001b[0m\u001b[1;33m(\u001b[0m\u001b[0mbinary_array\u001b[0m\u001b[1;33m)\u001b[0m\u001b[1;33m:\u001b[0m\u001b[1;33m\u001b[0m\u001b[1;33m\u001b[0m\u001b[0m\n",
      "\u001b[1;32md:\\drive\\git\\rl\\rl\\environments\\AbstractConveyor1.py\u001b[0m in \u001b[0;36m__init__\u001b[1;34m(self, config)\u001b[0m\n\u001b[0;32m     53\u001b[0m \u001b[1;33m\u001b[0m\u001b[0m\n\u001b[0;32m     54\u001b[0m         \u001b[1;31m#load set of predefined start_states generated with the heuristic\u001b[0m\u001b[1;33m\u001b[0m\u001b[1;33m\u001b[0m\u001b[1;33m\u001b[0m\u001b[0m\n\u001b[1;32m---> 55\u001b[1;33m         \u001b[1;32mwith\u001b[0m \u001b[0mopen\u001b[0m\u001b[1;33m(\u001b[0m\u001b[0mjoin\u001b[0m\u001b[1;33m(\u001b[0m\u001b[1;34m'rl'\u001b[0m\u001b[1;33m,\u001b[0m \u001b[1;34m'helpers'\u001b[0m\u001b[1;33m,\u001b[0m \u001b[1;34m'start_states.json'\u001b[0m\u001b[1;33m)\u001b[0m\u001b[1;33m,\u001b[0m \u001b[1;34m'r'\u001b[0m\u001b[1;33m)\u001b[0m \u001b[1;32mas\u001b[0m \u001b[0mf\u001b[0m\u001b[1;33m:\u001b[0m\u001b[1;33m\u001b[0m\u001b[1;33m\u001b[0m\u001b[0m\n\u001b[0m\u001b[0;32m     56\u001b[0m             \u001b[0mself\u001b[0m\u001b[1;33m.\u001b[0m\u001b[0mstart_states\u001b[0m \u001b[1;33m=\u001b[0m \u001b[0mjson\u001b[0m\u001b[1;33m.\u001b[0m\u001b[0mload\u001b[0m\u001b[1;33m(\u001b[0m\u001b[0mf\u001b[0m\u001b[1;33m)\u001b[0m\u001b[1;33m\u001b[0m\u001b[1;33m\u001b[0m\u001b[0m\n\u001b[0;32m     57\u001b[0m \u001b[1;33m\u001b[0m\u001b[0m\n",
      "\u001b[1;31mFileNotFoundError\u001b[0m: [Errno 2] No such file or directory: 'rl\\\\helpers\\\\start_states.json'"
     ]
    }
   ],
   "source": [
    "import rl.environments\n",
    "import yaml\n",
    "from stable_baselines import PPO2\n",
    "from stable_baselines.common.vec_env import DummyVecEnv\n",
    "import rl.helpers\n",
    "import gym\n",
    "from stable_baselines.gail import generate_expert_traj\n",
    "from stable_baselines.gail import ExpertDataset\n",
    "from stable_baselines import PPO2\n",
    "import pathlib\n",
    "from os.path import join\n",
    "from stable_baselines.common import make_vec_env\n",
    "from stable_baselines.common.callbacks import EvalCallback\n",
    "\n",
    "path = 'D:/Drive/git/RL/'\n",
    "env_name = 'AbstractConveyor1'\n",
    "subdir = '20210102_1000'\n",
    "\n",
    "config_path = join(path, 'rl', 'config','{}.yml'.format(env_name))\n",
    "with open(config_path, 'r') as f:\n",
    "    config = yaml.safe_load(f)\n",
    "\n",
    "env_obj = getattr(rl.environments, env_name)\n",
    "env = env_obj(config)\n",
    "\n",
    "def decode_binary(binary_array):\n",
    "    return [int(\"\".join([str(n) for n in [int(l) for l in list(binary_array[i-2:i])]]),2) for i in range(2,len(binary_array)+2,2)]\n",
    "\n",
    "def decode_action(order_type, goal):\n",
    "    return (order_type-1 )* env.amount_of_gtps + goal\n",
    "\n",
    "def dummy_expert(obs):\n",
    "    \"\"\"\n",
    "    Based on observation , heuristic determines the policy  ( can only take observation [4, 15, 16, 17, 18])\n",
    "\n",
    "    :param _obs: (np.ndarray) Current observation\n",
    "    :return: (np.ndarray) action taken by the expert\n",
    "    \"\"\"\n",
    "    threshold = 15\n",
    "    \n",
    "    demands = decode_binary(obs[:2*env.amount_of_gtps*env.in_que_observed])\n",
    "    queue_demands = [demands[i*env.in_que_observed: env.in_que_observed +i*env.in_que_observed] for i in range(env.amount_of_gtps)]\n",
    "    W_rpt = obs[2*env.amount_of_gtps*env.in_que_observed:2*env.amount_of_gtps*env.in_que_observed+env.amount_of_gtps]\n",
    "    max_time_w = 6 if env.amount_of_outputs==1 else 30 if env.amount_of_outputs==2 else 60\n",
    "    W_rpt = W_rpt * max_time_w\n",
    "    \n",
    "    \n",
    "    Q_rpt = obs[2*env.amount_of_gtps*env.in_que_observed+env.amount_of_gtps:2*env.amount_of_gtps*env.in_que_observed+env.amount_of_gtps*2]\n",
    "    max_time_q = max_time_w*env.gtp_buffer_length\n",
    "    Q_rpt = Q_rpt * max_time_q\n",
    "    \n",
    "    P_rpt = obs[2*env.amount_of_gtps*env.in_que_observed+env.amount_of_gtps*2:2*env.amount_of_gtps*env.in_que_observed+env.amount_of_gtps*3]\n",
    "    P_rpt = P_rpt*env.pipeline_length\n",
    "    \n",
    "    in_pipe = obs[2 * env.amount_of_gtps * env.in_que_observed + env.amount_of_gtps * 3:2 * env.amount_of_gtps * env.in_que_observed + env.amount_of_gtps * 4]\n",
    "    #in_pipe = obs[-env.amount_of_gtps:]\n",
    "    in_pipe = in_pipe*env.pipeline_length\n",
    "    in_pipe = in_pipe.astype(int)\n",
    "    \n",
    "    actions_list = []\n",
    "    for workstation in range(env.amount_of_gtps)[::-1]:\n",
    "        total_rpt = W_rpt[workstation] + Q_rpt[workstation] + P_rpt[workstation]\n",
    "        total_pipe = env.pipeline_length + env.gtp_buffer_length + workstation * 4 + 2\n",
    "        \n",
    "        if total_rpt - total_pipe < threshold:\n",
    "            try:\n",
    "                current_demand = queue_demands[workstation][in_pipe[workstation]]\n",
    "                actions_list.append((current_demand, workstation + 1))\n",
    "            except:\n",
    "                pass\n",
    "    \n",
    "    try:\n",
    "        order_type, goal = actions_list[0]\n",
    "        actions_list = actions_list[1:]\n",
    "\n",
    "    except:\n",
    "        order_type, goal = 0, 0\n",
    "    \n",
    "    if order_type ==0 and goal == 0:\n",
    "        action = 0\n",
    "        \n",
    "    else:\n",
    "        action = decode_action(order_type, goal)\n",
    "\n",
    "    \n",
    "    return action\n",
    "\n",
    "## Generate Data based on heuristic for pre-training\n",
    "# Data will be saved in a numpy archive named `heuristic_expert.npz`\n"
   ]
  },
  {
   "cell_type": "code",
   "execution_count": 9,
   "metadata": {},
   "outputs": [
    {
     "data": {
      "text/plain": [
       "WindowsPath('D:/Drive/git/RL/Notebooks')"
      ]
     },
     "execution_count": 9,
     "metadata": {},
     "output_type": "execute_result"
    }
   ],
   "source": [
    "path = pathlib.Path().absolute()\n",
    "path"
   ]
  },
  {
   "cell_type": "code",
   "execution_count": 502,
   "metadata": {},
   "outputs": [
    {
     "name": "stdout",
     "output_type": "stream",
     "text": [
      "0\n",
      "{0: 0, 1: 0, 2: 0, 3: 0, 4: 0}\n"
     ]
    },
    {
     "data": {
      "image/png": "[encoded data removed]",
      "text/plain": [
       "<Figure size 432x288 with 1 Axes>"
      ]
     },
     "metadata": {
      "needs_background": "light"
     },
     "output_type": "display_data"
    }
   ],
   "source": [
    "print(dummy_expert(env.make_observation()))\n",
    "env.step(dummy_expert(env.make_observation()))\n",
    "print(env.idle_times_operator)\n",
    "env.render_plt()"
   ]
  },
  {
   "cell_type": "code",
   "execution_count": 2,
   "metadata": {
    "scrolled": true
   },
   "outputs": [
    {
     "name": "stdout",
     "output_type": "stream",
     "text": [
      "actions (71552, 1)1483, R: 0.0000\n",
      "obs (71552, 28)\n",
      "rewards (71552,)\n",
      "episode_returns (50,)\n",
      "episode_starts (71552,)\n"
     ]
    },
    {
     "data": {
      "text/plain": [
       "{'actions': array([[0],\n",
       "        [0],\n",
       "        [0],\n",
       "        ...,\n",
       "        [0],\n",
       "        [0],\n",
       "        [0]]), 'obs': array([[1., 0., 1., ..., 6., 2., 1.],\n",
       "        [1., 0., 1., ..., 6., 1., 1.],\n",
       "        [1., 0., 1., ..., 6., 1., 1.],\n",
       "        ...,\n",
       "        [0., 1., 1., ..., 6., 0., 1.],\n",
       "        [0., 1., 1., ..., 6., 0., 1.],\n",
       "        [0., 1., 1., ..., 6., 0., 1.]]), 'rewards': array([10.,  0.,  0., ...,  0.,  0.,  0.]), 'episode_returns': array([ 365.,  535.,  520.,  810.,  525.,  420.,  285., -130.,  425.,\n",
       "         650.,  370.,  520.,  520.,  965.,  430.,  365.,  590.,  570.,\n",
       "         405.,  620.,  475.,  530.,  520.,  470.,  535.,  840.,  370.,\n",
       "         530.,  580.,  330.,  490.,   35.,  465.,  250.,  515.,  365.,\n",
       "         635.,  240.,  515.,  410.,  555.,  795.,  335.,  620.,  675.,\n",
       "         630.,  720.,  445.,  650.,  485.]), 'episode_starts': array([ True, False, False, ..., False, False, False])}"
      ]
     },
     "execution_count": 2,
     "metadata": {},
     "output_type": "execute_result"
    }
   ],
   "source": [
    "## Generate Data based on heuristic for pre-training\n",
    "# Data will be saved in a numpy archive named `heuristic_expert.npz`\n",
    "env.reset()\n",
    "generate_expert_traj(dummy_expert, 'heuristic_expert', env, n_episodes=100)"
   ]
  }
 ],
 "metadata": {
  "kernelspec": {
   "display_name": "th_new-venv",
   "language": "python",
   "name": "th_new-venv"
  },
  "language_info": {
   "codemirror_mode": {
    "name": "ipython",
    "version": 3
   },
   "file_extension": ".py",
   "mimetype": "text/x-python",
   "name": "python",
   "nbconvert_exporter": "python",
   "pygments_lexer": "ipython3",
   "version": "3.7.5"
  }
 },
 "nbformat": 4,
 "nbformat_minor": 4
}
